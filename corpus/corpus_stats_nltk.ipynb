{
 "cells": [
  {
   "cell_type": "markdown",
   "id": "920ea2ff",
   "metadata": {},
   "source": [
    "# Basis of Corpus\n",
    "\n",
    "A series of basic natural language processing (NLP) steps in Spanish are performed, applied to a corpus of tweets. "
   ]
  },
  {
   "cell_type": "code",
   "execution_count": null,
   "id": "d1d1f72f",
   "metadata": {},
   "outputs": [],
   "source": [
    "#Usar nltk en un notebook\n",
    "import nltk\n",
    "#nltk.download('punkt')\n",
    "\n",
    "from nltk.tokenize import TweetTokenizer\n"
   ]
  },
  {
   "cell_type": "markdown",
   "id": "97cfdd17",
   "metadata": {},
   "source": [
    "# First way to create a Corpus"
   ]
  },
  {
   "cell_type": "code",
   "execution_count": 14,
   "id": "72bafaee",
   "metadata": {},
   "outputs": [],
   "source": [
    "import nltk\n",
    "#nltk.download('punkt')\n",
    "from nltk.tokenize import TweetTokenizer\n",
    "def get_texts_from_file(path_corpus,path_thruth):\n",
    "    \"\"\"\n",
    "    Reads a corpus and its correspondig labels from files.\n",
    "    Args:\n",
    "        path_corpus (.txt): Path to the corpus file.\n",
    "        path_thruth (.txt): Path to the labels file.\n",
    "    Returns:\n",
    "        tr_txt (list): List of tweets from the corpus.\n",
    "        tr_y (list): List of labels corresponding to the tweets.\n",
    "    \"\"\"\n",
    "    tr_txt=[]\n",
    "    tr_y=[]    \n",
    "    with open(path_corpus, 'r') as f_corpus, open(path_thruth, 'r') as f_thruth:\n",
    "        for twitt in f_corpus:\n",
    "            tr_txt.append(twitt) \n",
    "        for label in f_thruth:\n",
    "            tr_y.append(int(label)) \n",
    "    return tr_txt,tr_y\n",
    "tr_txt,tr_y=get_texts_from_file('./mex20_train.txt','./mex20_train_labels.txt')\n",
    "tokenizer=TweetTokenizer()\n",
    "tokens = [token for doc in tr_txt for token in tokenizer.tokenize(doc)] #create a list of tokens from the corpus"
   ]
  },
  {
   "cell_type": "markdown",
   "id": "0ebe7dfa",
   "metadata": {},
   "source": [
    "# Regular Expressions\n",
    "Now that a corpus has been created, it can do some basic things like search for words, replace tokens and more."
   ]
  },
  {
   "cell_type": "code",
   "execution_count": 15,
   "id": "94bb1dbf",
   "metadata": {},
   "outputs": [
    {
     "name": "stdout",
     "output_type": "stream",
     "text": [
      "Found 'hola' in tweet 392:\n",
      "Found 'hola' in tweet 806:\n",
      "Found 'hola' in tweet 1777:\n",
      "Found 'hola' in tweet 2445:\n",
      "Found 'hola' in tweet 3621:\n",
      "Found 'hola' in tweet 4658:\n",
      "Found 'hola' in tweet 5109:\n"
     ]
    }
   ],
   "source": [
    "import re\n",
    "\n",
    "for i in range(len(tr_txt)):\n",
    "    word1=re.findall(\"hola\",tr_txt[i]) #find all the words \"hola\" \n",
    "    if word1:\n",
    "        print(f\"Found 'hola' in tweet {i+1}:\")"
   ]
  },
  {
   "cell_type": "code",
   "execution_count": 16,
   "id": "e65b03e7",
   "metadata": {},
   "outputs": [
    {
     "name": "stdout",
     "output_type": "stream",
     "text": [
      "['Las alitas de wings army ahora me supieron feas 😐']\n",
      "['Me duele la cabeza, me duele el corazón, chingas a tu madre si tocas otra canción', '']\n",
      "['ToysRUs es uno de los negocios peor llevados en EEUU', ' Tiendas feas, viejas y caras', '']\n"
     ]
    }
   ],
   "source": [
    "for tweet in tr_txt[-3:]:  \n",
    "    print(re.split(r'[.!?]+', tweet.strip())) #Divide the tweet into sentences (only the first 3 tweets)\n"
   ]
  },
  {
   "cell_type": "code",
   "execution_count": 17,
   "id": "cdee527e",
   "metadata": {},
   "outputs": [
    {
     "name": "stdout",
     "output_type": "stream",
     "text": [
      "Las alitas de wings army ahora me supieron feas 😐\n",
      "Me duele la cabeza, me duele el corazón, chingas a tu madre                tocas otra canción.\n",
      "ToysRUs es uno de los negocios peor llevados en EEUU. Tiendas feas, viejas y caras.\n"
     ]
    }
   ],
   "source": [
    "word2 = [re.sub(r'si', '              ', tweet) for tweet in tr_txt] #Replace pattern:si with empty string\n",
    "for tweet in word2[-3:]:                                             #print the last 3 tweets with the pattern replaced\n",
    "    print(tweet.strip())                                             #print the tweet without leading and trailing spaces\n"
   ]
  },
  {
   "cell_type": "markdown",
   "id": "069b5bed",
   "metadata": {},
   "source": [
    "# A smarter way to create a corpus \n",
    "\n",
    "Is by RegexpTokenizer helps clean and tokenize the text in one step."
   ]
  },
  {
   "cell_type": "code",
   "execution_count": 27,
   "id": "5f92e4cf",
   "metadata": {},
   "outputs": [
    {
     "name": "stdout",
     "output_type": "stream",
     "text": [
      "Number of tokens: 84627\n",
      "Number of unique tokens: 14627\n",
      "Number of sentences: 3980\n"
     ]
    }
   ],
   "source": [
    "from nltk.tokenize import RegexpTokenizer\n",
    "import nltk\n",
    "\n",
    "tokenizer = RegexpTokenizer(r'\\w+') \n",
    "corpus = ' '.join(tr_txt)\n",
    "tokens_regexp = tokenizer.tokenize(corpus) #tokekize the corpus using RegexpTokenizer\n",
    "text_nltk = nltk.Text(tokens_regexp)       #make a text object from the tokens\n",
    "\n",
    "print(f\"Number of tokens: {len(tokens_regexp)}\")\n",
    "print(f\"Number of unique tokens: {len(set(tokens_regexp))}\")\n",
    "print(f\"Number of sentences: {len(nltk.sent_tokenize(corpus))}\")"
   ]
  },
  {
   "cell_type": "code",
   "execution_count": 19,
   "id": "cc0505df",
   "metadata": {},
   "outputs": [
    {
     "data": {
      "image/png": "[encoded data removed]",
      "text/plain": [
       "<Figure size 640x480 with 1 Axes>"
      ]
     },
     "metadata": {},
     "output_type": "display_data"
    }
   ],
   "source": [
    "from nltk.tokenize import RegexpTokenizer\n",
    "from nltk import Text\n",
    "import matplotlib.pyplot as plt\n",
    "with open('./mex20_train.txt', 'r', encoding='utf-8') as f:\n",
    "    raw_text = f.read()\n",
    "\n",
    "tokenizer = RegexpTokenizer(r'\\w+')\n",
    "tokens = tokenizer.tokenize(raw_text)\n",
    "corpus_text = Text(tokens)\n",
    "special_words = [\"hola\", \"jaja\", \"soy\"]       #List of special words to highlight in the plot\n",
    "corpus_text.dispersion_plot(special_words)    \n",
    "plt.show()\n"
   ]
  },
  {
   "cell_type": "code",
   "execution_count": 24,
   "id": "df962472",
   "metadata": {},
   "outputs": [
    {
     "data": {
      "image/png": "[encoded data removed]",
      "text/plain": [
       "<Figure size 640x480 with 1 Axes>"
      ]
     },
     "metadata": {},
     "output_type": "display_data"
    }
   ],
   "source": [
    "import matplotlib.pyplot as plt\n",
    "\n",
    "longs = [len(palabra) for palabra in tokens]  #Calculate the length of each word in the corpus# Definir límite máximo de longitud a mostrar\n",
    "max_len = 20\n",
    "longs_filtradas = [l for l in longs if l <= max_len] \n",
    "\n",
    "# Histogram of lenfths of words\n",
    "plt.hist(longs_filtradas, bins=range(1, max_len + 2), edgecolor='black', align='left')\n",
    "plt.title('Histogram or Word Lenghts')\n",
    "plt.xlabel('Length of words')\n",
    "plt.ylabel('Frequency')\n",
    "plt.xticks(range(1, max_len + 1))  \n",
    "plt.show()\n"
   ]
  },
  {
   "cell_type": "code",
   "execution_count": 25,
   "id": "045bb8c0",
   "metadata": {},
   "outputs": [
    {
     "name": "stdout",
     "output_type": "stream",
     "text": [
      "Top 5 words wothout sopwords:\n",
      "USUARIO: 1401\n",
      "verga: 696\n",
      "madre: 666\n",
      "putas: 500\n",
      "putos: 465\n"
     ]
    }
   ],
   "source": [
    "from nltk.corpus import stopwords   #A stopword is a word that is filtered out before or after processing of text.\n",
    "from collections import Counter\n",
    "stopwords_es = set(stopwords.words('spanish'))\n",
    "words_sin_stopword = [palabra for palabra in tokens if palabra.lower() not in stopwords_es]\n",
    "frecuencia_sin_stopwords = Counter(words_sin_stopword)\n",
    "top10_sstpw = frecuencia_sin_stopwords.most_common(5)\n",
    "\n",
    "print(\"Top 5 words without sopwords:\")\n",
    "for palabra, freq in top10_sstpw:\n",
    "    print(f\"{palabra}: {freq}\")"
   ]
  },
  {
   "cell_type": "code",
   "execution_count": null,
   "id": "a359f1d0",
   "metadata": {},
   "outputs": [],
   "source": []
  }
 ],
 "metadata": {
  "kernelspec": {
   "display_name": "Python 3",
   "language": "python",
   "name": "python3"
  },
  "language_info": {
   "codemirror_mode": {
    "name": "ipython",
    "version": 3
   },
   "file_extension": ".py",
   "mimetype": "text/x-python",
   "name": "python",
   "nbconvert_exporter": "python",
   "pygments_lexer": "ipython3",
   "version": "3.9.6"
  }
 },
 "nbformat": 4,
 "nbformat_minor": 5
}
