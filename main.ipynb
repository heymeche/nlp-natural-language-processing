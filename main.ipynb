{
 "cells": [
  {
   "cell_type": "markdown",
   "id": "11145913",
   "metadata": {},
   "source": [
    "Los archivos los tengo clasificados como sigue:\n",
    "## Archivo 1\n",
    "### Creacion y estadisicas de corpus\n",
    "### Funciones NLTK\n",
    "\n",
    "## Archivo 2\n",
    "### Bolsas de palabras\n",
    "#### tfidf\n",
    "#### binario\n",
    "#### frecuencia\n",
    "### Bolsa de emociones-Emolex\n",
    "### SVM\n",
    "\n",
    "## Archivo 3\n",
    "### TCOR\n",
    "#### chi-squared\n",
    "#### constelacion de palabras\n",
    "#### grafica con similitud de palabras\n",
    "### Random Indexing\n",
    "### Similitud Coseno\n",
    "### Ganancia de Información\n",
    "\n",
    "## Archivo 4\n",
    "### Modelo de Lenguaje\n",
    "#### N-gram\n",
    "#### Probabilistico\n",
    "#### N grama con $\\lambda$ fijo e interpolado\n",
    "### Expectation Maximization\n",
    "### Inferencia tipo juego ahorcado\n",
    "\n",
    "## Archivo 5\n",
    "### Modelo de Lenguaje Neuronal\n",
    "#### nivel palabra(con y sin pre embeddings entrenados)\n",
    "#### nivel caracter\n",
    "\n",
    "## Archivo 6\n",
    "### GRU\n",
    "### Atención Jerarquica\n",
    "\n",
    "## Archivo 7 \n",
    "### Caso: Opiniones TripAdvisor con clasificaciones y estadisticas y más\n",
    "\n",
    "## Archivo 8 \n",
    "### Caaso: Bi clasificacion de autoprofiling"
   ]
  },
  {
   "cell_type": "markdown",
   "id": "e86ce844",
   "metadata": {},
   "source": []
  }
 ],
 "metadata": {
  "language_info": {
   "name": "python"
  }
 },
 "nbformat": 4,
 "nbformat_minor": 5
}
