{
 "cells": [
  {
   "cell_type": "markdown",
   "id": "06ccf4d4",
   "metadata": {},
   "source": [
    "# Bag of Words\n",
    "\n",
    "The **Bag-of-Words (BoW)** representation is a basic technique in natural language processing (NLP) that converts text into a set of numbers. It calculates how often words appear in a document, ignoring the order and grammar.\n",
    "\n",
    "In this approach, each document (e.g., a tweet) is represented as a vector. The length of the vector is equal to the size of the vocabulary, and each position in the vector represents a specific word in the vocabulary."
   ]
  },
  {
   "cell_type": "code",
   "execution_count": 5,
   "id": "b2aec0bf",
   "metadata": {},
   "outputs": [],
   "source": [
    "import numpy as np"
   ]
  },
  {
   "cell_type": "code",
   "execution_count": 6,
   "id": "45f245ca",
   "metadata": {},
   "outputs": [],
   "source": [
    "import nltk\n",
    "#nltk.download('punkt')\n",
    "from nltk.tokenize import TweetTokenizer\n",
    "def get_texts_from_file(path_corpus,path_thruth):\n",
    "    \"\"\"\n",
    "    Reads a corpus and its correspondig labels from files.\n",
    "    Args:\n",
    "        path_corpus (.txt): Path to the corpus file.\n",
    "        path_thruth (.txt): Path to the labels file.\n",
    "    Returns:\n",
    "        tr_txt (list): List of tweets from the corpus.\n",
    "        tr_y (list): List of labels corresponding to the tweets.\n",
    "    \"\"\"\n",
    "    tr_txt=[]\n",
    "    tr_y=[]    \n",
    "    with open(path_corpus, 'r') as f_corpus, open(path_thruth, 'r') as f_thruth:\n",
    "        for twitt in f_corpus:\n",
    "            tr_txt.append(twitt) \n",
    "        for label in f_thruth:\n",
    "            tr_y.append(int(label)) \n",
    "    return tr_txt,tr_y\n",
    "tr_txt,tr_y=get_texts_from_file('./mex20_train.txt','./mex20_train_labels.txt')\n",
    "tokenizer=TweetTokenizer()\n"
   ]
  },
  {
   "cell_type": "code",
   "execution_count": 7,
   "id": "b664a93e",
   "metadata": {},
   "outputs": [],
   "source": [
    "from nltk.tokenize import RegexpTokenizer\n",
    "import nltk\n",
    "\n",
    "tokenizer = RegexpTokenizer(r'\\w+') \n",
    "corpus = ' '.join(tr_txt)\n",
    "tokens_regexp = tokenizer.tokenize(corpus) #tokekize the corpus using RegexpTokenizer\n",
    "text_nltk = nltk.Text(tokens_regexp) "
   ]
  },
  {
   "cell_type": "code",
   "execution_count": 10,
   "id": "31d07042",
   "metadata": {},
   "outputs": [
    {
     "data": {
      "text/plain": [
       "(5278, 14627)"
      ]
     },
     "execution_count": 10,
     "metadata": {},
     "output_type": "execute_result"
    }
   ],
   "source": [
    "def sortFreqDict(freqdict):\n",
    "    aux = [(freqdict[key], key) for key in freqdict]\n",
    "    aux.sort()\n",
    "    aux.reverse()\n",
    "    return aux\n",
    "corpus_palabras = [token for doc in tr_txt for token in tokenizer.tokenize(doc)]\n",
    "\n",
    "fdist = nltk.FreqDist(corpus_palabras)\n",
    "V = sortFreqDict(fdist)  \n",
    "#V1=V[:5000]\n",
    "dict_indices1= dict()\n",
    "cont=0\n",
    "for width,word in V:\n",
    "    dict_indices1[word]=cont\n",
    "    cont+=1\n",
    "\n",
    "\n",
    "def build_bow_tr(tr_txt, V, dic_indices, mode=\"binary\"):\n",
    "    BoW = np.zeros((len(tr_txt), len(V)), dtype=float) \n",
    "\n",
    "    for i, doc in enumerate(tr_txt):\n",
    "        tokens = [token.lower() for token in tokenizer.tokenize(doc)]\n",
    "        fdist = nltk.FreqDist(tokens)  \n",
    "        total_words = sum(fdist.values())  \n",
    "        \n",
    "        for word, freq in fdist.items():\n",
    "            if word in dic_indices:\n",
    "                index = dic_indices[word]\n",
    "                if mode == \"binary\":\n",
    "                    BoW[i, index] = 1  \n",
    "                elif mode == \"freq\":\n",
    "                    BoW[i, index] = freq / total_words  \n",
    "                    \n",
    "    return BoW\n",
    "\n",
    "BoW_tr = build_bow_tr(tr_txt, V, dict_indices1, mode=\"freq\") \n",
    "BoW_tr.shape"
   ]
  },
  {
   "cell_type": "code",
   "execution_count": null,
   "id": "eb5c3026",
   "metadata": {},
   "outputs": [],
   "source": []
  }
 ],
 "metadata": {
  "kernelspec": {
   "display_name": "Python 3",
   "language": "python",
   "name": "python3"
  },
  "language_info": {
   "codemirror_mode": {
    "name": "ipython",
    "version": 3
   },
   "file_extension": ".py",
   "mimetype": "text/x-python",
   "name": "python",
   "nbconvert_exporter": "python",
   "pygments_lexer": "ipython3",
   "version": "3.9.6"
  }
 },
 "nbformat": 4,
 "nbformat_minor": 5
}
