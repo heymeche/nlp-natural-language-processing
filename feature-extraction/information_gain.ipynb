{
 "cells": [
  {
   "cell_type": "markdown",
   "id": "853909ea",
   "metadata": {},
   "source": [
    "# Information Gain\n",
    "**Information Gain (IG)** is a way to measure how useful a feature (like a word) is for sorting data. It is commonly used in tasks such as selecting features, building decision trees, and creating text models.<br>\n",
    "It shows how much uncertainty (entropy) about the category of an example is reduced if we know the value of a feature (e.g., whether or not a word appears in a tweet)."
   ]
  },
  {
   "cell_type": "code",
   "execution_count": 1,
   "id": "f78c2850",
   "metadata": {},
   "outputs": [],
   "source": [
    "# 📌 This notebook assumes that corpus processing, tokenization and BoW construction was already performed on the notebook:\n",
    "# 👉 'feature-extraction/bag_of_words.ipynb'\n",
    "\n",
    "#The variables used here (such as `BoW_tr`, `tr_txt`, `V1`, `dict_indices1`) were built there.\n",
    "#If you want to re-run the pipeline from scratch, check that file first."
   ]
  },
  {
   "cell_type": "markdown",
   "id": "10a6bf69",
   "metadata": {},
   "source": [
    "> 🔗 **Note:** The corpus loading, tokenization and construction of the Bag of Words is at\n",
    "> [`bag_of_words.ipynb`](./feature-extraction/bag_of_words.ipynb)"
   ]
  },
  {
   "cell_type": "code",
   "execution_count": 2,
   "id": "d8bcca00",
   "metadata": {},
   "outputs": [],
   "source": [
    "from collections import Counter\n",
    "def compute_gain(BoW, labels, vocab):\n",
    "    label_counts = Counter(labels)\n",
    "    HC = -sum((count / len(labels)) * np.log2(count / len(labels)) for count in label_counts.values()) #Entropia\n",
    "    IGs = {}\n",
    "\n",
    "    for term_idx, word in enumerate(vocab):\n",
    "        docs = BoW[:, term_idx] > 0  # Documentos donde aparece\n",
    "        n_docs = ~docs  # Documentos donde no aparece\n",
    "        docs_labels = [labels[i] for i in range(BoW.shape[0]) if docs[i]]\n",
    "        n_docs_labels = [labels[i] for i in range(BoW.shape[0]) if n_docs[i]]\n",
    "        def entropy_t(sub_labels):\n",
    "            count = Counter(sub_labels)\n",
    "            if len(sub_labels) == 0:\n",
    "                return 0\n",
    "            return -sum((c / len(sub_labels)) * np.log2(c / len(sub_labels)) for c in count.values())\n",
    "\n",
    "        HC_t = (len(docs_labels) / BoW.shape[0]) * entropy_t(docs_labels) + \\\n",
    "                      (len(n_docs_labels) / BoW.shape[0]) * entropy_t(n_docs_labels)\n",
    "        IG = HC - HC_t\n",
    "        IGs[word] = IG\n",
    "\n",
    "    return IGs"
   ]
  },
  {
   "cell_type": "code",
   "execution_count": 3,
   "id": "bcfb74fc",
   "metadata": {},
   "outputs": [],
   "source": [
    "IG_scores = compute_gain(BoW_tr, tr_y, V1)\n",
    "K=50\n",
    "top_words = dict(sorted(IG_scores.items(), key=lambda x: x[1], reverse=True)[:50])"
   ]
  },
  {
   "cell_type": "code",
   "execution_count": null,
   "id": "17106d87",
   "metadata": {},
   "outputs": [],
   "source": []
  }
 ],
 "metadata": {
  "kernelspec": {
   "display_name": "Python 3",
   "language": "python",
   "name": "python3"
  },
  "language_info": {
   "codemirror_mode": {
    "name": "ipython",
    "version": 3
   },
   "file_extension": ".py",
   "mimetype": "text/x-python",
   "name": "python",
   "nbconvert_exporter": "python",
   "pygments_lexer": "ipython3",
   "version": "3.9.6"
  }
 },
 "nbformat": 4,
 "nbformat_minor": 5
}
