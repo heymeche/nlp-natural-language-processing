{
 "cells": [
  {
   "cell_type": "markdown",
   "id": "4d48b28f",
   "metadata": {},
   "source": [
    "# Bag of Emotions\n",
    "**Bag of Emotions (BoE)** is a way to represent text that counts the emotions associated with words instead of the number of words.\n",
    "\n",
    "This is similar to BoW:\n",
    "\n",
    "- Each document (e.g., a tweet) is represented as a vector.\n",
    "- Each position in the vector represents a specific emotion (rather than a word).\n",
    "- The value at that position shows how many times that emotion appears in the document, according to the emotional dictionary."
   ]
  },
  {
   "cell_type": "code",
   "execution_count": 6,
   "id": "e63aebde",
   "metadata": {},
   "outputs": [],
   "source": [
    "# 📌 This notebook assumes that corpus processing, tokenization and BoW construction was already performed on the notebook:\n",
    "# 👉 'feature-extraction/bag_of_words.ipynb'\n",
    "\n",
    "#The variables used here (such as `BoW_tr`, `tr_txt`, `V1`, `dict_indices1`) were built there.\n",
    "#If you want to re-run the pipeline from scratch, check that file first."
   ]
  },
  {
   "cell_type": "markdown",
   "id": "7281a8bf",
   "metadata": {},
   "source": [
    "> 🔗 **Note:** The corpus loading, tokenization and construction of the Bag of Words is at\n",
    "> [`bag_of_words.ipynb`](./feature-extraction/bag_of_words.ipynb)"
   ]
  },
  {
   "cell_type": "code",
   "execution_count": 2,
   "id": "ecce4c70",
   "metadata": {},
   "outputs": [],
   "source": [
    "\n",
    "from sklearn import svm \n",
    "from sklearn.model_selection import GridSearchCV \n",
    "\n",
    "tr_y=list(map(int,tr_y)) \n",
    "parameters= {'C':[0.5, 0.12, 0.25, 0.5, 1, 2, 4]}\n",
    "svm=svm.LinearSVC(class_weight='balanced',dual=False) \n",
    "grid=GridSearchCV(estimator=svm,param_grid=parameters,n_jobs=8,scoring='f1',cv=5) \n",
    "val_txt,val_y=get_texts_from_file('./mex20_val.txt','./mex20_val_labels.txt')"
   ]
  },
  {
   "cell_type": "code",
   "execution_count": null,
   "id": "070431be",
   "metadata": {},
   "outputs": [
    {
     "data": {
      "text/plain": [
       "((5278, 10), (587, 10))"
      ]
     },
     "execution_count": 4,
     "metadata": {},
     "output_type": "execute_result"
    }
   ],
   "source": [
    "from collections import defaultdict\n",
    "import spacy\n",
    "import pandas as pd\n",
    "import numpy as np\n",
    "\n",
    "emolex_path = \"Spanish-NRC-EmoLex.txt\"\n",
    "emolex = pd.read_csv(emolex_path, sep='\\t')\n",
    "emolex_dict = defaultdict(list) \n",
    "\n",
    "for _, row in emolex.iterrows():\n",
    "    palabra = row[\"Spanish Word\"]  \n",
    "    emociones = row.iloc[1:-1]  \n",
    "    for emocion, valor in emociones.items():\n",
    "        if valor == 1:\n",
    "            emolex_dict[palabra].append(emocion)\n",
    "\n",
    "def lemma_emotions(tweets, emolex_dict):\n",
    "    tweets_emociones = [] \n",
    "    for tweet in tweets:\n",
    "        emociones = []\n",
    "        doc = nlp(tweet.lower())  \n",
    "        for token in doc:\n",
    "            lemma = token.lemma_  \n",
    "            if lemma in emolex_dict:\n",
    "                emociones.extend(emolex_dict[lemma])  # Add emotions for the lemma\n",
    "        tweets_emociones.append(emociones)\n",
    "    return tweets_emociones\n",
    "\n",
    "def build_boe(tweets_emociones):\n",
    "    emociones_unicas = sorted(set(emocion for emociones in tweets_emociones for emocion in emociones))\n",
    "    dict_indices_emociones = {emocion: i for i, emocion in enumerate(emociones_unicas)}\n",
    "    BoE = np.zeros((len(tweets_emociones), len(emociones_unicas)), dtype=int)\n",
    "    for i, emociones in enumerate(tweets_emociones):\n",
    "        for emocion in emociones:\n",
    "            index = dict_indices_emociones[emocion]\n",
    "            BoE[i, index] += 1  \n",
    "    return BoE, dict_indices_emociones\n",
    "\n",
    "nlp = spacy.load(\"es_core_news_sm\")\n",
    "\n",
    "tweets_emociones_tr = lemma_emotions(tr_txt, emolex_dict)\n",
    "tweets_emociones_val = lemma_emotions(val_txt, emolex_dict)\n",
    "\n",
    "BoE_tr, dict_indices_emociones = build_boe(tweets_emociones_tr)\n",
    "BoE_val, _ = build_boe(tweets_emociones_val)\n",
    "\n",
    "BoE_tr.shape, BoE_val.shape"
   ]
  },
  {
   "cell_type": "code",
   "execution_count": 5,
   "id": "1886b356",
   "metadata": {},
   "outputs": [
    {
     "name": "stdout",
     "output_type": "stream",
     "text": [
      "Tweet 1: Al perro que se te acerque le parto su madre a si de facil\n",
      "\n",
      "Emociones detectadas: ['anticipation', 'joy', 'negative', 'positive', 'sadness', 'trust']\n",
      "\n",
      "Tweet 2: @USUARIO @USUARIO Él supo sacar a su familia adelante en lo que sabe en el mundo existen muchas personas ardidas como tú 🤷🏻‍♀️\n",
      "\n",
      "Emociones detectadas: ['positive', 'positive']\n",
      "\n",
      "Tweet 3: @USUARIO Entonces para que quieres estar en sus paises?, mejor vente aca y chinguele cabrona de verdad, maldita sangana.\n",
      "\n",
      "Emociones detectadas: ['positive', 'trust', 'anger', 'fear', 'negative', 'sadness', 'anger', 'fear', 'negative', 'sadness', 'negative']\n",
      "\n",
      "Tweet 4: Que bueno que hoy juega México, porque tú vales verga, hija de la chingada.\n",
      "\n",
      "Emociones detectadas: ['anticipation', 'joy', 'positive', 'surprise', 'trust', 'negative', 'joy', 'positive']\n",
      "\n",
      "Tweet 5: Ojalá un día me valgas la misma verga que al vato de la cfe despelucando y ponchando a medio del puente del puente a Cd judicial\n",
      "\n",
      "Emociones detectadas: ['anticipation', 'positive', 'trust', 'anticipation', 'trust']\n",
      "\n",
      "Tweet 6: Hoy mi outfit fue de licenciado/ papá... Padre que no vale verga y licenciado sin trabajo.\n",
      "\n",
      "Emociones detectadas: ['trust', 'negative', 'anticipation', 'positive']\n",
      "\n",
      "Tweet 7: Me pregunto donde Chucha esta el supertanker   de la loca @USUARIO apagando estos incendios\n",
      "\n",
      "Emociones detectadas: ['anger', 'fear', 'negative', 'sadness']\n",
      "\n",
      "Tweet 8: Por un mega-error escuché parte de una canción de banda y decia \"Demosle vuelo a la hilacha\" Que putas madres 😂😂 #PenaAjena\n",
      "\n",
      "Emociones detectadas: ['negative', 'sadness', 'anger', 'disgust', 'negative', 'disgust', 'negative', 'anticipation', 'joy', 'negative', 'positive', 'sadness', 'trust']\n",
      "\n",
      "Tweet 9: En México estaremos de la verga pero al menos no estamos de la verga con Trump dirigiendo al país.\n",
      "\n",
      "Emociones detectadas: ['negative', 'anticipation']\n",
      "\n",
      "Tweet 10: Nomames al principio pense que cancer de pacientes con cancer, ya les iba a mentar la madrea no seas asi\n",
      "\n",
      "Emociones detectadas: ['anticipation', 'positive', 'negative', 'anticipation']\n",
      "\n"
     ]
    }
   ],
   "source": [
    "resultados = []\n",
    "num_mostrar=10\n",
    "for i, (tweet, emociones) in enumerate(zip(val_txt[:num_mostrar], tweets_emociones_val[:num_mostrar])):\n",
    "    indices_emociones = {dict_indices_emociones[emocion] for emocion in emociones if emocion in dict_indices_emociones}\n",
    "    resultado = f\"Tweet {i+1}: {tweet}\\nEmociones detectadas: {emociones}\\n\"\n",
    "    resultados.append(resultado)\n",
    "print(\"\\n\".join(resultados))"
   ]
  },
  {
   "cell_type": "code",
   "execution_count": null,
   "id": "d564d1e3",
   "metadata": {},
   "outputs": [],
   "source": []
  }
 ],
 "metadata": {
  "kernelspec": {
   "display_name": "Python 3",
   "language": "python",
   "name": "python3"
  },
  "language_info": {
   "codemirror_mode": {
    "name": "ipython",
    "version": 3
   },
   "file_extension": ".py",
   "mimetype": "text/x-python",
   "name": "python",
   "nbconvert_exporter": "python",
   "pygments_lexer": "ipython3",
   "version": "3.9.6"
  }
 },
 "nbformat": 4,
 "nbformat_minor": 5
}
