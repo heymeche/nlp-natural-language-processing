{
 "cells": [
  {
   "cell_type": "markdown",
   "metadata": {},
   "source": [
    "# Gru and Hiererchical Attention\n",
    "\n",
    "GRU (Gated Recurrent Unit) is a type of recurrent neural network (RNN) that:\n",
    "- It learns sequences of data, like sentences.\n",
    "- It has \"gates\" that control what information is kept or forgotten (like LSTM, but simpler).\n",
    "- It's useful for showing how things are related to each other over time or in different situations.\n",
    "\n",
    "\n",
    "Attention mechanism:\n",
    "\n",
    "- Allows the model to “focus” on certain parts of a sequence when making decisions.\n",
    "- Instead of just looking at the last hidden state of a sequence, it weights all intermediate states with “attention weights”."
   ]
  },
  {
   "cell_type": "code",
   "execution_count": null,
   "metadata": {},
   "outputs": [],
   "source": [
    "#Tools\n",
    "import os\n",
    "import shutil\n",
    "import random\n",
    "from typing import Tuple #Tiping es una libreria que permite definir tipos de variables\n",
    "from argparse import Namespace #Permite definir argumentos de entrada\n",
    "import matplotlib.pyplot as plt\n",
    "import re\n",
    "\n",
    "#Prepocessing\n",
    "import nltk\n",
    "from nltk.corpus import stopwords\n",
    "from nltk import ngrams\n",
    "import numpy as np\n",
    "from nltk import FreqDist\n",
    "import pandas as pd\n",
    "from nltk.tokenize import TweetTokenizer\n",
    "import math\n",
    "import seaborn as sns\n",
    "\n",
    "\n",
    "#Pythorch\n",
    "from torch.utils.data import DataLoader,TensorDataset,Dataset\n",
    "import torch\n",
    "import torch.nn as nn\n",
    "import torch.nn.functional as F\n",
    "from torch.nn.utils.rnn import pad_sequence, pad_packed_sequence, pack_padded_sequence\n",
    "from torch import optim\n",
    "\n",
    "\n",
    "#scikit-learn\n",
    "from sklearn.metrics import accuracy_score,confusion_matrix,f1_score,precision_recall_fscore_support\n",
    "from sklearn.preprocessing import LabelEncoder\n",
    "from sklearn.feature_selection import SelectKBest,chi2 #esta se tiene que cambiar por una a mano\n",
    "from sklearn.manifold import TSNE\n",
    "\n",
    "\n",
    "\n",
    "#Importar librerias de sklearn\n",
    "from sklearn import svm \n",
    "from sklearn.svm import LinearSVC\n",
    "from sklearn.model_selection import GridSearchCV\n",
    "from sklearn import metrics \n",
    "from sklearn.metrics import classification_report\n",
    "from IPython.display import display\n",
    "\n",
    "\n",
    "import pickle\n",
    "from tqdm.auto import tqdm\n",
    "import copy\n",
    "\n",
    "import xml.etree.ElementTree as ET\n",
    "import types"
   ]
  },
  {
   "cell_type": "code",
   "execution_count": null,
   "metadata": {},
   "outputs": [],
   "source": [
    "def limpiar_texto(texto):\n",
    "    \n",
    "    texto = re.sub(r'@\\w+', '', texto)                                          # Delete mentions\n",
    "    texto = re.sub(r'http\\S+|www\\S+|https\\S+', '', texto, flags=re.MULTILINE)   # Delete URLs\n",
    "    texto = re.sub(r'#\\w+', '', texto)                                          # Delete hashtags\n",
    "    texto = texto.encode('ascii', 'ignore').decode('ascii')                     # Delete emojis and simbols ASCII\n",
    "    texto = re.sub(r'(.)\\1{2,}', r'\\1\\1', texto)                                # Normalize repeated characters\n",
    "    texto = re.sub(r'[^\\w\\s.,!?¡¿]', '', texto)                                 # Delete special characters except .,!?¿ \n",
    "    texto = re.sub(r'\\s+', ' ', texto)                                          # Delete extra spaces\n",
    "    texto = texto.strip()                                                       # Delete leading and trailing spaces\n",
    "    texto = texto.lower()                                                       # Convert to lowercase\n",
    "\n",
    "    return texto"
   ]
  },
  {
   "cell_type": "code",
   "execution_count": 5,
   "metadata": {},
   "outputs": [],
   "source": [
    "def build_han_corpus(split_folder, label_type=\"country\"):\n",
    "    re_oraciones = re.compile(r'(?<!\\w\\.\\w.)(?<![A-Z][a-z]\\.)(?<=\\.|\\?|!)\\s')\n",
    "    truth_file = os.path.join(split_folder, 'truth.txt')\n",
    "\n",
    "    id2label = {}\n",
    "    for line in open(truth_file, 'r', encoding='utf-8'):\n",
    "        parts = line.strip().split(':::')\n",
    "        if len(parts) < 3:\n",
    "            continue\n",
    "        user_id = parts[0]\n",
    "        label = parts[2] if label_type == \"country\" else parts[1]\n",
    "        id2label[user_id] = label\n",
    "\n",
    "    user_texts = {}\n",
    "    user_labels = {}\n",
    "\n",
    "    for filename in tqdm(os.listdir(split_folder)):\n",
    "        if filename.endswith(\".xml\"):\n",
    "            user_id = filename.replace(\".xml\", \"\")\n",
    "            label = id2label.get(user_id)\n",
    "            if label is None:\n",
    "                continue\n",
    "\n",
    "            try:\n",
    "                tree = ET.parse(os.path.join(split_folder, filename))\n",
    "                root = tree.getroot()\n",
    "                documents = root.find(\"documents\")\n",
    "                all_text = \" \".join(doc.text for doc in documents.findall(\"document\") if doc.text)\n",
    "\n",
    "                oraciones = re_oraciones.split(all_text)\n",
    "                clean_sentences = []\n",
    "                for oracion in oraciones:\n",
    "                    clean = limpiar_texto(oracion.strip())\n",
    "                    if clean:\n",
    "                        words = clean.split()\n",
    "                        if words:\n",
    "                            clean_sentences.append(words)\n",
    "\n",
    "                if clean_sentences:\n",
    "                    user_texts[user_id] = clean_sentences\n",
    "                    user_labels[user_id] = label\n",
    "\n",
    "            except ET.ParseError:\n",
    "                print(f\"Error en {filename}.\")\n",
    "\n",
    "    print(f\"Procesados: {len(user_texts)} usuarios con oraciones limpias.\")\n",
    "    return user_texts, user_labels\n"
   ]
  },
  {
   "cell_type": "code",
   "execution_count": 6,
   "metadata": {},
   "outputs": [
    {
     "data": {
      "application/vnd.jupyter.widget-view+json": {
       "model_id": "c0ab1d30cdc84ebeb5b7650abdb03578",
       "version_major": 2,
       "version_minor": 0
      },
      "text/plain": [
       "  0%|          | 0/3362 [00:00<?, ?it/s]"
      ]
     },
     "metadata": {},
     "output_type": "display_data"
    },
    {
     "name": "stdout",
     "output_type": "stream",
     "text": [
      "Procesados: 3360 usuarios con oraciones limpias.\n"
     ]
    },
    {
     "data": {
      "application/vnd.jupyter.widget-view+json": {
       "model_id": "a561b37796434dc6a9865c532950bc48",
       "version_major": 2,
       "version_minor": 0
      },
      "text/plain": [
       "  0%|          | 0/843 [00:00<?, ?it/s]"
      ]
     },
     "metadata": {},
     "output_type": "display_data"
    },
    {
     "name": "stdout",
     "output_type": "stream",
     "text": [
      "Procesados: 840 usuarios con oraciones limpias.\n"
     ]
    }
   ],
   "source": [
    "train_texts, train_labels = build_han_corpus('/Users/andreasolorio/Desktop/cmt/python/ENE-AGO_25/NLP/TAREAS/Copia de TAREA 6/2025AuthorProfiling_Train_Val/es_train', label_type='country')\n",
    "val_texts, val_labels = build_han_corpus('/Users/andreasolorio/Desktop/cmt/python/ENE-AGO_25/NLP/TAREAS/Copia de TAREA 6/2025AuthorProfiling_Train_Val/es_val', label_type='country')"
   ]
  },
  {
   "cell_type": "code",
   "execution_count": 7,
   "metadata": {},
   "outputs": [],
   "source": [
    "def load_vocab_embeddings(filepath='word2vec_col.txt'):\n",
    "    vocab = {}\n",
    "    embeddings = []\n",
    "\n",
    "    with open(filepath, 'r', encoding='utf-8') as f:\n",
    "        first_line = f.readline()  \n",
    "        for idx, line in enumerate(f):\n",
    "            parts = line.strip().split()\n",
    "            if len(parts) < 10:  \n",
    "                continue\n",
    "            word = parts[0]\n",
    "            vector = list(map(float, parts[1:]))\n",
    "            vocab[word] = len(vocab)\n",
    "            embeddings.append(vector)\n",
    "\n",
    "    vocab[\"<UNK>\"] = len(vocab)\n",
    "    embedding_dim = len(embeddings[0])\n",
    "    embeddings.append([0.0] * embedding_dim)\n",
    "\n",
    "    embedding_matrix = np.array(embeddings, dtype=np.float32)\n",
    "    print(f\"Embeddings cargados: {embedding_matrix.shape}, Vocabulario: {len(vocab)}\")\n",
    "    return vocab, embedding_matrix"
   ]
  },
  {
   "cell_type": "code",
   "execution_count": 8,
   "metadata": {},
   "outputs": [],
   "source": [
    "class HierarchicalAttentionDataset(Dataset):\n",
    "    def __init__(self, user_texts, user_labels, vocab, label_encoder):\n",
    "        self.user_ids = list(user_texts.keys())\n",
    "        self.texts = user_texts\n",
    "        self.labels = [label_encoder.transform([user_labels[uid]])[0] for uid in self.user_ids]\n",
    "        self.vocab = vocab\n",
    "\n",
    "    def __len__(self):\n",
    "        return len(self.user_ids)\n",
    "\n",
    "    def __getitem__(self, idx):\n",
    "        uid = self.user_ids[idx]\n",
    "        label = self.labels[idx]\n",
    "\n",
    "        doc = self.texts[uid]\n",
    "        doc_ids = []\n",
    "\n",
    "        for sent in doc:\n",
    "            word_ids = [self.vocab.get(word, self.vocab[\"<UNK>\"]) for word in sent]\n",
    "            doc_ids.append(torch.tensor(word_ids, dtype=torch.long))\n",
    "\n",
    "        return doc_ids, label\n"
   ]
  },
  {
   "cell_type": "code",
   "execution_count": 9,
   "metadata": {},
   "outputs": [],
   "source": [
    "class Attention(nn.Module):\n",
    "    def __init__(self, hidden_dim):\n",
    "        super().__init__()\n",
    "        self.attn = nn.Linear(hidden_dim, 1)\n",
    "\n",
    "    def forward(self, x, mask=None):\n",
    "        # x: (batch, seq_len, hidden_dim)\n",
    "        scores = self.attn(x).squeeze(-1)  # (batch, seq_len)\n",
    "        if mask is not None:\n",
    "            scores = scores.masked_fill(mask == 0, -1e9)\n",
    "        weights = torch.softmax(scores, dim=-1)  # (batch, seq_len)\n",
    "        context = torch.sum(x * weights.unsqueeze(-1), dim=1)  # (batch, hidden_dim)\n",
    "        return context, weights\n"
   ]
  },
  {
   "cell_type": "code",
   "execution_count": 10,
   "metadata": {},
   "outputs": [],
   "source": [
    "class HAN(nn.Module):\n",
    "    def __init__(self, embedding_matrix, word_hidden=50, sent_hidden=50, num_classes=4):\n",
    "        super().__init__()\n",
    "        vocab_size, emb_dim = embedding_matrix.shape\n",
    "        self.embedding = nn.Embedding.from_pretrained(torch.tensor(embedding_matrix), freeze=False)\n",
    "\n",
    "        self.word_gru = nn.GRU(emb_dim, word_hidden, batch_first=True, bidirectional=True)\n",
    "        self.word_attention = Attention(word_hidden * 2)\n",
    "\n",
    "        self.sent_gru = nn.GRU(word_hidden * 2, sent_hidden, batch_first=True, bidirectional=True)\n",
    "        self.sent_attention = Attention(sent_hidden * 2)\n",
    "\n",
    "        self.classifier = nn.Linear(sent_hidden * 2, num_classes)\n",
    "\n",
    "    def forward(self, docs, sent_lens=None):\n",
    "        batch_size, num_sents, num_words = docs.size()\n",
    "        docs = docs.view(-1, num_words)\n",
    "        x = self.embedding(docs)\n",
    "        word_output, _ = self.word_gru(x)\n",
    "        sent_vecs, _ = self.word_attention(word_output)\n",
    "        sent_vecs = sent_vecs.view(batch_size, num_sents, -1)\n",
    "        sent_output, _ = self.sent_gru(sent_vecs)\n",
    "        doc_vecs, _ = self.sent_attention(sent_output)\n",
    "        return self.classifier(doc_vecs), None\n"
   ]
  },
  {
   "cell_type": "code",
   "execution_count": null,
   "metadata": {},
   "outputs": [],
   "source": [
    "def collate_fn(batch):\n",
    "    docs, labels = zip(*batch)\n",
    "    max_sents = max(len(doc) for doc in docs)\n",
    "    max_words = max(max(len(sent) for sent in doc) for doc in docs)\n",
    "\n",
    "    padded_docs = []\n",
    "    sent_lens = []\n",
    "\n",
    "    for doc in docs:\n",
    "        padded_sents = []\n",
    "        sent_lens.append(len(doc))  \n",
    "        for sent in doc:\n",
    "            padded_sent = F.pad(sent, (0, max_words - len(sent)), value=0)\n",
    "            padded_sents.append(padded_sent)\n",
    "        while len(padded_sents) < max_sents:\n",
    "            padded_sents.append(torch.zeros(max_words, dtype=torch.long))\n",
    "        padded_docs.append(torch.stack(padded_sents))\n",
    "\n",
    "    return torch.stack(padded_docs), sent_lens, torch.tensor(labels), [\"\"] * len(labels)\n"
   ]
  },
  {
   "cell_type": "code",
   "execution_count": null,
   "metadata": {},
   "outputs": [
    {
     "data": {
      "application/vnd.jupyter.widget-view+json": {
       "model_id": "f2665d1ad3ed46f7b7ed86da304b94ff",
       "version_major": 2,
       "version_minor": 0
      },
      "text/plain": [
       "  0%|          | 0/3362 [00:00<?, ?it/s]"
      ]
     },
     "metadata": {},
     "output_type": "display_data"
    },
    {
     "name": "stdout",
     "output_type": "stream",
     "text": [
      "Procesados: 3360 usuarios con oraciones limpias.\n"
     ]
    },
    {
     "data": {
      "application/vnd.jupyter.widget-view+json": {
       "model_id": "c7e6f04aa44f43799ab898231abea95b",
       "version_major": 2,
       "version_minor": 0
      },
      "text/plain": [
       "  0%|          | 0/843 [00:00<?, ?it/s]"
      ]
     },
     "metadata": {},
     "output_type": "display_data"
    },
    {
     "name": "stdout",
     "output_type": "stream",
     "text": [
      "Procesados: 840 usuarios con oraciones limpias.\n",
      "Embeddings cargados: (973266, 100), Vocabulario: 973266\n"
     ]
    }
   ],
   "source": [
    "\n",
    "train_texts, train_labels_dict = build_han_corpus(\"/Users/andreasolorio/Desktop/cmt/python/ENE-AGO_25/NLP/TAREAS/Copia de TAREA 6/2025AuthorProfiling_Train_Val/es_train\")\n",
    "val_texts, val_labels_dict = build_han_corpus(\"/Users/andreasolorio/Desktop/cmt/python/ENE-AGO_25/NLP/TAREAS/Copia de TAREA 6/2025AuthorProfiling_Train_Val/es_val\")\n",
    "\n",
    "# vocabulary and embeddings\n",
    "vocab, embedding_matrix = load_vocab_embeddings(\"word2vec_col.txt\")\n",
    "\n",
    "# labels\n",
    "label_encoder = LabelEncoder()\n",
    "label_encoder.fit(list(train_labels_dict.values()) + list(val_labels_dict.values()))\n",
    "\n",
    "# datasets\n",
    "train_dataset = HierarchicalAttentionDataset(train_texts, train_labels_dict, vocab, label_encoder)\n",
    "val_dataset = HierarchicalAttentionDataset(val_texts, val_labels_dict, vocab, label_encoder)\n",
    "\n",
    "# dataloaders\n",
    "train_loader = DataLoader(train_dataset, batch_size=8, shuffle=True, collate_fn=collate_fn)\n",
    "val_loader = DataLoader(val_dataset, batch_size=8, shuffle=False, collate_fn=collate_fn)"
   ]
  },
  {
   "cell_type": "code",
   "execution_count": 17,
   "metadata": {},
   "outputs": [],
   "source": [
    "def eval_model(model, dataloader, criterion, device):\n",
    "    model.eval()\n",
    "    losses = []\n",
    "    preds = torch.empty(0).long()\n",
    "    targets = torch.empty(0).long()\n",
    "    for data in tqdm(dataloader):\n",
    "        torch.cuda.empty_cache()\n",
    "        seq, seq_len, labels, _ = data\n",
    "        seq, labels = seq.to(device), labels.to(device)\n",
    "        output, _ = model(seq, seq_len)\n",
    "        output = F.log_softmax(output, dim=1)\n",
    "        loss = criterion(output, labels)\n",
    "        losses.append(loss.item())\n",
    "        predictions = output.argmax(1)\n",
    "        preds = torch.cat([preds, predictions.cpu()], dim=0)\n",
    "        targets = torch.cat([targets, labels.cpu()], dim=0)\n",
    "\n",
    "    model.train()\n",
    "    f1 = f1_score(targets.numpy(), preds.numpy(), average='macro')\n",
    "    return np.mean(losses), f1\n"
   ]
  },
  {
   "cell_type": "code",
   "execution_count": 13,
   "metadata": {},
   "outputs": [],
   "source": [
    "lr = 0.001\n",
    "epochs = 10\n",
    "weight_decay=0.0001\n",
    "beta1=0\n",
    "beta2=0.999"
   ]
  },
  {
   "cell_type": "code",
   "execution_count": null,
   "metadata": {},
   "outputs": [],
   "source": [
    "device = torch.device(\"cpu\") \n",
    "model = HAN(embedding_matrix, num_classes=len(label_encoder.classes_))\n",
    "optimizer = torch.optim.Adam(model.parameters(), lr=lr, weight_decay=weight_decay, betas=(beta1, beta2))\n",
    "criterion = torch.nn.NLLLoss()\n",
    "patience = 5           \n",
    "epochs_without_improve = 0"
   ]
  },
  {
   "cell_type": "code",
   "execution_count": null,
   "metadata": {},
   "outputs": [],
   "source": [
    "def forward_Att(self, docs, sent_lens=None, return_attention=False):\n",
    "    batch_size, num_sents, num_words = docs.size()\n",
    "    docs = docs.view(-1, num_words)\n",
    "    x = self.embedding(docs)\n",
    "\n",
    "    word_output, _ = self.word_gru(x)\n",
    "    sent_vecs, word_att_weights = self.word_attention(word_output)\n",
    "\n",
    "    sent_vecs = sent_vecs.view(batch_size, num_sents, -1)\n",
    "    sent_output, _ = self.sent_gru(sent_vecs)\n",
    "    doc_vecs, sent_att_weights = self.sent_attention(sent_output)\n",
    "\n",
    "    logits = self.classifier(doc_vecs)\n",
    "    if return_attention:\n",
    "        return logits, (word_att_weights, sent_att_weights)\n",
    "    return logits\n",
    "\n",
    "model.forward = types.MethodType(forward_Att, model)"
   ]
  },
  {
   "cell_type": "code",
   "execution_count": null,
   "metadata": {},
   "outputs": [
    {
     "data": {
      "application/vnd.jupyter.widget-view+json": {
       "model_id": "fea32da2924340b093601962aa3355e6",
       "version_major": 2,
       "version_minor": 0
      },
      "text/plain": [
       "  0%|          | 0/420 [00:00<?, ?it/s]"
      ]
     },
     "metadata": {},
     "output_type": "display_data"
    },
    {
     "data": {
      "application/vnd.jupyter.widget-view+json": {
       "model_id": "3f0bc91d4bae47b7a8019d60b90f1e31",
       "version_major": 2,
       "version_minor": 0
      },
      "text/plain": [
       "  0%|          | 0/420 [00:00<?, ?it/s]"
      ]
     },
     "metadata": {},
     "output_type": "display_data"
    },
    {
     "data": {
      "application/vnd.jupyter.widget-view+json": {
       "model_id": "cec97b72346149069b0a496f74546686",
       "version_major": 2,
       "version_minor": 0
      },
      "text/plain": [
       "  0%|          | 0/105 [00:00<?, ?it/s]"
      ]
     },
     "metadata": {},
     "output_type": "display_data"
    },
    {
     "name": "stdout",
     "output_type": "stream",
     "text": [
      "epoch: 0\n",
      "train_loss: 0.588779 | val_loss: 0.694061 | train_f1: 0.831882 | val_f1: 0.775411\n",
      "Modelo mejorado guardado.\n"
     ]
    },
    {
     "data": {
      "application/vnd.jupyter.widget-view+json": {
       "model_id": "e2b1934dbfe54db5abdb0fd211f00e6b",
       "version_major": 2,
       "version_minor": 0
      },
      "text/plain": [
       "  0%|          | 0/420 [00:00<?, ?it/s]"
      ]
     },
     "metadata": {},
     "output_type": "display_data"
    },
    {
     "data": {
      "application/vnd.jupyter.widget-view+json": {
       "model_id": "9fb0cbd6c1574759b57d5473a21c32e4",
       "version_major": 2,
       "version_minor": 0
      },
      "text/plain": [
       "  0%|          | 0/420 [00:00<?, ?it/s]"
      ]
     },
     "metadata": {},
     "output_type": "display_data"
    },
    {
     "data": {
      "application/vnd.jupyter.widget-view+json": {
       "model_id": "18b05c955b784992ad9c3b31023e7de9",
       "version_major": 2,
       "version_minor": 0
      },
      "text/plain": [
       "  0%|          | 0/105 [00:00<?, ?it/s]"
      ]
     },
     "metadata": {},
     "output_type": "display_data"
    },
    {
     "name": "stdout",
     "output_type": "stream",
     "text": [
      "epoch: 1\n",
      "train_loss: 0.367793 | val_loss: 0.548022 | train_f1: 0.900077 | val_f1: 0.835620\n",
      "Modelo mejorado guardado.\n"
     ]
    },
    {
     "data": {
      "application/vnd.jupyter.widget-view+json": {
       "model_id": "bdd36b7be54a4f2fbe5b49f4fd99bc89",
       "version_major": 2,
       "version_minor": 0
      },
      "text/plain": [
       "  0%|          | 0/420 [00:00<?, ?it/s]"
      ]
     },
     "metadata": {},
     "output_type": "display_data"
    },
    {
     "data": {
      "application/vnd.jupyter.widget-view+json": {
       "model_id": "737740b05a2d4af99f2748a634fe439b",
       "version_major": 2,
       "version_minor": 0
      },
      "text/plain": [
       "  0%|          | 0/420 [00:00<?, ?it/s]"
      ]
     },
     "metadata": {},
     "output_type": "display_data"
    },
    {
     "data": {
      "application/vnd.jupyter.widget-view+json": {
       "model_id": "706c4b8e0255421cbd3fa73653363de2",
       "version_major": 2,
       "version_minor": 0
      },
      "text/plain": [
       "  0%|          | 0/105 [00:00<?, ?it/s]"
      ]
     },
     "metadata": {},
     "output_type": "display_data"
    },
    {
     "name": "stdout",
     "output_type": "stream",
     "text": [
      "epoch: 2\n",
      "train_loss: 0.214019 | val_loss: 0.519470 | train_f1: 0.938164 | val_f1: 0.839648\n",
      "Modelo mejorado guardado.\n"
     ]
    },
    {
     "data": {
      "application/vnd.jupyter.widget-view+json": {
       "model_id": "e32e64a76d06468295f01a1216417278",
       "version_major": 2,
       "version_minor": 0
      },
      "text/plain": [
       "  0%|          | 0/420 [00:00<?, ?it/s]"
      ]
     },
     "metadata": {},
     "output_type": "display_data"
    },
    {
     "data": {
      "application/vnd.jupyter.widget-view+json": {
       "model_id": "7b0f5de016c2449f842a92ee0193f2e2",
       "version_major": 2,
       "version_minor": 0
      },
      "text/plain": [
       "  0%|          | 0/420 [00:00<?, ?it/s]"
      ]
     },
     "metadata": {},
     "output_type": "display_data"
    },
    {
     "data": {
      "application/vnd.jupyter.widget-view+json": {
       "model_id": "378e30ac346e435086b15118405b146a",
       "version_major": 2,
       "version_minor": 0
      },
      "text/plain": [
       "  0%|          | 0/105 [00:00<?, ?it/s]"
      ]
     },
     "metadata": {},
     "output_type": "display_data"
    },
    {
     "name": "stdout",
     "output_type": "stream",
     "text": [
      "epoch: 3\n",
      "train_loss: 0.125768 | val_loss: 0.505261 | train_f1: 0.971836 | val_f1: 0.840017\n",
      "Modelo mejorado guardado.\n"
     ]
    },
    {
     "data": {
      "application/vnd.jupyter.widget-view+json": {
       "model_id": "8908b620fe4a4212981eb5c4c749c4ce",
       "version_major": 2,
       "version_minor": 0
      },
      "text/plain": [
       "  0%|          | 0/420 [00:00<?, ?it/s]"
      ]
     },
     "metadata": {},
     "output_type": "display_data"
    },
    {
     "data": {
      "application/vnd.jupyter.widget-view+json": {
       "model_id": "e1e891f7271c49e99dc79d638491d0f4",
       "version_major": 2,
       "version_minor": 0
      },
      "text/plain": [
       "  0%|          | 0/420 [00:00<?, ?it/s]"
      ]
     },
     "metadata": {},
     "output_type": "display_data"
    },
    {
     "data": {
      "application/vnd.jupyter.widget-view+json": {
       "model_id": "b9b7403647f5458ba1934b3ecfcaceed",
       "version_major": 2,
       "version_minor": 0
      },
      "text/plain": [
       "  0%|          | 0/105 [00:00<?, ?it/s]"
      ]
     },
     "metadata": {},
     "output_type": "display_data"
    },
    {
     "name": "stdout",
     "output_type": "stream",
     "text": [
      "epoch: 4\n",
      "train_loss: 0.090472 | val_loss: 0.603438 | train_f1: 0.976958 | val_f1: 0.842882\n",
      "Modelo mejorado guardado.\n"
     ]
    },
    {
     "data": {
      "application/vnd.jupyter.widget-view+json": {
       "model_id": "a1a07fc35eff43c6bfc151a33b8d550f",
       "version_major": 2,
       "version_minor": 0
      },
      "text/plain": [
       "  0%|          | 0/420 [00:00<?, ?it/s]"
      ]
     },
     "metadata": {},
     "output_type": "display_data"
    },
    {
     "data": {
      "application/vnd.jupyter.widget-view+json": {
       "model_id": "04d30c65f9594471b276889934dcbdb3",
       "version_major": 2,
       "version_minor": 0
      },
      "text/plain": [
       "  0%|          | 0/420 [00:00<?, ?it/s]"
      ]
     },
     "metadata": {},
     "output_type": "display_data"
    },
    {
     "data": {
      "application/vnd.jupyter.widget-view+json": {
       "model_id": "166e5d5e5afe4d86be11f540fc7af193",
       "version_major": 2,
       "version_minor": 0
      },
      "text/plain": [
       "  0%|          | 0/105 [00:00<?, ?it/s]"
      ]
     },
     "metadata": {},
     "output_type": "display_data"
    },
    {
     "name": "stdout",
     "output_type": "stream",
     "text": [
      "epoch: 5\n",
      "train_loss: 0.041444 | val_loss: 0.633684 | train_f1: 0.989600 | val_f1: 0.844695\n",
      "Modelo mejorado guardado.\n"
     ]
    },
    {
     "data": {
      "application/vnd.jupyter.widget-view+json": {
       "model_id": "375f23793f1d4c02b5d74e95359b7b6a",
       "version_major": 2,
       "version_minor": 0
      },
      "text/plain": [
       "  0%|          | 0/420 [00:00<?, ?it/s]"
      ]
     },
     "metadata": {},
     "output_type": "display_data"
    },
    {
     "data": {
      "application/vnd.jupyter.widget-view+json": {
       "model_id": "53bb6e1a8c284351bfa1777d0339574c",
       "version_major": 2,
       "version_minor": 0
      },
      "text/plain": [
       "  0%|          | 0/420 [00:00<?, ?it/s]"
      ]
     },
     "metadata": {},
     "output_type": "display_data"
    },
    {
     "data": {
      "application/vnd.jupyter.widget-view+json": {
       "model_id": "d08a72bc85f74cb8ac4dbfb64cdbbebb",
       "version_major": 2,
       "version_minor": 0
      },
      "text/plain": [
       "  0%|          | 0/105 [00:00<?, ?it/s]"
      ]
     },
     "metadata": {},
     "output_type": "display_data"
    },
    {
     "name": "stdout",
     "output_type": "stream",
     "text": [
      "epoch: 6\n",
      "train_loss: 0.045220 | val_loss: 0.659459 | train_f1: 0.990478 | val_f1: 0.843105\n",
      "Sin mejora en F1. 1/5 intentos.\n"
     ]
    },
    {
     "data": {
      "application/vnd.jupyter.widget-view+json": {
       "model_id": "a15325796b31416584e6ed542deabd90",
       "version_major": 2,
       "version_minor": 0
      },
      "text/plain": [
       "  0%|          | 0/420 [00:00<?, ?it/s]"
      ]
     },
     "metadata": {},
     "output_type": "display_data"
    },
    {
     "data": {
      "application/vnd.jupyter.widget-view+json": {
       "model_id": "c661dc7bdffc44328fa98d3b6d0490c6",
       "version_major": 2,
       "version_minor": 0
      },
      "text/plain": [
       "  0%|          | 0/420 [00:00<?, ?it/s]"
      ]
     },
     "metadata": {},
     "output_type": "display_data"
    },
    {
     "data": {
      "application/vnd.jupyter.widget-view+json": {
       "model_id": "29322e04078d4d19a440109f212535a6",
       "version_major": 2,
       "version_minor": 0
      },
      "text/plain": [
       "  0%|          | 0/105 [00:00<?, ?it/s]"
      ]
     },
     "metadata": {},
     "output_type": "display_data"
    },
    {
     "name": "stdout",
     "output_type": "stream",
     "text": [
      "epoch: 7\n",
      "train_loss: 0.052384 | val_loss: 0.748604 | train_f1: 0.984511 | val_f1: 0.829998\n",
      "Sin mejora en F1. 2/5 intentos.\n"
     ]
    },
    {
     "data": {
      "application/vnd.jupyter.widget-view+json": {
       "model_id": "0cc481500b6f4d7982adb862c0e4a2b5",
       "version_major": 2,
       "version_minor": 0
      },
      "text/plain": [
       "  0%|          | 0/420 [00:00<?, ?it/s]"
      ]
     },
     "metadata": {},
     "output_type": "display_data"
    }
   ],
   "source": [
    "best_val_f1 = 0\n",
    "best_val_f1 = 0\n",
    "for epoch in range(epochs):\n",
    "    for data in tqdm(train_loader):\n",
    "        torch.cuda.empty_cache()\n",
    "        optimizer.zero_grad()\n",
    "        seq, seq_len, labels, _ = data\n",
    "        seq, labels = seq.to(device), labels.to(device)\n",
    "        output, _ = model(seq, seq_len)\n",
    "        output = F.log_softmax(output, dim=1)\n",
    "        loss = criterion(output, labels)\n",
    "        loss.backward()\n",
    "        optimizer.step()\n",
    "\n",
    "    train_loss, train_f1= eval_model(model, train_loader, criterion, device)\n",
    "    val_loss, val_f1 = eval_model(model, val_loader, criterion, device)\n",
    "    print('epoch: %d'%(epoch))\n",
    "    print('train_loss: %5f | val_loss: %5f | train_f1: %5f | val_f1: %5f'%(train_loss, val_loss, train_f1, val_f1))\n",
    "    if val_f1 > best_val_f1:\n",
    "        best_val_f1 = val_f1\n",
    "        torch.save(model.state_dict(), \"best_model_han.pth\")\n",
    "        print(\"Modelo mejorado guardado.\")\n",
    "        epochs_without_improve = 0  \n",
    "    else:\n",
    "        epochs_without_improve += 1\n",
    "        print(f\"Sin mejora en F1. {epochs_without_improve}/{patience} intentos.\")\n",
    "\n",
    "        if epochs_without_improve >= patience:\n",
    "            print(\"No hubo mejora en las últimas épocas.\")\n",
    "            break"
   ]
  },
  {
   "cell_type": "code",
   "execution_count": 15,
   "metadata": {},
   "outputs": [
    {
     "name": "stderr",
     "output_type": "stream",
     "text": [
      "/var/folders/3r/fzd1rrd908j_nt0tr8b5tkfh0000gn/T/ipykernel_69902/3560418622.py:1: FutureWarning: You are using `torch.load` with `weights_only=False` (the current default value), which uses the default pickle module implicitly. It is possible to construct malicious pickle data which will execute arbitrary code during unpickling (See https://github.com/pytorch/pytorch/blob/main/SECURITY.md#untrusted-models for more details). In a future release, the default value for `weights_only` will be flipped to `True`. This limits the functions that could be executed during unpickling. Arbitrary objects will no longer be allowed to be loaded via this mode unless they are explicitly allowlisted by the user via `torch.serialization.add_safe_globals`. We recommend you start setting `weights_only=True` for any use case where you don't have full control of the loaded file. Please open an issue on GitHub for any issues related to this experimental feature.\n",
      "  model.load_state_dict(torch.load(\"best_model_han.pth\", map_location=device))\n"
     ]
    },
    {
     "data": {
      "text/plain": [
       "HAN(\n",
       "  (embedding): Embedding(973266, 100)\n",
       "  (word_gru): GRU(100, 50, batch_first=True, bidirectional=True)\n",
       "  (word_attention): Attention(\n",
       "    (attn): Linear(in_features=100, out_features=1, bias=True)\n",
       "  )\n",
       "  (sent_gru): GRU(100, 50, batch_first=True, bidirectional=True)\n",
       "  (sent_attention): Attention(\n",
       "    (attn): Linear(in_features=100, out_features=1, bias=True)\n",
       "  )\n",
       "  (classifier): Linear(in_features=100, out_features=7, bias=True)\n",
       ")"
      ]
     },
     "execution_count": 15,
     "metadata": {},
     "output_type": "execute_result"
    }
   ],
   "source": [
    "model.load_state_dict(torch.load(\"best_model_han.pth\", map_location=device))\n",
    "model.to(device)\n",
    "model.eval()\n"
   ]
  },
  {
   "cell_type": "code",
   "execution_count": 18,
   "metadata": {},
   "outputs": [
    {
     "data": {
      "application/vnd.jupyter.widget-view+json": {
       "model_id": "25140d5f8f2e47c8804c1b04267dad03",
       "version_major": 2,
       "version_minor": 0
      },
      "text/plain": [
       "  0%|          | 0/105 [00:00<?, ?it/s]"
      ]
     },
     "metadata": {},
     "output_type": "display_data"
    },
    {
     "name": "stdout",
     "output_type": "stream",
     "text": [
      " Evaluación final en validación:\n",
      " Loss: 0.6337 | F1 Score: 0.8447\n"
     ]
    }
   ],
   "source": [
    "val_loss, val_f1 = eval_model(model, val_loader, criterion, device)\n",
    "print(f\" Evaluación final en validación:\")\n",
    "print(f\" Loss: {val_loss:.4f} | F1 Score: {val_f1:.4f}\")"
   ]
  },
  {
   "cell_type": "code",
   "execution_count": 22,
   "metadata": {},
   "outputs": [],
   "source": [
    "def predict_labels(model, dataloader, device, label_encoder):\n",
    "    model.eval()\n",
    "    all_preds = []\n",
    "    all_trues = []\n",
    "\n",
    "    with torch.no_grad():\n",
    "        for data in dataloader:\n",
    "            seq, seq_len, labels, _ = data\n",
    "            seq = seq.to(device)\n",
    "            outputs, _ = model(seq, seq_len)\n",
    "            preds = torch.argmax(outputs, dim=1).cpu().numpy()\n",
    "            trues = labels.numpy()\n",
    "            all_preds.extend(preds)\n",
    "            all_trues.extend(trues)\n",
    "\n",
    "    pred_labels = label_encoder.inverse_transform(all_preds)\n",
    "    true_labels = label_encoder.inverse_transform(all_trues)\n",
    "\n",
    "    return true_labels, pred_labels"
   ]
  },
  {
   "cell_type": "code",
   "execution_count": 23,
   "metadata": {},
   "outputs": [
    {
     "name": "stdout",
     "output_type": "stream",
     "text": [
      "              precision    recall  f1-score   support\n",
      "\n",
      "   argentina       0.93      0.92      0.92       120\n",
      "       chile       0.90      0.85      0.88       120\n",
      "    colombia       0.89      0.82      0.86       120\n",
      "      mexico       0.76      0.89      0.82       120\n",
      "        peru       0.73      0.76      0.75       120\n",
      "       spain       0.84      0.88      0.86       120\n",
      "   venezuela       0.87      0.79      0.83       120\n",
      "\n",
      "    accuracy                           0.84       840\n",
      "   macro avg       0.85      0.84      0.84       840\n",
      "weighted avg       0.85      0.84      0.84       840\n",
      "\n"
     ]
    }
   ],
   "source": [
    "true_labels, pred_labels = predict_labels(model, val_loader, device, label_encoder)\n",
    "print(classification_report(true_labels, pred_labels))"
   ]
  },
  {
   "cell_type": "code",
   "execution_count": 24,
   "metadata": {},
   "outputs": [
    {
     "name": "stdout",
     "output_type": "stream",
     "text": [
      "True            Pred            Clasificación\n",
      "----------------------------------------\n",
      "venezuela       venezuela       ✅\n",
      "venezuela       venezuela       ✅\n",
      "argentina       argentina       ✅\n",
      "argentina       argentina       ✅\n",
      "colombia        colombia        ✅\n",
      "venezuela       venezuela       ✅\n",
      "peru            peru            ✅\n",
      "argentina       argentina       ✅\n",
      "spain           spain           ✅\n",
      "colombia        colombia        ✅\n",
      "venezuela       venezuela       ✅\n",
      "colombia        colombia        ✅\n",
      "colombia        mexico          ❌\n",
      "spain           spain           ✅\n",
      "argentina       argentina       ✅\n",
      "chile           mexico          ❌\n",
      "spain           spain           ✅\n",
      "chile           spain           ❌\n",
      "mexico          mexico          ✅\n",
      "peru            peru            ✅\n"
     ]
    }
   ],
   "source": [
    "ejemplos = list(zip(true_labels, pred_labels))\n",
    "random.shuffle(ejemplos)\n",
    "\n",
    "print(f\"{'True':<15} {'Pred':<15} {'Clasificación'}\")\n",
    "print(\"-\" * 40)\n",
    "\n",
    "for true, pred in ejemplos[:20]:\n",
    "    match = \"✅\" if true == pred else \"❌\"\n",
    "    print(f\"{true:<15} {pred:<15} {match}\")\n"
   ]
  },
  {
   "cell_type": "code",
   "execution_count": 25,
   "metadata": {},
   "outputs": [
    {
     "data": {
      "image/png": "[encoded data removed]",
      "text/plain": [
       "<Figure size 800x600 with 2 Axes>"
      ]
     },
     "metadata": {},
     "output_type": "display_data"
    }
   ],
   "source": [
    "true_idx = label_encoder.transform(true_labels)\n",
    "pred_idx = label_encoder.transform(pred_labels)\n",
    "labels = label_encoder.classes_\n",
    "\n",
    "cm = confusion_matrix(true_idx, pred_idx)\n",
    "\n",
    "plt.figure(figsize=(8,6))\n",
    "sns.heatmap(cm, annot=True, fmt=\"d\", cmap=\"Blues\", xticklabels=labels, yticklabels=labels)\n",
    "plt.xlabel(\"Predicción\")\n",
    "plt.ylabel(\"Verdadero\")\n",
    "plt.title(\"Matriz de Confusión - Clasificación de Nacionalidad\")\n",
    "plt.tight_layout()\n",
    "plt.show()\n"
   ]
  },
  {
   "cell_type": "markdown",
   "metadata": {},
   "source": [
    "# 3.\n",
    "Discuta brevemente el rendimiento del modelo anterior. Para el punto anterior, construya algunas visualizaciones como en la Figura 6 del paper de atención jerárquica y discuta.\n",
    "\n",
    "Se escoge una predicción random para este ejemplo"
   ]
  },
  {
   "cell_type": "code",
   "execution_count": null,
   "metadata": {},
   "outputs": [],
   "source": [
    "idx = int(random.choice(range(len(val_dataset))))\n",
    "user_id = val_dataset.user_ids[idx]\n",
    "true_label = label_encoder.inverse_transform([val_dataset.labels[idx]])[0]\n",
    "\n",
    "doc = val_texts[user_id]\n",
    "word_ids = [[vocab.get(word, vocab[\"<UNK>\"]) for word in sent] for sent in doc]\n",
    "tensor_doc = [torch.tensor(sent, dtype=torch.long) for sent in word_ids]\n",
    "\n",
    "max_words = max(len(sent) for sent in tensor_doc)\n",
    "padded_sents = [F.pad(sent, (0, max_words - len(sent)), value=0) for sent in tensor_doc]\n",
    "padded_doc = torch.stack(padded_sents).unsqueeze(0).to(device)  "
   ]
  },
  {
   "cell_type": "code",
   "execution_count": 34,
   "metadata": {},
   "outputs": [],
   "source": [
    "with torch.no_grad():\n",
    "    logits, (word_att, sent_att) = model(padded_doc, return_attention=True)\n",
    "    pred_label = label_encoder.inverse_transform([logits.argmax(dim=1).item()])[0]"
   ]
  },
  {
   "cell_type": "code",
   "execution_count": 35,
   "metadata": {},
   "outputs": [],
   "source": [
    "from IPython.display import display, HTML\n",
    "\n",
    "def visualize_attention(user_id, val_texts, true_label, pred_label, word_att_weights, sent_att_weights):\n",
    "    sents = val_texts[user_id]\n",
    "    word_weights = word_att_weights.detach().cpu().numpy()\n",
    "    sent_weights = sent_att_weights.detach().cpu().numpy()\n",
    "\n",
    "    html = f\"<div style='font-family: sans-serif;'>\"\n",
    "    html += f\"<div><b>🟢 GT:</b> {true_label} &nbsp;&nbsp; <b>🔮 Predicción:</b> {pred_label}</div><br>\"\n",
    "\n",
    "    for i, (words, sent_w) in enumerate(zip(sents, sent_weights[0])):\n",
    "        if i >= len(word_weights):\n",
    "            continue\n",
    "\n",
    "        bg_color = f\"rgba(255, 255, 150, {min(sent_w*1.5, 0.9):.2f})\"\n",
    "\n",
    "        html += f\"<div style='background-color: {bg_color}; padding: 5px; margin-bottom: 4px; border-radius: 5px;'>\"\n",
    "\n",
    "        for j, word in enumerate(words):\n",
    "            if j >= len(word_weights[i]):\n",
    "                continue\n",
    "\n",
    "            w_att = word_weights[i][j]\n",
    "            word_color = f\"rgba(0, 120, 255, {min(w_att*1.2, 1):.2f})\"\n",
    "\n",
    "            html += f\"<span style='background-color: {word_color}; color: white; padding: 3px 5px; margin-right: 4px; border-radius: 4px;'>{word}</span>\"\n",
    "\n",
    "        html += \"</div><br>\"\n",
    "\n",
    "    html += \"</div>\"\n",
    "    display(HTML(html))\n"
   ]
  },
  {
   "cell_type": "code",
   "execution_count": 36,
   "metadata": {},
   "outputs": [
    {
     "data": {
      "text/html": [
       "<div style='font-family: sans-serif;'><div><b>🟢 GT:</b> spain &nbsp;&nbsp; <b>🔮 Predicción:</b> spain</div><br><div style='background-color: rgba(255, 255, 150, 0.01); padding: 5px; margin-bottom: 4px; border-radius: 5px;'><span style='background-color: rgba(0, 120, 255, 0.01); color: white; padding: 3px 5px; margin-right: 4px; border-radius: 4px;'>ahora</span><span style='background-color: rgba(0, 120, 255, 0.02); color: white; padding: 3px 5px; margin-right: 4px; border-radius: 4px;'>parece</span><span style='background-color: rgba(0, 120, 255, 0.00); color: white; padding: 3px 5px; margin-right: 4px; border-radius: 4px;'>que</span><span style='background-color: rgba(0, 120, 255, 0.30); color: white; padding: 3px 5px; margin-right: 4px; border-radius: 4px;'>asaltar</span><span style='background-color: rgba(0, 120, 255, 0.01); color: white; padding: 3px 5px; margin-right: 4px; border-radius: 4px;'>tiene</span><span style='background-color: rgba(0, 120, 255, 0.00); color: white; padding: 3px 5px; margin-right: 4px; border-radius: 4px;'>premio..martu</span><span style='background-color: rgba(0, 120, 255, 0.00); color: white; padding: 3px 5px; margin-right: 4px; border-radius: 4px;'>garrote,</span><span style='background-color: rgba(0, 120, 255, 0.02); color: white; padding: 3px 5px; margin-right: 4px; border-radius: 4px;'>vicepresidenta</span><span style='background-color: rgba(0, 120, 255, 0.00); color: white; padding: 3px 5px; margin-right: 4px; border-radius: 4px;'>de</span><span style='background-color: rgba(0, 120, 255, 0.72); color: white; padding: 3px 5px; margin-right: 4px; border-radius: 4px;'>enhorabuena</span><span style='background-color: rgba(0, 120, 255, 0.01); color: white; padding: 3px 5px; margin-right: 4px; border-radius: 4px;'>!!aqu</span><span style='background-color: rgba(0, 120, 255, 0.00); color: white; padding: 3px 5px; margin-right: 4px; border-radius: 4px;'>y</span><span style='background-color: rgba(0, 120, 255, 0.00); color: white; padding: 3px 5px; margin-right: 4px; border-radius: 4px;'>en</span><span style='background-color: rgba(0, 120, 255, 0.04); color: white; padding: 3px 5px; margin-right: 4px; border-radius: 4px;'>tod</span><span style='background-color: rgba(0, 120, 255, 0.04); color: white; padding: 3px 5px; margin-right: 4px; border-radius: 4px;'>estaremos</span><span style='background-color: rgba(0, 120, 255, 0.00); color: white; padding: 3px 5px; margin-right: 4px; border-radius: 4px;'>este</span><span style='background-color: rgba(0, 120, 255, 0.00); color: white; padding: 3px 5px; margin-right: 4px; border-radius: 4px;'>2017</span><span style='background-color: rgba(0, 120, 255, 0.00); color: white; padding: 3px 5px; margin-right: 4px; border-radius: 4px;'>contigo!</span></div><br><div style='background-color: rgba(255, 255, 150, 0.00); padding: 5px; margin-bottom: 4px; border-radius: 5px;'><span style='background-color: rgba(0, 120, 255, 0.01); color: white; padding: 3px 5px; margin-right: 4px; border-radius: 4px;'>no</span><span style='background-color: rgba(0, 120, 255, 0.39); color: white; padding: 3px 5px; margin-right: 4px; border-radius: 4px;'>discutis</span><span style='background-color: rgba(0, 120, 255, 0.02); color: white; padding: 3px 5px; margin-right: 4px; border-radius: 4px;'>con</span><span style='background-color: rgba(0, 120, 255, 0.06); color: white; padding: 3px 5px; margin-right: 4px; border-radius: 4px;'>..es</span><span style='background-color: rgba(0, 120, 255, 0.54); color: white; padding: 3px 5px; margin-right: 4px; border-radius: 4px;'>uno</span><span style='background-color: rgba(0, 120, 255, 0.00); color: white; padding: 3px 5px; margin-right: 4px; border-radius: 4px;'>de</span><span style='background-color: rgba(0, 120, 255, 0.02); color: white; padding: 3px 5px; margin-right: 4px; border-radius: 4px;'>los</span><span style='background-color: rgba(0, 120, 255, 0.00); color: white; padding: 3px 5px; margin-right: 4px; border-radius: 4px;'>a</span><span style='background-color: rgba(0, 120, 255, 0.01); color: white; padding: 3px 5px; margin-right: 4px; border-radius: 4px;'>lamban..</span></div><br><div style='background-color: rgba(255, 255, 150, 0.00); padding: 5px; margin-bottom: 4px; border-radius: 5px;'><span style='background-color: rgba(0, 120, 255, 0.01); color: white; padding: 3px 5px; margin-right: 4px; border-radius: 4px;'>no</span><span style='background-color: rgba(0, 120, 255, 0.02); color: white; padding: 3px 5px; margin-right: 4px; border-radius: 4px;'>gustan</span><span style='background-color: rgba(0, 120, 255, 0.02); color: white; padding: 3px 5px; margin-right: 4px; border-radius: 4px;'>las</span><span style='background-color: rgba(0, 120, 255, 0.05); color: white; padding: 3px 5px; margin-right: 4px; border-radius: 4px;'>primarias!muchos</span><span style='background-color: rgba(0, 120, 255, 0.41); color: white; padding: 3px 5px; margin-right: 4px; border-radius: 4px;'>dirigentes</span><span style='background-color: rgba(0, 120, 255, 0.00); color: white; padding: 3px 5px; margin-right: 4px; border-radius: 4px;'>como</span><span style='background-color: rgba(0, 120, 255, 0.02); color: white; padding: 3px 5px; margin-right: 4px; border-radius: 4px;'>estarian</span><span style='background-color: rgba(0, 120, 255, 0.00); color: white; padding: 3px 5px; margin-right: 4px; border-radius: 4px;'>en</span><span style='background-color: rgba(0, 120, 255, 0.08); color: white; padding: 3px 5px; margin-right: 4px; border-radius: 4px;'>su</span><span style='background-color: rgba(0, 120, 255, 0.03); color: white; padding: 3px 5px; margin-right: 4px; border-radius: 4px;'>casa</span><span style='background-color: rgba(0, 120, 255, 0.00); color: white; padding: 3px 5px; margin-right: 4px; border-radius: 4px;'>o</span><span style='background-color: rgba(0, 120, 255, 0.37); color: white; padding: 3px 5px; margin-right: 4px; border-radius: 4px;'>trabajando</span><span style='background-color: rgba(0, 120, 255, 0.01); color: white; padding: 3px 5px; margin-right: 4px; border-radius: 4px;'>d</span><span style='background-color: rgba(0, 120, 255, 0.02); color: white; padding: 3px 5px; margin-right: 4px; border-radius: 4px;'>verdad!</span></div><br><div style='background-color: rgba(255, 255, 150, 0.00); padding: 5px; margin-bottom: 4px; border-radius: 5px;'><span style='background-color: rgba(0, 120, 255, 0.05); color: white; padding: 3px 5px; margin-right: 4px; border-radius: 4px;'>la</span><span style='background-color: rgba(0, 120, 255, 0.01); color: white; padding: 3px 5px; margin-right: 4px; border-radius: 4px;'>solucin</span><span style='background-color: rgba(0, 120, 255, 0.00); color: white; padding: 3px 5px; margin-right: 4px; border-radius: 4px;'>de</span><span style='background-color: rgba(0, 120, 255, 0.00); color: white; padding: 3px 5px; margin-right: 4px; border-radius: 4px;'>para</span><span style='background-color: rgba(0, 120, 255, 0.01); color: white; padding: 3px 5px; margin-right: 4px; border-radius: 4px;'>es</span><span style='background-color: rgba(0, 120, 255, 0.00); color: white; padding: 3px 5px; margin-right: 4px; border-radius: 4px;'>q</span><span style='background-color: rgba(0, 120, 255, 0.03); color: white; padding: 3px 5px; margin-right: 4px; border-radius: 4px;'>vuelva</span><span style='background-color: rgba(0, 120, 255, 0.16); color: white; padding: 3px 5px; margin-right: 4px; border-radius: 4px;'>rubalcaba</span><span style='background-color: rgba(0, 120, 255, 0.00); color: white; padding: 3px 5px; margin-right: 4px; border-radius: 4px;'>y</span><span style='background-color: rgba(0, 120, 255, 0.01); color: white; padding: 3px 5px; margin-right: 4px; border-radius: 4px;'>madina..durante</span><span style='background-color: rgba(0, 120, 255, 0.06); color: white; padding: 3px 5px; margin-right: 4px; border-radius: 4px;'>su</span><span style='background-color: rgba(0, 120, 255, 0.29); color: white; padding: 3px 5px; margin-right: 4px; border-radius: 4px;'>sg</span><span style='background-color: rgba(0, 120, 255, 0.51); color: white; padding: 3px 5px; margin-right: 4px; border-radius: 4px;'>naci</span><span style='background-color: rgba(0, 120, 255, 0.01); color: white; padding: 3px 5px; margin-right: 4px; border-radius: 4px;'>!</span></div><br><div style='background-color: rgba(255, 255, 150, 0.00); padding: 5px; margin-bottom: 4px; border-radius: 5px;'><span style='background-color: rgba(0, 120, 255, 0.01); color: white; padding: 3px 5px; margin-right: 4px; border-radius: 4px;'>y</span><span style='background-color: rgba(0, 120, 255, 0.01); color: white; padding: 3px 5px; margin-right: 4px; border-radius: 4px;'>con</span><span style='background-color: rgba(0, 120, 255, 0.03); color: white; padding: 3px 5px; margin-right: 4px; border-radius: 4px;'>el</span><span style='background-color: rgba(0, 120, 255, 0.10); color: white; padding: 3px 5px; margin-right: 4px; border-radius: 4px;'>matiz</span><span style='background-color: rgba(0, 120, 255, 0.01); color: white; padding: 3px 5px; margin-right: 4px; border-radius: 4px;'>q</span><span style='background-color: rgba(0, 120, 255, 0.27); color: white; padding: 3px 5px; margin-right: 4px; border-radius: 4px;'>omite</span><span style='background-color: rgba(0, 120, 255, 0.01); color: white; padding: 3px 5px; margin-right: 4px; border-radius: 4px;'>q</span><span style='background-color: rgba(0, 120, 255, 0.03); color: white; padding: 3px 5px; margin-right: 4px; border-radius: 4px;'>las</span><span style='background-color: rgba(0, 120, 255, 0.03); color: white; padding: 3px 5px; margin-right: 4px; border-radius: 4px;'>primarias</span><span style='background-color: rgba(0, 120, 255, 0.00); color: white; padding: 3px 5px; margin-right: 4px; border-radius: 4px;'>en</span><span style='background-color: rgba(0, 120, 255, 0.01); color: white; padding: 3px 5px; margin-right: 4px; border-radius: 4px;'>son</span><span style='background-color: rgba(0, 120, 255, 0.02); color: white; padding: 3px 5px; margin-right: 4px; border-radius: 4px;'>abiertas</span><span style='background-color: rgba(0, 120, 255, 0.01); color: white; padding: 3px 5px; margin-right: 4px; border-radius: 4px;'>a</span><span style='background-color: rgba(0, 120, 255, 0.44); color: white; padding: 3px 5px; margin-right: 4px; border-radius: 4px;'>militantes</span><span style='background-color: rgba(0, 120, 255, 0.00); color: white; padding: 3px 5px; margin-right: 4px; border-radius: 4px;'>y</span><span style='background-color: rgba(0, 120, 255, 0.01); color: white; padding: 3px 5px; margin-right: 4px; border-radius: 4px;'>electores..</span></div><br><div style='background-color: rgba(255, 255, 150, 0.00); padding: 5px; margin-bottom: 4px; border-radius: 5px;'><span style='background-color: rgba(0, 120, 255, 0.01); color: white; padding: 3px 5px; margin-right: 4px; border-radius: 4px;'>por</span><span style='background-color: rgba(0, 120, 255, 0.03); color: white; padding: 3px 5px; margin-right: 4px; border-radius: 4px;'>cierto,</span><span style='background-color: rgba(0, 120, 255, 0.01); color: white; padding: 3px 5px; margin-right: 4px; border-radius: 4px;'>error</span><span style='background-color: rgba(0, 120, 255, 0.00); color: white; padding: 3px 5px; margin-right: 4px; border-radius: 4px;'>de</span><span style='background-color: rgba(0, 120, 255, 0.04); color: white; padding: 3px 5px; margin-right: 4px; border-radius: 4px;'>anlisisen</span><span style='background-color: rgba(0, 120, 255, 0.03); color: white; padding: 3px 5px; margin-right: 4px; border-radius: 4px;'>las</span><span style='background-color: rgba(0, 120, 255, 0.08); color: white; padding: 3px 5px; margin-right: 4px; border-radius: 4px;'>primarias</span><span style='background-color: rgba(0, 120, 255, 0.02); color: white; padding: 3px 5px; margin-right: 4px; border-radius: 4px;'>son</span><span style='background-color: rgba(0, 120, 255, 0.03); color: white; padding: 3px 5px; margin-right: 4px; border-radius: 4px;'>abiertas</span><span style='background-color: rgba(0, 120, 255, 0.01); color: white; padding: 3px 5px; margin-right: 4px; border-radius: 4px;'>a</span><span style='background-color: rgba(0, 120, 255, 0.59); color: white; padding: 3px 5px; margin-right: 4px; border-radius: 4px;'>militantes</span><span style='background-color: rgba(0, 120, 255, 0.00); color: white; padding: 3px 5px; margin-right: 4px; border-radius: 4px;'>y</span><span style='background-color: rgba(0, 120, 255, 0.02); color: white; padding: 3px 5px; margin-right: 4px; border-radius: 4px;'>electores!</span></div><br><div style='background-color: rgba(255, 255, 150, 0.10); padding: 5px; margin-bottom: 4px; border-radius: 5px;'><span style='background-color: rgba(0, 120, 255, 0.00); color: white; padding: 3px 5px; margin-right: 4px; border-radius: 4px;'>otra</span><span style='background-color: rgba(0, 120, 255, 0.00); color: white; padding: 3px 5px; margin-right: 4px; border-radius: 4px;'>cosa</span><span style='background-color: rgba(0, 120, 255, 0.00); color: white; padding: 3px 5px; margin-right: 4px; border-radius: 4px;'>es</span><span style='background-color: rgba(0, 120, 255, 0.00); color: white; padding: 3px 5px; margin-right: 4px; border-radius: 4px;'>q</span><span style='background-color: rgba(0, 120, 255, 0.00); color: white; padding: 3px 5px; margin-right: 4px; border-radius: 4px;'>no</span><span style='background-color: rgba(0, 120, 255, 1.00); color: white; padding: 3px 5px; margin-right: 4px; border-radius: 4px;'>os</span><span style='background-color: rgba(0, 120, 255, 0.00); color: white; padding: 3px 5px; margin-right: 4px; border-radius: 4px;'>gusten!</span></div><br><div style='background-color: rgba(255, 255, 150, 0.03); padding: 5px; margin-bottom: 4px; border-radius: 5px;'><span style='background-color: rgba(0, 120, 255, 0.00); color: white; padding: 3px 5px; margin-right: 4px; border-radius: 4px;'>y</span><span style='background-color: rgba(0, 120, 255, 0.00); color: white; padding: 3px 5px; margin-right: 4px; border-radius: 4px;'>,ex</span><span style='background-color: rgba(0, 120, 255, 0.01); color: white; padding: 3px 5px; margin-right: 4px; border-radius: 4px;'>ejecutiva</span><span style='background-color: rgba(0, 120, 255, 0.00); color: white; padding: 3px 5px; margin-right: 4px; border-radius: 4px;'>de</span><span style='background-color: rgba(0, 120, 255, 0.00); color: white; padding: 3px 5px; margin-right: 4px; border-radius: 4px;'>rbcba,hizo</span><span style='background-color: rgba(0, 120, 255, 0.00); color: white; padding: 3px 5px; margin-right: 4px; border-radius: 4px;'>tan</span><span style='background-color: rgba(0, 120, 255, 0.00); color: white; padding: 3px 5px; margin-right: 4px; border-radius: 4px;'>bien</span><span style='background-color: rgba(0, 120, 255, 0.00); color: white; padding: 3px 5px; margin-right: 4px; border-radius: 4px;'>su</span><span style='background-color: rgba(0, 120, 255, 0.00); color: white; padding: 3px 5px; margin-right: 4px; border-radius: 4px;'>trabajo</span><span style='background-color: rgba(0, 120, 255, 0.00); color: white; padding: 3px 5px; margin-right: 4px; border-radius: 4px;'>en</span><span style='background-color: rgba(0, 120, 255, 0.05); color: white; padding: 3px 5px; margin-right: 4px; border-radius: 4px;'>sg</span><span style='background-color: rgba(0, 120, 255, 0.00); color: white; padding: 3px 5px; margin-right: 4px; border-radius: 4px;'>q</span><span style='background-color: rgba(0, 120, 255, 0.15); color: white; padding: 3px 5px; margin-right: 4px; border-radius: 4px;'>naci</span><span style='background-color: rgba(0, 120, 255, 0.01); color: white; padding: 3px 5px; margin-right: 4px; border-radius: 4px;'>!dice</span><span style='background-color: rgba(0, 120, 255, 0.00); color: white; padding: 3px 5px; margin-right: 4px; border-radius: 4px;'>esto</span><span style='background-color: rgba(0, 120, 255, 0.00); color: white; padding: 3px 5px; margin-right: 4px; border-radius: 4px;'>sin</span><span style='background-color: rgba(0, 120, 255, 0.00); color: white; padding: 3px 5px; margin-right: 4px; border-radius: 4px;'>ahora</span><span style='background-color: rgba(0, 120, 255, 0.01); color: white; padding: 3px 5px; margin-right: 4px; border-radius: 4px;'>ser</span><span style='background-color: rgba(0, 120, 255, 0.05); color: white; padding: 3px 5px; margin-right: 4px; border-radius: 4px;'>socialista</span><span style='background-color: rgba(0, 120, 255, 0.00); color: white; padding: 3px 5px; margin-right: 4px; border-radius: 4px;'>es</span><span style='background-color: rgba(0, 120, 255, 0.00); color: white; padding: 3px 5px; margin-right: 4px; border-radius: 4px;'>ser</span><span style='background-color: rgba(0, 120, 255, 0.01); color: white; padding: 3px 5px; margin-right: 4px; border-radius: 4px;'>radical</span><span style='background-color: rgba(0, 120, 255, 0.00); color: white; padding: 3px 5px; margin-right: 4px; border-radius: 4px;'>!!mientras</span><span style='background-color: rgba(0, 120, 255, 0.00); color: white; padding: 3px 5px; margin-right: 4px; border-radius: 4px;'>sudiosa</span><span style='background-color: rgba(0, 120, 255, 0.01); color: white; padding: 3px 5px; margin-right: 4px; border-radius: 4px;'>del</span><span style='background-color: rgba(0, 120, 255, 0.18); color: white; padding: 3px 5px; margin-right: 4px; border-radius: 4px;'>socialismo</span><span style='background-color: rgba(0, 120, 255, 0.00); color: white; padding: 3px 5px; margin-right: 4px; border-radius: 4px;'>pide</span><span style='background-color: rgba(0, 120, 255, 0.00); color: white; padding: 3px 5px; margin-right: 4px; border-radius: 4px;'>no</span><span style='background-color: rgba(0, 120, 255, 0.14); color: white; padding: 3px 5px; margin-right: 4px; border-radius: 4px;'>etiquetar</span><span style='background-color: rgba(0, 120, 255, 0.22); color: white; padding: 3px 5px; margin-right: 4px; border-radius: 4px;'>compa</span><span style='background-color: rgba(0, 120, 255, 0.10); color: white; padding: 3px 5px; margin-right: 4px; border-radius: 4px;'>tu</span><span style='background-color: rgba(0, 120, 255, 0.18); color: white; padding: 3px 5px; margin-right: 4px; border-radius: 4px;'>jefa</span><span style='background-color: rgba(0, 120, 255, 0.02); color: white; padding: 3px 5px; margin-right: 4px; border-radius: 4px;'>se</span><span style='background-color: rgba(0, 120, 255, 0.02); color: white; padding: 3px 5px; margin-right: 4px; border-radius: 4px;'>va</span><span style='background-color: rgba(0, 120, 255, 0.00); color: white; padding: 3px 5px; margin-right: 4px; border-radius: 4px;'>a</span><span style='background-color: rgba(0, 120, 255, 0.00); color: white; padding: 3px 5px; margin-right: 4px; border-radius: 4px;'>enfadar</span><span style='background-color: rgba(0, 120, 255, 0.00); color: white; padding: 3px 5px; margin-right: 4px; border-radius: 4px;'>por</span><span style='background-color: rgba(0, 120, 255, 0.00); color: white; padding: 3px 5px; margin-right: 4px; border-radius: 4px;'>ir</span><span style='background-color: rgba(0, 120, 255, 0.03); color: white; padding: 3px 5px; margin-right: 4px; border-radius: 4px;'>poniendo</span><span style='background-color: rgba(0, 120, 255, 0.00); color: white; padding: 3px 5px; margin-right: 4px; border-radius: 4px;'>etiquetas..</span></div><br><div style='background-color: rgba(255, 255, 150, 0.00); padding: 5px; margin-bottom: 4px; border-radius: 5px;'><span style='background-color: rgba(0, 120, 255, 0.24); color: white; padding: 3px 5px; margin-right: 4px; border-radius: 4px;'>,</span><span style='background-color: rgba(0, 120, 255, 0.09); color: white; padding: 3px 5px; margin-right: 4px; border-radius: 4px;'>cero!</span></div><br><div style='background-color: rgba(255, 255, 150, 0.00); padding: 5px; margin-bottom: 4px; border-radius: 5px;'><span style='background-color: rgba(0, 120, 255, 0.02); color: white; padding: 3px 5px; margin-right: 4px; border-radius: 4px;'>un</span><span style='background-color: rgba(0, 120, 255, 0.01); color: white; padding: 3px 5px; margin-right: 4px; border-radius: 4px;'>ejemplo</span><span style='background-color: rgba(0, 120, 255, 0.00); color: white; padding: 3px 5px; margin-right: 4px; border-radius: 4px;'>de</span><span style='background-color: rgba(0, 120, 255, 0.01); color: white; padding: 3px 5px; margin-right: 4px; border-radius: 4px;'>cmo</span><span style='background-color: rgba(0, 120, 255, 0.93); color: white; padding: 3px 5px; margin-right: 4px; border-radius: 4px;'>ataca</span><span style='background-color: rgba(0, 120, 255, 0.00); color: white; padding: 3px 5px; margin-right: 4px; border-radius: 4px;'>y</span><span style='background-color: rgba(0, 120, 255, 0.02); color: white; padding: 3px 5px; margin-right: 4px; border-radius: 4px;'>luego</span><span style='background-color: rgba(0, 120, 255, 0.02); color: white; padding: 3px 5px; margin-right: 4px; border-radius: 4px;'>calla..</span></div><br><div style='background-color: rgba(255, 255, 150, 0.00); padding: 5px; margin-bottom: 4px; border-radius: 5px;'><span style='background-color: rgba(0, 120, 255, 0.01); color: white; padding: 3px 5px; margin-right: 4px; border-radius: 4px;'>sr.</span><span style='background-color: rgba(0, 120, 255, 0.01); color: white; padding: 3px 5px; margin-right: 4px; border-radius: 4px;'>est</span><span style='background-color: rgba(0, 120, 255, 0.08); color: white; padding: 3px 5px; margin-right: 4px; border-radius: 4px;'>contradiciendo</span><span style='background-color: rgba(0, 120, 255, 0.00); color: white; padding: 3px 5px; margin-right: 4px; border-radius: 4px;'>a</span><span style='background-color: rgba(0, 120, 255, 0.00); color: white; padding: 3px 5px; margin-right: 4px; border-radius: 4px;'>sudiosa</span><span style='background-color: rgba(0, 120, 255, 0.01); color: white; padding: 3px 5px; margin-right: 4px; border-radius: 4px;'>del</span><span style='background-color: rgba(0, 120, 255, 0.39); color: white; padding: 3px 5px; margin-right: 4px; border-radius: 4px;'>socialismo</span><span style='background-color: rgba(0, 120, 255, 0.14); color: white; padding: 3px 5px; margin-right: 4px; border-radius: 4px;'>etiquetando</span><span style='background-color: rgba(0, 120, 255, 0.00); color: white; padding: 3px 5px; margin-right: 4px; border-radius: 4px;'>a</span><span style='background-color: rgba(0, 120, 255, 0.00); color: white; padding: 3px 5px; margin-right: 4px; border-radius: 4px;'>un</span><span style='background-color: rgba(0, 120, 255, 0.00); color: white; padding: 3px 5px; margin-right: 4px; border-radius: 4px;'>compaero</span><span style='background-color: rgba(0, 120, 255, 0.03); color: white; padding: 3px 5px; margin-right: 4px; border-radius: 4px;'>francs</span><span style='background-color: rgba(0, 120, 255, 0.00); color: white; padding: 3px 5px; margin-right: 4px; border-radius: 4px;'>d</span><span style='background-color: rgba(0, 120, 255, 0.24); color: white; padding: 3px 5px; margin-right: 4px; border-radius: 4px;'>ra</span><span style='background-color: rgba(0, 120, 255, 0.00); color: white; padding: 3px 5px; margin-right: 4px; border-radius: 4px;'>a</span><span style='background-color: rgba(0, 120, 255, 0.07); color: white; padding: 3px 5px; margin-right: 4px; border-radius: 4px;'>susana</span><span style='background-color: rgba(0, 120, 255, 0.03); color: white; padding: 3px 5px; margin-right: 4px; border-radius: 4px;'>daz</span><span style='background-color: rgba(0, 120, 255, 0.00); color: white; padding: 3px 5px; margin-right: 4px; border-radius: 4px;'>y</span><span style='background-color: rgba(0, 120, 255, 0.00); color: white; padding: 3px 5px; margin-right: 4px; border-radius: 4px;'>sus</span><span style='background-color: rgba(0, 120, 255, 0.01); color: white; padding: 3px 5px; margin-right: 4px; border-radius: 4px;'>verdades</span><span style='background-color: rgba(0, 120, 255, 0.00); color: white; padding: 3px 5px; margin-right: 4px; border-radius: 4px;'>intencionesretrasar</span><span style='background-color: rgba(0, 120, 255, 0.00); color: white; padding: 3px 5px; margin-right: 4px; border-radius: 4px;'>congreso</span><span style='background-color: rgba(0, 120, 255, 0.00); color: white; padding: 3px 5px; margin-right: 4px; border-radius: 4px;'>y</span><span style='background-color: rgba(0, 120, 255, 0.01); color: white; padding: 3px 5px; margin-right: 4px; border-radius: 4px;'>ser</span><span style='background-color: rgba(0, 120, 255, 0.01); color: white; padding: 3px 5px; margin-right: 4px; border-radius: 4px;'>candidata</span><span style='background-color: rgba(0, 120, 255, 0.00); color: white; padding: 3px 5px; margin-right: 4px; border-radius: 4px;'>a</span><span style='background-color: rgba(0, 120, 255, 0.12); color: white; padding: 3px 5px; margin-right: 4px; border-radius: 4px;'>moncloa</span><span style='background-color: rgba(0, 120, 255, 0.00); color: white; padding: 3px 5px; margin-right: 4px; border-radius: 4px;'>x</span><span style='background-color: rgba(0, 120, 255, 0.00); color: white; padding: 3px 5px; margin-right: 4px; border-radius: 4px;'>aclamacion!</span></div><br><div style='background-color: rgba(255, 255, 150, 0.00); padding: 5px; margin-bottom: 4px; border-radius: 5px;'><span style='background-color: rgba(0, 120, 255, 0.07); color: white; padding: 3px 5px; margin-right: 4px; border-radius: 4px;'>siempre</span><span style='background-color: rgba(0, 120, 255, 0.36); color: white; padding: 3px 5px; margin-right: 4px; border-radius: 4px;'>juntos</span><span style='background-color: rgba(0, 120, 255, 0.16); color: white; padding: 3px 5px; margin-right: 4px; border-radius: 4px;'>contra</span><span style='background-color: rgba(0, 120, 255, 0.10); color: white; padding: 3px 5px; margin-right: 4px; border-radius: 4px;'>la</span><span style='background-color: rgba(0, 120, 255, 0.02); color: white; padding: 3px 5px; margin-right: 4px; border-radius: 4px;'>derecha?</span></div><br><div style='background-color: rgba(255, 255, 150, 0.00); padding: 5px; margin-bottom: 4px; border-radius: 5px;'><span style='background-color: rgba(0, 120, 255, 0.20); color: white; padding: 3px 5px; margin-right: 4px; border-radius: 4px;'>despus</span><span style='background-color: rgba(0, 120, 255, 0.00); color: white; padding: 3px 5px; margin-right: 4px; border-radius: 4px;'>de</span><span style='background-color: rgba(0, 120, 255, 0.16); color: white; padding: 3px 5px; margin-right: 4px; border-radius: 4px;'>la</span><span style='background-color: rgba(0, 120, 255, 0.38); color: white; padding: 3px 5px; margin-right: 4px; border-radius: 4px;'>vergonzosa</span><span style='background-color: rgba(0, 120, 255, 0.02); color: white; padding: 3px 5px; margin-right: 4px; border-radius: 4px;'>abstencin</span><span style='background-color: rgba(0, 120, 255, 0.00); color: white; padding: 3px 5px; margin-right: 4px; border-radius: 4px;'>para</span><span style='background-color: rgba(0, 120, 255, 0.01); color: white; padding: 3px 5px; margin-right: 4px; border-radius: 4px;'>q</span><span style='background-color: rgba(0, 120, 255, 0.05); color: white; padding: 3px 5px; margin-right: 4px; border-radius: 4px;'>gobierne</span><span style='background-color: rgba(0, 120, 255, 0.00); color: white; padding: 3px 5px; margin-right: 4px; border-radius: 4px;'>y</span><span style='background-color: rgba(0, 120, 255, 0.03); color: white; padding: 3px 5px; margin-right: 4px; border-radius: 4px;'>?</span><span style='background-color: rgba(0, 120, 255, 0.18); color: white; padding: 3px 5px; margin-right: 4px; border-radius: 4px;'>aviso</span><span style='background-color: rgba(0, 120, 255, 0.01); color: white; padding: 3px 5px; margin-right: 4px; border-radius: 4px;'>a</span><span style='background-color: rgba(0, 120, 255, 0.02); color: white; padding: 3px 5px; margin-right: 4px; border-radius: 4px;'>navegantes!</span></div><br><div style='background-color: rgba(255, 255, 150, 0.00); padding: 5px; margin-bottom: 4px; border-radius: 5px;'><span style='background-color: rgba(0, 120, 255, 0.03); color: white; padding: 3px 5px; margin-right: 4px; border-radius: 4px;'>la</span><span style='background-color: rgba(0, 120, 255, 0.01); color: white; padding: 3px 5px; margin-right: 4px; border-radius: 4px;'>golppista</span><span style='background-color: rgba(0, 120, 255, 0.02); color: white; padding: 3px 5px; margin-right: 4px; border-radius: 4px;'>debera</span><span style='background-color: rgba(0, 120, 255, 0.03); color: white; padding: 3px 5px; margin-right: 4px; border-radius: 4px;'>tomar</span><span style='background-color: rgba(0, 120, 255, 0.01); color: white; padding: 3px 5px; margin-right: 4px; border-radius: 4px;'>nota</span><span style='background-color: rgba(0, 120, 255, 0.01); color: white; padding: 3px 5px; margin-right: 4px; border-radius: 4px;'>del</span><span style='background-color: rgba(0, 120, 255, 0.03); color: white; padding: 3px 5px; margin-right: 4px; border-radius: 4px;'>triunfo</span><span style='background-color: rgba(0, 120, 255, 0.00); color: white; padding: 3px 5px; margin-right: 4px; border-radius: 4px;'>de</span><span style='background-color: rgba(0, 120, 255, 0.05); color: white; padding: 3px 5px; margin-right: 4px; border-radius: 4px;'>hamon</span><span style='background-color: rgba(0, 120, 255, 0.00); color: white; padding: 3px 5px; margin-right: 4px; border-radius: 4px;'>en</span><span style='background-color: rgba(0, 120, 255, 0.00); color: white; padding: 3px 5px; margin-right: 4px; border-radius: 4px;'>con</span><span style='background-color: rgba(0, 120, 255, 0.00); color: white; padding: 3px 5px; margin-right: 4px; border-radius: 4px;'>el</span><span style='background-color: rgba(0, 120, 255, 0.01); color: white; padding: 3px 5px; margin-right: 4px; border-radius: 4px;'>giro</span><span style='background-color: rgba(0, 120, 255, 0.00); color: white; padding: 3px 5px; margin-right: 4px; border-radius: 4px;'>a</span><span style='background-color: rgba(0, 120, 255, 0.02); color: white; padding: 3px 5px; margin-right: 4px; border-radius: 4px;'>la</span><span style='background-color: rgba(0, 120, 255, 0.02); color: white; padding: 3px 5px; margin-right: 4px; border-radius: 4px;'>izquierda</span><span style='background-color: rgba(0, 120, 255, 0.02); color: white; padding: 3px 5px; margin-right: 4px; border-radius: 4px;'>del</span><span style='background-color: rgba(0, 120, 255, 0.10); color: white; padding: 3px 5px; margin-right: 4px; border-radius: 4px;'>psf</span><span style='background-color: rgba(0, 120, 255, 0.00); color: white; padding: 3px 5px; margin-right: 4px; border-radius: 4px;'>que</span><span style='background-color: rgba(0, 120, 255, 0.07); color: white; padding: 3px 5px; margin-right: 4px; border-radius: 4px;'>decas</span><span style='background-color: rgba(0, 120, 255, 0.04); color: white; padding: 3px 5px; margin-right: 4px; border-radius: 4px;'>t</span><span style='background-color: rgba(0, 120, 255, 0.00); color: white; padding: 3px 5px; margin-right: 4px; border-radius: 4px;'>y</span><span style='background-color: rgba(0, 120, 255, 0.10); color: white; padding: 3px 5px; margin-right: 4px; border-radius: 4px;'>tu</span><span style='background-color: rgba(0, 120, 255, 0.24); color: white; padding: 3px 5px; margin-right: 4px; border-radius: 4px;'>susana</span><span style='background-color: rgba(0, 120, 255, 0.07); color: white; padding: 3px 5px; margin-right: 4px; border-radius: 4px;'>hace</span><span style='background-color: rgba(0, 120, 255, 0.03); color: white; padding: 3px 5px; margin-right: 4px; border-radius: 4px;'>poco</span><span style='background-color: rgba(0, 120, 255, 0.04); color: white; padding: 3px 5px; margin-right: 4px; border-radius: 4px;'>ms</span><span style='background-color: rgba(0, 120, 255, 0.00); color: white; padding: 3px 5px; margin-right: 4px; border-radius: 4px;'>de</span><span style='background-color: rgba(0, 120, 255, 0.01); color: white; padding: 3px 5px; margin-right: 4px; border-radius: 4px;'>un</span><span style='background-color: rgba(0, 120, 255, 0.09); color: white; padding: 3px 5px; margin-right: 4px; border-radius: 4px;'>ao</span><span style='background-color: rgba(0, 120, 255, 0.03); color: white; padding: 3px 5px; margin-right: 4px; border-radius: 4px;'>??quin</span><span style='background-color: rgba(0, 120, 255, 0.02); color: white; padding: 3px 5px; margin-right: 4px; border-radius: 4px;'>dio</span><span style='background-color: rgba(0, 120, 255, 0.00); color: white; padding: 3px 5px; margin-right: 4px; border-radius: 4px;'>el</span><span style='background-color: rgba(0, 120, 255, 0.01); color: white; padding: 3px 5px; margin-right: 4px; border-radius: 4px;'>gobierno</span><span style='background-color: rgba(0, 120, 255, 0.02); color: white; padding: 3px 5px; margin-right: 4px; border-radius: 4px;'>al</span><span style='background-color: rgba(0, 120, 255, 0.00); color: white; padding: 3px 5px; margin-right: 4px; border-radius: 4px;'>con</span><span style='background-color: rgba(0, 120, 255, 0.01); color: white; padding: 3px 5px; margin-right: 4px; border-radius: 4px;'>la</span><span style='background-color: rgba(0, 120, 255, 0.00); color: white; padding: 3px 5px; margin-right: 4px; border-radius: 4px;'>a</span><span style='background-color: rgba(0, 120, 255, 0.03); color: white; padding: 3px 5px; margin-right: 4px; border-radius: 4px;'>le</span><span style='background-color: rgba(0, 120, 255, 0.00); color: white; padding: 3px 5px; margin-right: 4px; border-radius: 4px;'>quiero</span><span style='background-color: rgba(0, 120, 255, 0.00); color: white; padding: 3px 5px; margin-right: 4px; border-radius: 4px;'>muerto</span><span style='background-color: rgba(0, 120, 255, 0.00); color: white; padding: 3px 5px; margin-right: 4px; border-radius: 4px;'>hoy</span><span style='background-color: rgba(0, 120, 255, 0.01); color: white; padding: 3px 5px; margin-right: 4px; border-radius: 4px;'>as</span><span style='background-color: rgba(0, 120, 255, 0.00); color: white; padding: 3px 5px; margin-right: 4px; border-radius: 4px;'>cose!</span></div><br><div style='background-color: rgba(255, 255, 150, 0.05); padding: 5px; margin-bottom: 4px; border-radius: 5px;'><span style='background-color: rgba(0, 120, 255, 0.01); color: white; padding: 3px 5px; margin-right: 4px; border-radius: 4px;'>algo</span><span style='background-color: rgba(0, 120, 255, 0.00); color: white; padding: 3px 5px; margin-right: 4px; border-radius: 4px;'>que</span><span style='background-color: rgba(0, 120, 255, 0.06); color: white; padding: 3px 5px; margin-right: 4px; border-radius: 4px;'>decir</span><span style='background-color: rgba(0, 120, 255, 0.00); color: white; padding: 3px 5px; margin-right: 4px; border-radius: 4px;'>y</span><span style='background-color: rgba(0, 120, 255, 0.00); color: white; padding: 3px 5px; margin-right: 4px; border-radius: 4px;'>sobre</span><span style='background-color: rgba(0, 120, 255, 0.00); color: white; padding: 3px 5px; margin-right: 4px; border-radius: 4px;'>el</span><span style='background-color: rgba(0, 120, 255, 0.01); color: white; padding: 3px 5px; margin-right: 4px; border-radius: 4px;'>abuso</span><span style='background-color: rgba(0, 120, 255, 0.00); color: white; padding: 3px 5px; margin-right: 4px; border-radius: 4px;'>de</span><span style='background-color: rgba(0, 120, 255, 0.01); color: white; padding: 3px 5px; margin-right: 4px; border-radius: 4px;'>a</span><span style='background-color: rgba(0, 120, 255, 1.00); color: white; padding: 3px 5px; margin-right: 4px; border-radius: 4px;'>pasajeros</span><span style='background-color: rgba(0, 120, 255, 0.01); color: white; padding: 3px 5px; margin-right: 4px; border-radius: 4px;'>?</span></div><br><div style='background-color: rgba(255, 255, 150, 0.00); padding: 5px; margin-bottom: 4px; border-radius: 5px;'><span style='background-color: rgba(0, 120, 255, 0.34); color: white; padding: 3px 5px; margin-right: 4px; border-radius: 4px;'>muchas</span><span style='background-color: rgba(0, 120, 255, 0.66); color: white; padding: 3px 5px; margin-right: 4px; border-radius: 4px;'>gracias</span><span style='background-color: rgba(0, 120, 255, 0.02); color: white; padding: 3px 5px; margin-right: 4px; border-radius: 4px;'>!!</span></div><br><div style='background-color: rgba(255, 255, 150, 0.00); padding: 5px; margin-bottom: 4px; border-radius: 5px;'><span style='background-color: rgba(0, 120, 255, 0.06); color: white; padding: 3px 5px; margin-right: 4px; border-radius: 4px;'>cmo</span><span style='background-color: rgba(0, 120, 255, 0.06); color: white; padding: 3px 5px; margin-right: 4px; border-radius: 4px;'>es</span><span style='background-color: rgba(0, 120, 255, 0.02); color: white; padding: 3px 5px; margin-right: 4px; border-radius: 4px;'>posible</span><span style='background-color: rgba(0, 120, 255, 0.01); color: white; padding: 3px 5px; margin-right: 4px; border-radius: 4px;'>q</span><span style='background-color: rgba(0, 120, 255, 0.21); color: white; padding: 3px 5px; margin-right: 4px; border-radius: 4px;'>cancele</span><span style='background-color: rgba(0, 120, 255, 0.05); color: white; padding: 3px 5px; margin-right: 4px; border-radius: 4px;'>viaje</span><span style='background-color: rgba(0, 120, 255, 0.00); color: white; padding: 3px 5px; margin-right: 4px; border-radius: 4px;'>sin</span><span style='background-color: rgba(0, 120, 255, 0.01); color: white; padding: 3px 5px; margin-right: 4px; border-radius: 4px;'>autorizacin</span><span style='background-color: rgba(0, 120, 255, 0.00); color: white; padding: 3px 5px; margin-right: 4px; border-radius: 4px;'>de</span><span style='background-color: rgba(0, 120, 255, 0.00); color: white; padding: 3px 5px; margin-right: 4px; border-radius: 4px;'>y</span><span style='background-color: rgba(0, 120, 255, 0.00); color: white; padding: 3px 5px; margin-right: 4px; border-radius: 4px;'>y</span><span style='background-color: rgba(0, 120, 255, 0.00); color: white; padding: 3px 5px; margin-right: 4px; border-radius: 4px;'>no</span><span style='background-color: rgba(0, 120, 255, 0.20); color: white; padding: 3px 5px; margin-right: 4px; border-radius: 4px;'>les</span><span style='background-color: rgba(0, 120, 255, 0.41); color: white; padding: 3px 5px; margin-right: 4px; border-radius: 4px;'>reembolse</span><span style='background-color: rgba(0, 120, 255, 0.01); color: white; padding: 3px 5px; margin-right: 4px; border-radius: 4px;'>los</span><span style='background-color: rgba(0, 120, 255, 0.01); color: white; padding: 3px 5px; margin-right: 4px; border-radius: 4px;'>800</span><span style='background-color: rgba(0, 120, 255, 0.01); color: white; padding: 3px 5px; margin-right: 4px; border-radius: 4px;'>euros?</span></div><br><div style='background-color: rgba(255, 255, 150, 0.00); padding: 5px; margin-bottom: 4px; border-radius: 5px;'><span style='background-color: rgba(0, 120, 255, 0.03); color: white; padding: 3px 5px; margin-right: 4px; border-radius: 4px;'>no</span><span style='background-color: rgba(0, 120, 255, 0.34); color: white; padding: 3px 5px; margin-right: 4px; border-radius: 4px;'>va</span><span style='background-color: rgba(0, 120, 255, 0.02); color: white; padding: 3px 5px; margin-right: 4px; border-radius: 4px;'>a</span><span style='background-color: rgba(0, 120, 255, 0.16); color: white; padding: 3px 5px; margin-right: 4px; border-radius: 4px;'>opinar</span><span style='background-color: rgba(0, 120, 255, 0.05); color: white; padding: 3px 5px; margin-right: 4px; border-radius: 4px;'>nada..</span></div><br><div style='background-color: rgba(255, 255, 150, 0.00); padding: 5px; margin-bottom: 4px; border-radius: 5px;'><span style='background-color: rgba(0, 120, 255, 0.51); color: white; padding: 3px 5px; margin-right: 4px; border-radius: 4px;'>tambin</span><span style='background-color: rgba(0, 120, 255, 0.17); color: white; padding: 3px 5px; margin-right: 4px; border-radius: 4px;'>tiene</span><span style='background-color: rgba(0, 120, 255, 0.02); color: white; padding: 3px 5px; margin-right: 4px; border-radius: 4px;'>q</span><span style='background-color: rgba(0, 120, 255, 0.09); color: white; padding: 3px 5px; margin-right: 4px; border-radius: 4px;'>pagar</span><span style='background-color: rgba(0, 120, 255, 0.05); color: white; padding: 3px 5px; margin-right: 4px; border-radius: 4px;'>la</span><span style='background-color: rgba(0, 120, 255, 0.01); color: white; padding: 3px 5px; margin-right: 4px; border-radius: 4px;'>hipoteca!</span></div><br><div style='background-color: rgba(255, 255, 150, 0.00); padding: 5px; margin-bottom: 4px; border-radius: 5px;'><span style='background-color: rgba(0, 120, 255, 0.01); color: white; padding: 3px 5px; margin-right: 4px; border-radius: 4px;'>siempre</span><span style='background-color: rgba(0, 120, 255, 0.01); color: white; padding: 3px 5px; margin-right: 4px; border-radius: 4px;'>hay</span><span style='background-color: rgba(0, 120, 255, 0.00); color: white; padding: 3px 5px; margin-right: 4px; border-radius: 4px;'>tiempo</span><span style='background-color: rgba(0, 120, 255, 0.00); color: white; padding: 3px 5px; margin-right: 4px; border-radius: 4px;'>para</span><span style='background-color: rgba(0, 120, 255, 0.01); color: white; padding: 3px 5px; margin-right: 4px; border-radius: 4px;'>volver..y</span><span style='background-color: rgba(0, 120, 255, 0.01); color: white; padding: 3px 5px; margin-right: 4px; border-radius: 4px;'>el</span><span style='background-color: rgba(0, 120, 255, 0.03); color: white; padding: 3px 5px; margin-right: 4px; border-radius: 4px;'>censo</span><span style='background-color: rgba(0, 120, 255, 0.00); color: white; padding: 3px 5px; margin-right: 4px; border-radius: 4px;'>no</span><span style='background-color: rgba(0, 120, 255, 0.03); color: white; padding: 3px 5px; margin-right: 4px; border-radius: 4px;'>est</span><span style='background-color: rgba(0, 120, 255, 0.65); color: white; padding: 3px 5px; margin-right: 4px; border-radius: 4px;'>tofavia</span><span style='background-color: rgba(0, 120, 255, 0.38); color: white; padding: 3px 5px; margin-right: 4px; border-radius: 4px;'>cerrado</span><span style='background-color: rgba(0, 120, 255, 0.01); color: white; padding: 3px 5px; margin-right: 4px; border-radius: 4px;'>!!</span></div><br><div style='background-color: rgba(255, 255, 150, 0.18); padding: 5px; margin-bottom: 4px; border-radius: 5px;'><span style='background-color: rgba(0, 120, 255, 0.00); color: white; padding: 3px 5px; margin-right: 4px; border-radius: 4px;'>comienza</span><span style='background-color: rgba(0, 120, 255, 0.00); color: white; padding: 3px 5px; margin-right: 4px; border-radius: 4px;'>a</span><span style='background-color: rgba(0, 120, 255, 0.00); color: white; padding: 3px 5px; margin-right: 4px; border-radius: 4px;'>escocer</span><span style='background-color: rgba(0, 120, 255, 0.00); color: white; padding: 3px 5px; margin-right: 4px; border-radius: 4px;'>q</span><span style='background-color: rgba(0, 120, 255, 0.00); color: white; padding: 3px 5px; margin-right: 4px; border-radius: 4px;'>no</span><span style='background-color: rgba(0, 120, 255, 0.00); color: white; padding: 3px 5px; margin-right: 4px; border-radius: 4px;'>seamos</span><span style='background-color: rgba(0, 120, 255, 0.00); color: white; padding: 3px 5px; margin-right: 4px; border-radius: 4px;'>slo</span><span style='background-color: rgba(0, 120, 255, 0.00); color: white; padding: 3px 5px; margin-right: 4px; border-radius: 4px;'>pagacuotas</span><span style='background-color: rgba(0, 120, 255, 0.00); color: white; padding: 3px 5px; margin-right: 4px; border-radius: 4px;'>y</span><span style='background-color: rgba(0, 120, 255, 0.00); color: white; padding: 3px 5px; margin-right: 4px; border-radius: 4px;'>pegacarteles</span><span style='background-color: rgba(0, 120, 255, 0.00); color: white; padding: 3px 5px; margin-right: 4px; border-radius: 4px;'>y</span><span style='background-color: rgba(0, 120, 255, 0.00); color: white; padding: 3px 5px; margin-right: 4px; border-radius: 4px;'>exigamos</span><span style='background-color: rgba(0, 120, 255, 0.00); color: white; padding: 3px 5px; margin-right: 4px; border-radius: 4px;'>voz</span><span style='background-color: rgba(0, 120, 255, 0.00); color: white; padding: 3px 5px; margin-right: 4px; border-radius: 4px;'>,voto</span><span style='background-color: rgba(0, 120, 255, 0.00); color: white; padding: 3px 5px; margin-right: 4px; border-radius: 4px;'>y</span><span style='background-color: rgba(0, 120, 255, 0.00); color: white; padding: 3px 5px; margin-right: 4px; border-radius: 4px;'>poder</span><span style='background-color: rgba(0, 120, 255, 0.00); color: white; padding: 3px 5px; margin-right: 4px; border-radius: 4px;'>decidir</span><span style='background-color: rgba(0, 120, 255, 1.00); color: white; padding: 3px 5px; margin-right: 4px; border-radius: 4px;'>os</span><span style='background-color: rgba(0, 120, 255, 0.00); color: white; padding: 3px 5px; margin-right: 4px; border-radius: 4px;'>acordis?</span></div><br><div style='background-color: rgba(255, 255, 150, 0.02); padding: 5px; margin-bottom: 4px; border-radius: 5px;'><span style='background-color: rgba(0, 120, 255, 0.93); color: white; padding: 3px 5px; margin-right: 4px; border-radius: 4px;'>han</span><span style='background-color: rgba(0, 120, 255, 0.00); color: white; padding: 3px 5px; margin-right: 4px; border-radius: 4px;'>pasado</span><span style='background-color: rgba(0, 120, 255, 0.00); color: white; padding: 3px 5px; margin-right: 4px; border-radius: 4px;'>slo</span><span style='background-color: rgba(0, 120, 255, 0.00); color: white; padding: 3px 5px; margin-right: 4px; border-radius: 4px;'>2</span><span style='background-color: rgba(0, 120, 255, 0.01); color: white; padding: 3px 5px; margin-right: 4px; border-radius: 4px;'>aos</span><span style='background-color: rgba(0, 120, 255, 0.00); color: white; padding: 3px 5px; margin-right: 4px; border-radius: 4px;'>entre</span><span style='background-color: rgba(0, 120, 255, 0.00); color: white; padding: 3px 5px; margin-right: 4px; border-radius: 4px;'>una</span><span style='background-color: rgba(0, 120, 255, 0.00); color: white; padding: 3px 5px; margin-right: 4px; border-radius: 4px;'>y</span><span style='background-color: rgba(0, 120, 255, 0.00); color: white; padding: 3px 5px; margin-right: 4px; border-radius: 4px;'>otra</span><span style='background-color: rgba(0, 120, 255, 0.00); color: white; padding: 3px 5px; margin-right: 4px; border-radius: 4px;'>imagen..lo</span><span style='background-color: rgba(0, 120, 255, 0.00); color: white; padding: 3px 5px; margin-right: 4px; border-radius: 4px;'>de</span><span style='background-color: rgba(0, 120, 255, 0.00); color: white; padding: 3px 5px; margin-right: 4px; border-radius: 4px;'>s</span><span style='background-color: rgba(0, 120, 255, 0.00); color: white; padding: 3px 5px; margin-right: 4px; border-radius: 4px;'>y</span><span style='background-color: rgba(0, 120, 255, 0.00); color: white; padding: 3px 5px; margin-right: 4px; border-radius: 4px;'>lo</span><span style='background-color: rgba(0, 120, 255, 0.00); color: white; padding: 3px 5px; margin-right: 4px; border-radius: 4px;'>saben!junt</span><span style='background-color: rgba(0, 120, 255, 0.00); color: white; padding: 3px 5px; margin-right: 4px; border-radius: 4px;'>por</span><span style='background-color: rgba(0, 120, 255, 0.00); color: white; padding: 3px 5px; margin-right: 4px; border-radius: 4px;'>un</span><span style='background-color: rgba(0, 120, 255, 0.00); color: white; padding: 3px 5px; margin-right: 4px; border-radius: 4px;'>de</span><span style='background-color: rgba(0, 120, 255, 0.11); color: white; padding: 3px 5px; margin-right: 4px; border-radius: 4px;'>izquierdas</span><span style='background-color: rgba(0, 120, 255, 0.01); color: white; padding: 3px 5px; margin-right: 4px; border-radius: 4px;'>..el</span><span style='background-color: rgba(0, 120, 255, 0.00); color: white; padding: 3px 5px; margin-right: 4px; border-radius: 4px;'>que</span><span style='background-color: rgba(0, 120, 255, 0.00); color: white; padding: 3px 5px; margin-right: 4px; border-radius: 4px;'>nunca</span><span style='background-color: rgba(0, 120, 255, 0.01); color: white; padding: 3px 5px; margin-right: 4px; border-radius: 4px;'>debi</span><span style='background-color: rgba(0, 120, 255, 0.00); color: white; padding: 3px 5px; margin-right: 4px; border-radius: 4px;'>dejar</span><span style='background-color: rgba(0, 120, 255, 0.00); color: white; padding: 3px 5px; margin-right: 4px; border-radius: 4px;'>tuscompaerde</span><span style='background-color: rgba(0, 120, 255, 0.01); color: white; padding: 3px 5px; margin-right: 4px; border-radius: 4px;'>trolleo</span><span style='background-color: rgba(0, 120, 255, 0.00); color: white; padding: 3px 5px; margin-right: 4px; border-radius: 4px;'>en</span><span style='background-color: rgba(0, 120, 255, 0.01); color: white; padding: 3px 5px; margin-right: 4px; border-radius: 4px;'>redes</span><span style='background-color: rgba(0, 120, 255, 0.00); color: white; padding: 3px 5px; margin-right: 4px; border-radius: 4px;'>son</span><span style='background-color: rgba(0, 120, 255, 0.00); color: white; padding: 3px 5px; margin-right: 4px; border-radius: 4px;'>de</span><span style='background-color: rgba(0, 120, 255, 0.00); color: white; padding: 3px 5px; margin-right: 4px; border-radius: 4px;'>lamban,susana</span><span style='background-color: rgba(0, 120, 255, 0.00); color: white; padding: 3px 5px; margin-right: 4px; border-radius: 4px;'>y</span><span style='background-color: rgba(0, 120, 255, 0.02); color: white; padding: 3px 5px; margin-right: 4px; border-radius: 4px;'>dems</span><span style='background-color: rgba(0, 120, 255, 0.02); color: white; padding: 3px 5px; margin-right: 4px; border-radius: 4px;'>cuchipandi</span><span style='background-color: rgba(0, 120, 255, 0.00); color: white; padding: 3px 5px; margin-right: 4px; border-radius: 4px;'>golppista..tu</span><span style='background-color: rgba(0, 120, 255, 0.00); color: white; padding: 3px 5px; margin-right: 4px; border-radius: 4px;'>de</span><span style='background-color: rgba(0, 120, 255, 0.00); color: white; padding: 3px 5px; margin-right: 4px; border-radius: 4px;'>?</span></div><br><div style='background-color: rgba(255, 255, 150, 0.01); padding: 5px; margin-bottom: 4px; border-radius: 5px;'><span style='background-color: rgba(0, 120, 255, 0.00); color: white; padding: 3px 5px; margin-right: 4px; border-radius: 4px;'>ya</span><span style='background-color: rgba(0, 120, 255, 0.00); color: white; padding: 3px 5px; margin-right: 4px; border-radius: 4px;'>de</span><span style='background-color: rgba(0, 120, 255, 0.01); color: white; padding: 3px 5px; margin-right: 4px; border-radius: 4px;'>verdad,qu</span><span style='background-color: rgba(0, 120, 255, 0.06); color: white; padding: 3px 5px; margin-right: 4px; border-radius: 4px;'>te</span><span style='background-color: rgba(0, 120, 255, 1.00); color: white; padding: 3px 5px; margin-right: 4px; border-radius: 4px;'>han</span><span style='background-color: rgba(0, 120, 255, 0.05); color: white; padding: 3px 5px; margin-right: 4px; border-radius: 4px;'>prometido</span><span style='background-color: rgba(0, 120, 255, 0.00); color: white; padding: 3px 5px; margin-right: 4px; border-radius: 4px;'>en</span><span style='background-color: rgba(0, 120, 255, 0.01); color: white; padding: 3px 5px; margin-right: 4px; border-radius: 4px;'>la</span><span style='background-color: rgba(0, 120, 255, 0.00); color: white; padding: 3px 5px; margin-right: 4px; border-radius: 4px;'>generalitat??</span></div><br><div style='background-color: rgba(255, 255, 150, 0.00); padding: 5px; margin-bottom: 4px; border-radius: 5px;'><span style='background-color: rgba(0, 120, 255, 0.13); color: white; padding: 3px 5px; margin-right: 4px; border-radius: 4px;'>es</span><span style='background-color: rgba(0, 120, 255, 0.01); color: white; padding: 3px 5px; margin-right: 4px; border-radius: 4px;'>que</span><span style='background-color: rgba(0, 120, 255, 0.09); color: white; padding: 3px 5px; margin-right: 4px; border-radius: 4px;'>todos</span><span style='background-color: rgba(0, 120, 255, 0.03); color: white; padding: 3px 5px; margin-right: 4px; border-radius: 4px;'>los</span><span style='background-color: rgba(0, 120, 255, 0.01); color: white; padding: 3px 5px; margin-right: 4px; border-radius: 4px;'>que</span><span style='background-color: rgba(0, 120, 255, 0.39); color: white; padding: 3px 5px; margin-right: 4px; border-radius: 4px;'>estis</span><span style='background-color: rgba(0, 120, 255, 0.01); color: white; padding: 3px 5px; margin-right: 4px; border-radius: 4px;'>con</span><span style='background-color: rgba(0, 120, 255, 0.03); color: white; padding: 3px 5px; margin-right: 4px; border-radius: 4px;'>los</span><span style='background-color: rgba(0, 120, 255, 0.03); color: white; padding: 3px 5px; margin-right: 4px; border-radius: 4px;'>golppistas</span><span style='background-color: rgba(0, 120, 255, 0.04); color: white; padding: 3px 5px; margin-right: 4px; border-radius: 4px;'>tienen</span><span style='background-color: rgba(0, 120, 255, 0.03); color: white; padding: 3px 5px; margin-right: 4px; border-radius: 4px;'>silln..</span></div><br><div style='background-color: rgba(255, 255, 150, 0.00); padding: 5px; margin-bottom: 4px; border-radius: 5px;'><span style='background-color: rgba(0, 120, 255, 0.06); color: white; padding: 3px 5px; margin-right: 4px; border-radius: 4px;'>pues</span><span style='background-color: rgba(0, 120, 255, 0.01); color: white; padding: 3px 5px; margin-right: 4px; border-radius: 4px;'>si</span><span style='background-color: rgba(0, 120, 255, 0.06); color: white; padding: 3px 5px; margin-right: 4px; border-radius: 4px;'>siguen</span><span style='background-color: rgba(0, 120, 255, 0.04); color: white; padding: 3px 5px; margin-right: 4px; border-radius: 4px;'>acosndole</span><span style='background-color: rgba(0, 120, 255, 0.05); color: white; padding: 3px 5px; margin-right: 4px; border-radius: 4px;'>,menos</span><span style='background-color: rgba(0, 120, 255, 0.14); color: white; padding: 3px 5px; margin-right: 4px; border-radius: 4px;'>lectores</span><span style='background-color: rgba(0, 120, 255, 0.23); color: white; padding: 3px 5px; margin-right: 4px; border-radius: 4px;'>progresistas</span><span style='background-color: rgba(0, 120, 255, 0.00); color: white; padding: 3px 5px; margin-right: 4px; border-radius: 4px;'>y</span><span style='background-color: rgba(0, 120, 255, 0.13); color: white; padding: 3px 5px; margin-right: 4px; border-radius: 4px;'>ms</span><span style='background-color: rgba(0, 120, 255, 0.28); color: white; padding: 3px 5px; margin-right: 4px; border-radius: 4px;'>acrecientan</span><span style='background-color: rgba(0, 120, 255, 0.04); color: white; padding: 3px 5px; margin-right: 4px; border-radius: 4px;'>al</span><span style='background-color: rgba(0, 120, 255, 0.01); color: white; padding: 3px 5px; margin-right: 4px; border-radius: 4px;'>mito..</span></div><br><div style='background-color: rgba(255, 255, 150, 0.02); padding: 5px; margin-bottom: 4px; border-radius: 5px;'><span style='background-color: rgba(0, 120, 255, 0.00); color: white; padding: 3px 5px; margin-right: 4px; border-radius: 4px;'>sin</span><span style='background-color: rgba(0, 120, 255, 0.00); color: white; padding: 3px 5px; margin-right: 4px; border-radius: 4px;'>duda</span><span style='background-color: rgba(0, 120, 255, 0.00); color: white; padding: 3px 5px; margin-right: 4px; border-radius: 4px;'>,si</span><span style='background-color: rgba(0, 120, 255, 0.01); color: white; padding: 3px 5px; margin-right: 4px; border-radius: 4px;'>vuelve</span><span style='background-color: rgba(0, 120, 255, 0.00); color: white; padding: 3px 5px; margin-right: 4px; border-radius: 4px;'>ser</span><span style='background-color: rgba(0, 120, 255, 0.00); color: white; padding: 3px 5px; margin-right: 4px; border-radius: 4px;'>para</span><span style='background-color: rgba(0, 120, 255, 0.00); color: white; padding: 3px 5px; margin-right: 4px; border-radius: 4px;'>rescatar</span><span style='background-color: rgba(0, 120, 255, 0.00); color: white; padding: 3px 5px; margin-right: 4px; border-radius: 4px;'>con</span><span style='background-color: rgba(0, 120, 255, 0.03); color: white; padding: 3px 5px; margin-right: 4px; border-radius: 4px;'>nosotr</span><span style='background-color: rgba(0, 120, 255, 0.01); color: white; padding: 3px 5px; margin-right: 4px; border-radius: 4px;'>al</span><span style='background-color: rgba(0, 120, 255, 0.00); color: white; padding: 3px 5px; margin-right: 4px; border-radius: 4px;'>que</span><span style='background-color: rgba(0, 120, 255, 0.03); color: white; padding: 3px 5px; margin-right: 4px; border-radius: 4px;'>nos</span><span style='background-color: rgba(0, 120, 255, 1.00); color: white; padding: 3px 5px; margin-right: 4px; border-radius: 4px;'>han</span><span style='background-color: rgba(0, 120, 255, 0.05); color: white; padding: 3px 5px; margin-right: 4px; border-radius: 4px;'>secuestrado</span><span style='background-color: rgba(0, 120, 255, 0.00); color: white; padding: 3px 5px; margin-right: 4px; border-radius: 4px;'>los</span><span style='background-color: rgba(0, 120, 255, 0.00); color: white; padding: 3px 5px; margin-right: 4px; border-radius: 4px;'>golppistas!</span></div><br><div style='background-color: rgba(255, 255, 150, 0.00); padding: 5px; margin-bottom: 4px; border-radius: 5px;'><span style='background-color: rgba(0, 120, 255, 0.17); color: white; padding: 3px 5px; margin-right: 4px; border-radius: 4px;'>sigo</span><span style='background-color: rgba(0, 120, 255, 0.06); color: white; padding: 3px 5px; margin-right: 4px; border-radius: 4px;'>siendo</span><span style='background-color: rgba(0, 120, 255, 0.06); color: white; padding: 3px 5px; margin-right: 4px; border-radius: 4px;'>coherente</span><span style='background-color: rgba(0, 120, 255, 0.01); color: white; padding: 3px 5px; margin-right: 4px; border-radius: 4px;'>con</span><span style='background-color: rgba(0, 120, 255, 0.06); color: white; padding: 3px 5px; margin-right: 4px; border-radius: 4px;'>nuestros</span><span style='background-color: rgba(0, 120, 255, 0.03); color: white; padding: 3px 5px; margin-right: 4px; border-radius: 4px;'>principios</span><span style='background-color: rgba(0, 120, 255, 0.00); color: white; padding: 3px 5px; margin-right: 4px; border-radius: 4px;'>y</span><span style='background-color: rgba(0, 120, 255, 0.01); color: white; padding: 3px 5px; margin-right: 4px; border-radius: 4px;'>lo.prometido</span><span style='background-color: rgba(0, 120, 255, 0.00); color: white; padding: 3px 5px; margin-right: 4px; border-radius: 4px;'>en</span><span style='background-color: rgba(0, 120, 255, 0.16); color: white; padding: 3px 5px; margin-right: 4px; border-radius: 4px;'>campaa</span><span style='background-color: rgba(0, 120, 255, 0.14); color: white; padding: 3px 5px; margin-right: 4px; border-radius: 4px;'>electoral</span><span style='background-color: rgba(0, 120, 255, 0.14); color: white; padding: 3px 5px; margin-right: 4px; border-radius: 4px;'>tu</span><span style='background-color: rgba(0, 120, 255, 0.00); color: white; padding: 3px 5px; margin-right: 4px; border-radius: 4px;'>no</span><span style='background-color: rgba(0, 120, 255, 0.06); color: white; padding: 3px 5px; margin-right: 4px; border-radius: 4px;'>puedes</span><span style='background-color: rgba(0, 120, 255, 0.19); color: white; padding: 3px 5px; margin-right: 4px; border-radius: 4px;'>decir</span><span style='background-color: rgba(0, 120, 255, 0.01); color: white; padding: 3px 5px; margin-right: 4px; border-radius: 4px;'>lo</span><span style='background-color: rgba(0, 120, 255, 0.01); color: white; padding: 3px 5px; margin-right: 4px; border-radius: 4px;'>mismo!</span></div><br><div style='background-color: rgba(255, 255, 150, 0.01); padding: 5px; margin-bottom: 4px; border-radius: 5px;'><span style='background-color: rgba(0, 120, 255, 0.01); color: white; padding: 3px 5px; margin-right: 4px; border-radius: 4px;'>el</span><span style='background-color: rgba(0, 120, 255, 0.01); color: white; padding: 3px 5px; margin-right: 4px; border-radius: 4px;'>01102016</span><span style='background-color: rgba(0, 120, 255, 0.00); color: white; padding: 3px 5px; margin-right: 4px; border-radius: 4px;'>los</span><span style='background-color: rgba(0, 120, 255, 0.00); color: white; padding: 3px 5px; margin-right: 4px; border-radius: 4px;'>golppistas</span><span style='background-color: rgba(0, 120, 255, 0.00); color: white; padding: 3px 5px; margin-right: 4px; border-radius: 4px;'>se</span><span style='background-color: rgba(0, 120, 255, 0.02); color: white; padding: 3px 5px; margin-right: 4px; border-radius: 4px;'>cargaron</span><span style='background-color: rgba(0, 120, 255, 0.00); color: white; padding: 3px 5px; margin-right: 4px; border-radius: 4px;'>un</span><span style='background-color: rgba(0, 120, 255, 0.05); color: white; padding: 3px 5px; margin-right: 4px; border-radius: 4px;'>sg</span><span style='background-color: rgba(0, 120, 255, 0.00); color: white; padding: 3px 5px; margin-right: 4px; border-radius: 4px;'>elegido</span><span style='background-color: rgba(0, 120, 255, 0.00); color: white; padding: 3px 5px; margin-right: 4px; border-radius: 4px;'>x</span><span style='background-color: rgba(0, 120, 255, 0.02); color: white; padding: 3px 5px; margin-right: 4px; border-radius: 4px;'>la</span><span style='background-color: rgba(0, 120, 255, 0.05); color: white; padding: 3px 5px; margin-right: 4px; border-radius: 4px;'>militancia</span><span style='background-color: rgba(0, 120, 255, 0.00); color: white; padding: 3px 5px; margin-right: 4px; border-radius: 4px;'>sin</span><span style='background-color: rgba(0, 120, 255, 0.00); color: white; padding: 3px 5px; margin-right: 4px; border-radius: 4px;'>saber</span><span style='background-color: rgba(0, 120, 255, 0.00); color: white; padding: 3px 5px; margin-right: 4px; border-radius: 4px;'>que</span><span style='background-color: rgba(0, 120, 255, 0.00); color: white; padding: 3px 5px; margin-right: 4px; border-radius: 4px;'>el</span><span style='background-color: rgba(0, 120, 255, 0.01); color: white; padding: 3px 5px; margin-right: 4px; border-radius: 4px;'>28012017</span><span style='background-color: rgba(0, 120, 255, 0.09); color: white; padding: 3px 5px; margin-right: 4px; border-radius: 4px;'>nacia</span><span style='background-color: rgba(0, 120, 255, 0.01); color: white; padding: 3px 5px; margin-right: 4px; border-radius: 4px;'>un</span><span style='background-color: rgba(0, 120, 255, 0.02); color: white; padding: 3px 5px; margin-right: 4px; border-radius: 4px;'>lder!!yo</span><span style='background-color: rgba(0, 120, 255, 0.00); color: white; padding: 3px 5px; margin-right: 4px; border-radius: 4px;'>con</span><span style='background-color: rgba(0, 120, 255, 0.36); color: white; padding: 3px 5px; margin-right: 4px; border-radius: 4px;'>sabes</span><span style='background-color: rgba(0, 120, 255, 0.01); color: white; padding: 3px 5px; margin-right: 4px; border-radius: 4px;'>q</span><span style='background-color: rgba(0, 120, 255, 0.29); color: white; padding: 3px 5px; margin-right: 4px; border-radius: 4px;'>lament</span><span style='background-color: rgba(0, 120, 255, 0.10); color: white; padding: 3px 5px; margin-right: 4px; border-radius: 4px;'>mucho</span><span style='background-color: rgba(0, 120, 255, 0.05); color: white; padding: 3px 5px; margin-right: 4px; border-radius: 4px;'>tu</span><span style='background-color: rgba(0, 120, 255, 0.02); color: white; padding: 3px 5px; margin-right: 4px; border-radius: 4px;'>marcha</span><span style='background-color: rgba(0, 120, 255, 0.01); color: white; padding: 3px 5px; margin-right: 4px; border-radius: 4px;'>del</span><span style='background-color: rgba(0, 120, 255, 0.00); color: white; padding: 3px 5px; margin-right: 4px; border-radius: 4px;'>pero</span><span style='background-color: rgba(0, 120, 255, 0.01); color: white; padding: 3px 5px; margin-right: 4px; border-radius: 4px;'>creo</span><span style='background-color: rgba(0, 120, 255, 0.00); color: white; padding: 3px 5px; margin-right: 4px; border-radius: 4px;'>que</span><span style='background-color: rgba(0, 120, 255, 0.00); color: white; padding: 3px 5px; margin-right: 4px; border-radius: 4px;'>es</span><span style='background-color: rgba(0, 120, 255, 0.00); color: white; padding: 3px 5px; margin-right: 4px; border-radius: 4px;'>hora</span><span style='background-color: rgba(0, 120, 255, 0.00); color: white; padding: 3px 5px; margin-right: 4px; border-radius: 4px;'>que</span><span style='background-color: rgba(0, 120, 255, 0.00); color: white; padding: 3px 5px; margin-right: 4px; border-radius: 4px;'>vuelvas,compi!muchos</span><span style='background-color: rgba(0, 120, 255, 0.01); color: white; padding: 3px 5px; margin-right: 4px; border-radius: 4px;'>te</span><span style='background-color: rgba(0, 120, 255, 0.00); color: white; padding: 3px 5px; margin-right: 4px; border-radius: 4px;'>esperamos!</span></div><br><div style='background-color: rgba(255, 255, 150, 0.00); padding: 5px; margin-bottom: 4px; border-radius: 5px;'><span style='background-color: rgba(0, 120, 255, 0.11); color: white; padding: 3px 5px; margin-right: 4px; border-radius: 4px;'>estos</span><span style='background-color: rgba(0, 120, 255, 0.01); color: white; padding: 3px 5px; margin-right: 4px; border-radius: 4px;'>golppistas</span><span style='background-color: rgba(0, 120, 255, 0.00); color: white; padding: 3px 5px; margin-right: 4px; border-radius: 4px;'>de</span><span style='background-color: rgba(0, 120, 255, 0.02); color: white; padding: 3px 5px; margin-right: 4px; border-radius: 4px;'>ser</span><span style='background-color: rgba(0, 120, 255, 0.01); color: white; padding: 3px 5px; margin-right: 4px; border-radius: 4px;'>hoy</span><span style='background-color: rgba(0, 120, 255, 0.04); color: white; padding: 3px 5px; margin-right: 4px; border-radius: 4px;'>3</span><span style='background-color: rgba(0, 120, 255, 0.08); color: white; padding: 3px 5px; margin-right: 4px; border-radius: 4px;'>fuerza</span><span style='background-color: rgba(0, 120, 255, 0.03); color: white; padding: 3px 5px; margin-right: 4px; border-radius: 4px;'>tras</span><span style='background-color: rgba(0, 120, 255, 0.43); color: white; padding: 3px 5px; margin-right: 4px; border-radius: 4px;'>defiendes</span><span style='background-color: rgba(0, 120, 255, 0.13); color: white; padding: 3px 5px; margin-right: 4px; border-radius: 4px;'>tu!</span><span style='background-color: rgba(0, 120, 255, 0.05); color: white; padding: 3px 5px; margin-right: 4px; border-radius: 4px;'>me</span><span style='background-color: rgba(0, 120, 255, 0.12); color: white; padding: 3px 5px; margin-right: 4px; border-radius: 4px;'>sumo</span><span style='background-color: rgba(0, 120, 255, 0.00); color: white; padding: 3px 5px; margin-right: 4px; border-radius: 4px;'>a</span><span style='background-color: rgba(0, 120, 255, 0.01); color: white; padding: 3px 5px; margin-right: 4px; border-radius: 4px;'>!</span></div><br><div style='background-color: rgba(255, 255, 150, 0.03); padding: 5px; margin-bottom: 4px; border-radius: 5px;'><span style='background-color: rgba(0, 120, 255, 0.42); color: white; padding: 3px 5px; margin-right: 4px; border-radius: 4px;'>orgulloso</span><span style='background-color: rgba(0, 120, 255, 0.00); color: white; padding: 3px 5px; margin-right: 4px; border-radius: 4px;'>de</span><span style='background-color: rgba(0, 120, 255, 0.46); color: white; padding: 3px 5px; margin-right: 4px; border-radius: 4px;'>ti</span><span style='background-color: rgba(0, 120, 255, 0.02); color: white; padding: 3px 5px; margin-right: 4px; border-radius: 4px;'>,de</span><span style='background-color: rgba(0, 120, 255, 0.03); color: white; padding: 3px 5px; margin-right: 4px; border-radius: 4px;'>tu</span><span style='background-color: rgba(0, 120, 255, 0.00); color: white; padding: 3px 5px; margin-right: 4px; border-radius: 4px;'>y</span><span style='background-color: rgba(0, 120, 255, 0.00); color: white; padding: 3px 5px; margin-right: 4px; border-radius: 4px;'>a</span><span style='background-color: rgba(0, 120, 255, 0.05); color: white; padding: 3px 5px; margin-right: 4px; border-radius: 4px;'>valores</span><span style='background-color: rgba(0, 120, 255, 0.20); color: white; padding: 3px 5px; margin-right: 4px; border-radius: 4px;'>socialistas</span><span style='background-color: rgba(0, 120, 255, 0.00); color: white; padding: 3px 5px; margin-right: 4px; border-radius: 4px;'>y</span><span style='background-color: rgba(0, 120, 255, 0.00); color: white; padding: 3px 5px; margin-right: 4px; border-radius: 4px;'>a</span><span style='background-color: rgba(0, 120, 255, 0.00); color: white; padding: 3px 5px; margin-right: 4px; border-radius: 4px;'>!</span></div><br><div style='background-color: rgba(255, 255, 150, 0.00); padding: 5px; margin-bottom: 4px; border-radius: 5px;'><span style='background-color: rgba(0, 120, 255, 0.25); color: white; padding: 3px 5px; margin-right: 4px; border-radius: 4px;'>muchas</span><span style='background-color: rgba(0, 120, 255, 0.64); color: white; padding: 3px 5px; margin-right: 4px; border-radius: 4px;'>gracias</span><span style='background-color: rgba(0, 120, 255, 0.14); color: white; padding: 3px 5px; margin-right: 4px; border-radius: 4px;'>compi</span><span style='background-color: rgba(0, 120, 255, 0.00); color: white; padding: 3px 5px; margin-right: 4px; border-radius: 4px;'>por</span><span style='background-color: rgba(0, 120, 255, 0.07); color: white; padding: 3px 5px; margin-right: 4px; border-radius: 4px;'>tu</span><span style='background-color: rgba(0, 120, 255, 0.00); color: white; padding: 3px 5px; margin-right: 4px; border-radius: 4px;'>con</span><span style='background-color: rgba(0, 120, 255, 0.03); color: white; padding: 3px 5px; margin-right: 4px; border-radius: 4px;'>nuestros</span><span style='background-color: rgba(0, 120, 255, 0.01); color: white; padding: 3px 5px; margin-right: 4px; border-radius: 4px;'>valores,</span><span style='background-color: rgba(0, 120, 255, 0.00); color: white; padding: 3px 5px; margin-right: 4px; border-radius: 4px;'>historia</span><span style='background-color: rgba(0, 120, 255, 0.00); color: white; padding: 3px 5px; margin-right: 4px; border-radius: 4px;'>y</span><span style='background-color: rgba(0, 120, 255, 0.00); color: white; padding: 3px 5px; margin-right: 4px; border-radius: 4px;'>con</span><span style='background-color: rgba(0, 120, 255, 0.00); color: white; padding: 3px 5px; margin-right: 4px; border-radius: 4px;'>!</span></div><br><div style='background-color: rgba(255, 255, 150, 0.00); padding: 5px; margin-bottom: 4px; border-radius: 5px;'><span style='background-color: rgba(0, 120, 255, 0.15); color: white; padding: 3px 5px; margin-right: 4px; border-radius: 4px;'>sigue</span><span style='background-color: rgba(0, 120, 255, 0.01); color: white; padding: 3px 5px; margin-right: 4px; border-radius: 4px;'>sin</span><span style='background-color: rgba(0, 120, 255, 0.01); color: white; padding: 3px 5px; margin-right: 4px; border-radius: 4px;'>poder</span><span style='background-color: rgba(0, 120, 255, 0.18); color: white; padding: 3px 5px; margin-right: 4px; border-radius: 4px;'>digerir</span><span style='background-color: rgba(0, 120, 255, 0.03); color: white; padding: 3px 5px; margin-right: 4px; border-radius: 4px;'>los</span><span style='background-color: rgba(0, 120, 255, 0.49); color: white; padding: 3px 5px; margin-right: 4px; border-radius: 4px;'>abucheos</span><span style='background-color: rgba(0, 120, 255, 0.01); color: white; padding: 3px 5px; margin-right: 4px; border-radius: 4px;'>a</span><span style='background-color: rgba(0, 120, 255, 0.03); color: white; padding: 3px 5px; margin-right: 4px; border-radius: 4px;'>la</span><span style='background-color: rgba(0, 120, 255, 0.01); color: white; padding: 3px 5px; margin-right: 4px; border-radius: 4px;'>golppista</span><span style='background-color: rgba(0, 120, 255, 0.03); color: white; padding: 3px 5px; margin-right: 4px; border-radius: 4px;'>mayor</span><span style='background-color: rgba(0, 120, 255, 0.00); color: white; padding: 3px 5px; margin-right: 4px; border-radius: 4px;'>en</span><span style='background-color: rgba(0, 120, 255, 0.14); color: white; padding: 3px 5px; margin-right: 4px; border-radius: 4px;'>cyl</span><span style='background-color: rgba(0, 120, 255, 0.00); color: white; padding: 3px 5px; margin-right: 4px; border-radius: 4px;'>y</span><span style='background-color: rgba(0, 120, 255, 0.00); color: white; padding: 3px 5px; margin-right: 4px; border-radius: 4px;'>por</span><span style='background-color: rgba(0, 120, 255, 0.01); color: white; padding: 3px 5px; margin-right: 4px; border-radius: 4px;'>eso</span><span style='background-color: rgba(0, 120, 255, 0.00); color: white; padding: 3px 5px; margin-right: 4px; border-radius: 4px;'>no</span><span style='background-color: rgba(0, 120, 255, 0.00); color: white; padding: 3px 5px; margin-right: 4px; border-radius: 4px;'>para</span><span style='background-color: rgba(0, 120, 255, 0.00); color: white; padding: 3px 5px; margin-right: 4px; border-radius: 4px;'>de</span><span style='background-color: rgba(0, 120, 255, 0.01); color: white; padding: 3px 5px; margin-right: 4px; border-radius: 4px;'>insultar..</span></div><br><div style='background-color: rgba(255, 255, 150, 0.01); padding: 5px; margin-bottom: 4px; border-radius: 5px;'><span style='background-color: rgba(0, 120, 255, 0.00); color: white; padding: 3px 5px; margin-right: 4px; border-radius: 4px;'>y</span><span style='background-color: rgba(0, 120, 255, 0.01); color: white; padding: 3px 5px; margin-right: 4px; border-radius: 4px;'>lo</span><span style='background-color: rgba(0, 120, 255, 0.26); color: white; padding: 3px 5px; margin-right: 4px; border-radius: 4px;'>dices</span><span style='background-color: rgba(0, 120, 255, 0.11); color: white; padding: 3px 5px; margin-right: 4px; border-radius: 4px;'>desp</span><span style='background-color: rgba(0, 120, 255, 0.01); color: white; padding: 3px 5px; margin-right: 4px; border-radius: 4px;'>q</span><span style='background-color: rgba(0, 120, 255, 0.04); color: white; padding: 3px 5px; margin-right: 4px; border-radius: 4px;'>la</span><span style='background-color: rgba(0, 120, 255, 0.53); color: white; padding: 3px 5px; margin-right: 4px; border-radius: 4px;'>sultana</span><span style='background-color: rgba(0, 120, 255, 0.01); color: white; padding: 3px 5px; margin-right: 4px; border-radius: 4px;'>golppista</span><span style='background-color: rgba(0, 120, 255, 0.02); color: white; padding: 3px 5px; margin-right: 4px; border-radius: 4px;'>s</span><span style='background-color: rgba(0, 120, 255, 0.06); color: white; padding: 3px 5px; margin-right: 4px; border-radius: 4px;'>carg</span><span style='background-color: rgba(0, 120, 255, 0.01); color: white; padding: 3px 5px; margin-right: 4px; border-radius: 4px;'>al</span><span style='background-color: rgba(0, 120, 255, 0.02); color: white; padding: 3px 5px; margin-right: 4px; border-radius: 4px;'>sg</span><span style='background-color: rgba(0, 120, 255, 0.00); color: white; padding: 3px 5px; margin-right: 4px; border-radius: 4px;'>elegido</span><span style='background-color: rgba(0, 120, 255, 0.00); color: white; padding: 3px 5px; margin-right: 4px; border-radius: 4px;'>x</span><span style='background-color: rgba(0, 120, 255, 0.01); color: white; padding: 3px 5px; margin-right: 4px; border-radius: 4px;'>la</span><span style='background-color: rgba(0, 120, 255, 0.02); color: white; padding: 3px 5px; margin-right: 4px; border-radius: 4px;'>militancia</span><span style='background-color: rgba(0, 120, 255, 0.00); color: white; padding: 3px 5px; margin-right: 4px; border-radius: 4px;'>para</span><span style='background-color: rgba(0, 120, 255, 0.01); color: white; padding: 3px 5px; margin-right: 4px; border-radius: 4px;'>darle</span><span style='background-color: rgba(0, 120, 255, 0.00); color: white; padding: 3px 5px; margin-right: 4px; border-radius: 4px;'>el</span><span style='background-color: rgba(0, 120, 255, 0.00); color: white; padding: 3px 5px; margin-right: 4px; border-radius: 4px;'>gob</span><span style='background-color: rgba(0, 120, 255, 0.01); color: white; padding: 3px 5px; margin-right: 4px; border-radius: 4px;'>al</span><span style='background-color: rgba(0, 120, 255, 0.00); color: white; padding: 3px 5px; margin-right: 4px; border-radius: 4px;'>?yo</span><span style='background-color: rgba(0, 120, 255, 0.00); color: white; padding: 3px 5px; margin-right: 4px; border-radius: 4px;'>no</span><span style='background-color: rgba(0, 120, 255, 0.00); color: white; padding: 3px 5px; margin-right: 4px; border-radius: 4px;'>quiero</span><span style='background-color: rgba(0, 120, 255, 0.00); color: white; padding: 3px 5px; margin-right: 4px; border-radius: 4px;'>porque</span><span style='background-color: rgba(0, 120, 255, 0.00); color: white; padding: 3px 5px; margin-right: 4px; border-radius: 4px;'>manipulan,porque</span><span style='background-color: rgba(0, 120, 255, 0.00); color: white; padding: 3px 5px; margin-right: 4px; border-radius: 4px;'>y</span><span style='background-color: rgba(0, 120, 255, 0.01); color: white; padding: 3px 5px; margin-right: 4px; border-radius: 4px;'>cuchipandi</span><span style='background-color: rgba(0, 120, 255, 0.01); color: white; padding: 3px 5px; margin-right: 4px; border-radius: 4px;'>slo</span><span style='background-color: rgba(0, 120, 255, 0.02); color: white; padding: 3px 5px; margin-right: 4px; border-radius: 4px;'>miran</span><span style='background-color: rgba(0, 120, 255, 0.00); color: white; padding: 3px 5px; margin-right: 4px; border-radius: 4px;'>x</span><span style='background-color: rgba(0, 120, 255, 0.00); color: white; padding: 3px 5px; margin-right: 4px; border-radius: 4px;'>sus</span><span style='background-color: rgba(0, 120, 255, 0.00); color: white; padding: 3px 5px; margin-right: 4px; border-radius: 4px;'>intereses</span><span style='background-color: rgba(0, 120, 255, 0.00); color: white; padding: 3px 5px; margin-right: 4px; border-radius: 4px;'>familiares,</span><span style='background-color: rgba(0, 120, 255, 0.00); color: white; padding: 3px 5px; margin-right: 4px; border-radius: 4px;'>hacemos</span><span style='background-color: rgba(0, 120, 255, 0.00); color: white; padding: 3px 5px; margin-right: 4px; border-radius: 4px;'>!</span></div><br><div style='background-color: rgba(255, 255, 150, 0.00); padding: 5px; margin-bottom: 4px; border-radius: 5px;'><span style='background-color: rgba(0, 120, 255, 0.22); color: white; padding: 3px 5px; margin-right: 4px; border-radius: 4px;'>twits</span><span style='background-color: rgba(0, 120, 255, 0.25); color: white; padding: 3px 5px; margin-right: 4px; border-radius: 4px;'>gemelos</span><span style='background-color: rgba(0, 120, 255, 0.00); color: white; padding: 3px 5px; margin-right: 4px; border-radius: 4px;'>o</span><span style='background-color: rgba(0, 120, 255, 0.01); color: white; padding: 3px 5px; margin-right: 4px; border-radius: 4px;'>que</span><span style='background-color: rgba(0, 120, 255, 0.18); color: white; padding: 3px 5px; margin-right: 4px; border-radius: 4px;'>tiran</span><span style='background-color: rgba(0, 120, 255, 0.00); color: white; padding: 3px 5px; margin-right: 4px; border-radius: 4px;'>de</span><span style='background-color: rgba(0, 120, 255, 0.43); color: white; padding: 3px 5px; margin-right: 4px; border-radius: 4px;'>argumentario</span><span style='background-color: rgba(0, 120, 255, 0.03); color: white; padding: 3px 5px; margin-right: 4px; border-radius: 4px;'>dado</span><span style='background-color: rgba(0, 120, 255, 0.00); color: white; padding: 3px 5px; margin-right: 4px; border-radius: 4px;'>desde</span><span style='background-color: rgba(0, 120, 255, 0.00); color: white; padding: 3px 5px; margin-right: 4px; border-radius: 4px;'>el</span><span style='background-color: rgba(0, 120, 255, 0.00); color: white; padding: 3px 5px; margin-right: 4px; border-radius: 4px;'>??</span></div><br><div style='background-color: rgba(255, 255, 150, 0.00); padding: 5px; margin-bottom: 4px; border-radius: 5px;'><span style='background-color: rgba(0, 120, 255, 0.34); color: white; padding: 3px 5px; margin-right: 4px; border-radius: 4px;'>as</span><span style='background-color: rgba(0, 120, 255, 0.14); color: white; padding: 3px 5px; margin-right: 4px; border-radius: 4px;'>cosen</span><span style='background-color: rgba(0, 120, 255, 0.03); color: white; padding: 3px 5px; margin-right: 4px; border-radius: 4px;'>desde</span><span style='background-color: rgba(0, 120, 255, 0.01); color: white; padding: 3px 5px; margin-right: 4px; border-radius: 4px;'>el</span><span style='background-color: rgba(0, 120, 255, 0.01); color: white; padding: 3px 5px; margin-right: 4px; border-radius: 4px;'>sur..a</span><span style='background-color: rgba(0, 120, 255, 0.01); color: white; padding: 3px 5px; margin-right: 4px; border-radius: 4px;'>golppes</span><span style='background-color: rgba(0, 120, 255, 0.00); color: white; padding: 3px 5px; margin-right: 4px; border-radius: 4px;'>de</span><span style='background-color: rgba(0, 120, 255, 0.06); color: white; padding: 3px 5px; margin-right: 4px; border-radius: 4px;'>basta</span><span style='background-color: rgba(0, 120, 255, 0.00); color: white; padding: 3px 5px; margin-right: 4px; border-radius: 4px;'>ya</span><span style='background-color: rgba(0, 120, 255, 0.00); color: white; padding: 3px 5px; margin-right: 4px; border-radius: 4px;'>de</span><span style='background-color: rgba(0, 120, 255, 0.30); color: white; padding: 3px 5px; margin-right: 4px; border-radius: 4px;'>manipulaciones</span><span style='background-color: rgba(0, 120, 255, 0.04); color: white; padding: 3px 5px; margin-right: 4px; border-radius: 4px;'>contra</span><span style='background-color: rgba(0, 120, 255, 0.00); color: white; padding: 3px 5px; margin-right: 4px; border-radius: 4px;'>de</span><span style='background-color: rgba(0, 120, 255, 0.00); color: white; padding: 3px 5px; margin-right: 4px; border-radius: 4px;'>por</span><span style='background-color: rgba(0, 120, 255, 0.12); color: white; padding: 3px 5px; margin-right: 4px; border-radius: 4px;'>inters</span><span style='background-color: rgba(0, 120, 255, 0.03); color: white; padding: 3px 5px; margin-right: 4px; border-radius: 4px;'>personal</span><span style='background-color: rgba(0, 120, 255, 0.00); color: white; padding: 3px 5px; margin-right: 4px; border-radius: 4px;'>de</span><span style='background-color: rgba(0, 120, 255, 0.01); color: white; padding: 3px 5px; margin-right: 4px; border-radius: 4px;'>ferreras..</span></div><br><div style='background-color: rgba(255, 255, 150, 0.00); padding: 5px; margin-bottom: 4px; border-radius: 5px;'><span style='background-color: rgba(0, 120, 255, 0.20); color: white; padding: 3px 5px; margin-right: 4px; border-radius: 4px;'>!</span></div><br><div style='background-color: rgba(255, 255, 150, 0.00); padding: 5px; margin-bottom: 4px; border-radius: 5px;'><span style='background-color: rgba(0, 120, 255, 0.20); color: white; padding: 3px 5px; margin-right: 4px; border-radius: 4px;'>la</span><span style='background-color: rgba(0, 120, 255, 0.07); color: white; padding: 3px 5px; margin-right: 4px; border-radius: 4px;'>hermana</span><span style='background-color: rgba(0, 120, 255, 0.01); color: white; padding: 3px 5px; margin-right: 4px; border-radius: 4px;'>d</span><span style='background-color: rgba(0, 120, 255, 0.00); color: white; padding: 3px 5px; margin-right: 4px; border-radius: 4px;'>y</span><span style='background-color: rgba(0, 120, 255, 0.03); color: white; padding: 3px 5px; margin-right: 4px; border-radius: 4px;'>cuadisima</span><span style='background-color: rgba(0, 120, 255, 0.01); color: white; padding: 3px 5px; margin-right: 4px; border-radius: 4px;'>d</span><span style='background-color: rgba(0, 120, 255, 0.29); color: white; padding: 3px 5px; margin-right: 4px; border-radius: 4px;'>tb</span><span style='background-color: rgba(0, 120, 255, 0.13); color: white; padding: 3px 5px; margin-right: 4px; border-radius: 4px;'>tiene</span><span style='background-color: rgba(0, 120, 255, 0.02); color: white; padding: 3px 5px; margin-right: 4px; border-radius: 4px;'>q</span><span style='background-color: rgba(0, 120, 255, 0.09); color: white; padding: 3px 5px; margin-right: 4px; border-radius: 4px;'>pagar</span><span style='background-color: rgba(0, 120, 255, 0.05); color: white; padding: 3px 5px; margin-right: 4px; border-radius: 4px;'>la</span><span style='background-color: rgba(0, 120, 255, 0.01); color: white; padding: 3px 5px; margin-right: 4px; border-radius: 4px;'>hipoteca!</span></div><br><div style='background-color: rgba(255, 255, 150, 0.08); padding: 5px; margin-bottom: 4px; border-radius: 5px;'><span style='background-color: rgba(0, 120, 255, 0.00); color: white; padding: 3px 5px; margin-right: 4px; border-radius: 4px;'>ya</span><span style='background-color: rgba(0, 120, 255, 0.16); color: white; padding: 3px 5px; margin-right: 4px; border-radius: 4px;'>pedro</span><span style='background-color: rgba(0, 120, 255, 0.11); color: white; padding: 3px 5px; margin-right: 4px; border-radius: 4px;'>snchez</span><span style='background-color: rgba(0, 120, 255, 0.77); color: white; padding: 3px 5px; margin-right: 4px; border-radius: 4px;'>ha</span><span style='background-color: rgba(0, 120, 255, 0.01); color: white; padding: 3px 5px; margin-right: 4px; border-radius: 4px;'>lanzado</span><span style='background-color: rgba(0, 120, 255, 0.00); color: white; padding: 3px 5px; margin-right: 4px; border-radius: 4px;'>su</span><span style='background-color: rgba(0, 120, 255, 0.00); color: white; padding: 3px 5px; margin-right: 4px; border-radius: 4px;'>candidatura</span><span style='background-color: rgba(0, 120, 255, 0.00); color: white; padding: 3px 5px; margin-right: 4px; border-radius: 4px;'>a</span><span style='background-color: rgba(0, 120, 255, 0.00); color: white; padding: 3px 5px; margin-right: 4px; border-radius: 4px;'>sg</span><span style='background-color: rgba(0, 120, 255, 0.00); color: white; padding: 3px 5px; margin-right: 4px; border-radius: 4px;'>y</span><span style='background-color: rgba(0, 120, 255, 0.00); color: white; padding: 3px 5px; margin-right: 4px; border-radius: 4px;'>hay</span><span style='background-color: rgba(0, 120, 255, 0.00); color: white; padding: 3px 5px; margin-right: 4px; border-radius: 4px;'>mucho</span><span style='background-color: rgba(0, 120, 255, 0.00); color: white; padding: 3px 5px; margin-right: 4px; border-radius: 4px;'>nervio</span><span style='background-color: rgba(0, 120, 255, 0.00); color: white; padding: 3px 5px; margin-right: 4px; border-radius: 4px;'>y</span><span style='background-color: rgba(0, 120, 255, 0.00); color: white; padding: 3px 5px; margin-right: 4px; border-radius: 4px;'>miedo</span><span style='background-color: rgba(0, 120, 255, 0.00); color: white; padding: 3px 5px; margin-right: 4px; border-radius: 4px;'>a</span><span style='background-color: rgba(0, 120, 255, 0.00); color: white; padding: 3px 5px; margin-right: 4px; border-radius: 4px;'>perder</span><span style='background-color: rgba(0, 120, 255, 0.00); color: white; padding: 3px 5px; margin-right: 4px; border-radius: 4px;'>el</span><span style='background-color: rgba(0, 120, 255, 0.00); color: white; padding: 3px 5px; margin-right: 4px; border-radius: 4px;'>silln</span><span style='background-color: rgba(0, 120, 255, 0.00); color: white; padding: 3px 5px; margin-right: 4px; border-radius: 4px;'>en</span><span style='background-color: rgba(0, 120, 255, 0.00); color: white; padding: 3px 5px; margin-right: 4px; border-radius: 4px;'>la</span><span style='background-color: rgba(0, 120, 255, 0.01); color: white; padding: 3px 5px; margin-right: 4px; border-radius: 4px;'>banda</span><span style='background-color: rgba(0, 120, 255, 0.00); color: white; padding: 3px 5px; margin-right: 4px; border-radius: 4px;'>d</span><span style='background-color: rgba(0, 120, 255, 0.00); color: white; padding: 3px 5px; margin-right: 4px; border-radius: 4px;'>trolls</span><span style='background-color: rgba(0, 120, 255, 0.00); color: white; padding: 3px 5px; margin-right: 4px; border-radius: 4px;'>y</span><span style='background-color: rgba(0, 120, 255, 0.00); color: white; padding: 3px 5px; margin-right: 4px; border-radius: 4px;'>me</span><span style='background-color: rgba(0, 120, 255, 0.00); color: white; padding: 3px 5px; margin-right: 4px; border-radius: 4px;'>sumo</span><span style='background-color: rgba(0, 120, 255, 0.00); color: white; padding: 3px 5px; margin-right: 4px; border-radius: 4px;'>a</span><span style='background-color: rgba(0, 120, 255, 0.00); color: white; padding: 3px 5px; margin-right: 4px; border-radius: 4px;'>tu</span><span style='background-color: rgba(0, 120, 255, 0.00); color: white; padding: 3px 5px; margin-right: 4px; border-radius: 4px;'>agradecimiento</span><span style='background-color: rgba(0, 120, 255, 0.00); color: white; padding: 3px 5px; margin-right: 4px; border-radius: 4px;'>a</span><span style='background-color: rgba(0, 120, 255, 0.00); color: white; padding: 3px 5px; margin-right: 4px; border-radius: 4px;'>y</span><span style='background-color: rgba(0, 120, 255, 0.00); color: white; padding: 3px 5px; margin-right: 4px; border-radius: 4px;'>por</span><span style='background-color: rgba(0, 120, 255, 0.00); color: white; padding: 3px 5px; margin-right: 4px; border-radius: 4px;'>la</span><span style='background-color: rgba(0, 120, 255, 0.00); color: white; padding: 3px 5px; margin-right: 4px; border-radius: 4px;'>objetividad</span><span style='background-color: rgba(0, 120, 255, 0.00); color: white; padding: 3px 5px; margin-right: 4px; border-radius: 4px;'>con</span><span style='background-color: rgba(0, 120, 255, 0.00); color: white; padding: 3px 5px; margin-right: 4px; border-radius: 4px;'>la</span><span style='background-color: rgba(0, 120, 255, 0.00); color: white; padding: 3px 5px; margin-right: 4px; border-radius: 4px;'>q</span><span style='background-color: rgba(0, 120, 255, 0.08); color: white; padding: 3px 5px; margin-right: 4px; border-radius: 4px;'>han</span><span style='background-color: rgba(0, 120, 255, 0.00); color: white; padding: 3px 5px; margin-right: 4px; border-radius: 4px;'>tratado</span><span style='background-color: rgba(0, 120, 255, 0.00); color: white; padding: 3px 5px; margin-right: 4px; border-radius: 4px;'>el</span><span style='background-color: rgba(0, 120, 255, 0.00); color: white; padding: 3px 5px; margin-right: 4px; border-radius: 4px;'>acto</span><span style='background-color: rgba(0, 120, 255, 0.00); color: white; padding: 3px 5px; margin-right: 4px; border-radius: 4px;'>d</span><span style='background-color: rgba(0, 120, 255, 0.00); color: white; padding: 3px 5px; margin-right: 4px; border-radius: 4px;'>muchas</span><span style='background-color: rgba(0, 120, 255, 0.01); color: white; padding: 3px 5px; margin-right: 4px; border-radius: 4px;'>gracias</span><span style='background-color: rgba(0, 120, 255, 0.00); color: white; padding: 3px 5px; margin-right: 4px; border-radius: 4px;'>compaera</span><span style='background-color: rgba(0, 120, 255, 0.00); color: white; padding: 3px 5px; margin-right: 4px; border-radius: 4px;'>por</span><span style='background-color: rgba(0, 120, 255, 0.00); color: white; padding: 3px 5px; margin-right: 4px; border-radius: 4px;'>tu</span><span style='background-color: rgba(0, 120, 255, 0.00); color: white; padding: 3px 5px; margin-right: 4px; border-radius: 4px;'>compromiso</span><span style='background-color: rgba(0, 120, 255, 0.00); color: white; padding: 3px 5px; margin-right: 4px; border-radius: 4px;'>y</span><span style='background-color: rgba(0, 120, 255, 0.00); color: white; padding: 3px 5px; margin-right: 4px; border-radius: 4px;'>lealtad</span><span style='background-color: rgba(0, 120, 255, 0.00); color: white; padding: 3px 5px; margin-right: 4px; border-radius: 4px;'>a</span><span style='background-color: rgba(0, 120, 255, 0.00); color: white; padding: 3px 5px; margin-right: 4px; border-radius: 4px;'>a</span><span style='background-color: rgba(0, 120, 255, 0.00); color: white; padding: 3px 5px; margin-right: 4px; border-radius: 4px;'>siglas</span><span style='background-color: rgba(0, 120, 255, 0.00); color: white; padding: 3px 5px; margin-right: 4px; border-radius: 4px;'>y</span><span style='background-color: rgba(0, 120, 255, 0.00); color: white; padding: 3px 5px; margin-right: 4px; border-radius: 4px;'>valores</span><span style='background-color: rgba(0, 120, 255, 0.00); color: white; padding: 3px 5px; margin-right: 4px; border-radius: 4px;'>y</span><span style='background-color: rgba(0, 120, 255, 0.00); color: white; padding: 3px 5px; margin-right: 4px; border-radius: 4px;'>ser</span><span style='background-color: rgba(0, 120, 255, 0.00); color: white; padding: 3px 5px; margin-right: 4px; border-radius: 4px;'>la</span><span style='background-color: rgba(0, 120, 255, 0.00); color: white; padding: 3px 5px; margin-right: 4px; border-radius: 4px;'>voz</span><span style='background-color: rgba(0, 120, 255, 0.00); color: white; padding: 3px 5px; margin-right: 4px; border-radius: 4px;'>d</span><span style='background-color: rgba(0, 120, 255, 0.00); color: white; padding: 3px 5px; margin-right: 4px; border-radius: 4px;'>!</span></div><br><div style='background-color: rgba(255, 255, 150, 0.00); padding: 5px; margin-bottom: 4px; border-radius: 5px;'><span style='background-color: rgba(0, 120, 255, 0.27); color: white; padding: 3px 5px; margin-right: 4px; border-radius: 4px;'>este</span><span style='background-color: rgba(0, 120, 255, 0.10); color: white; padding: 3px 5px; margin-right: 4px; border-radius: 4px;'>es</span><span style='background-color: rgba(0, 120, 255, 0.07); color: white; padding: 3px 5px; margin-right: 4px; border-radius: 4px;'>el</span><span style='background-color: rgba(0, 120, 255, 0.14); color: white; padding: 3px 5px; margin-right: 4px; border-radius: 4px;'>ganador</span><span style='background-color: rgba(0, 120, 255, 0.01); color: white; padding: 3px 5px; margin-right: 4px; border-radius: 4px;'>de</span><span style='background-color: rgba(0, 120, 255, 0.04); color: white; padding: 3px 5px; margin-right: 4px; border-radius: 4px;'>los</span><span style='background-color: rgba(0, 120, 255, 0.03); color: white; padding: 3px 5px; margin-right: 4px; border-radius: 4px;'>..</span></div><br><div style='background-color: rgba(255, 255, 150, 0.00); padding: 5px; margin-bottom: 4px; border-radius: 5px;'><span style='background-color: rgba(0, 120, 255, 0.20); color: white; padding: 3px 5px; margin-right: 4px; border-radius: 4px;'>!</span></div><br><div style='background-color: rgba(255, 255, 150, 0.04); padding: 5px; margin-bottom: 4px; border-radius: 5px;'><span style='background-color: rgba(0, 120, 255, 0.01); color: white; padding: 3px 5px; margin-right: 4px; border-radius: 4px;'>tras</span><span style='background-color: rgba(0, 120, 255, 0.00); color: white; padding: 3px 5px; margin-right: 4px; border-radius: 4px;'>el</span><span style='background-color: rgba(0, 120, 255, 0.00); color: white; padding: 3px 5px; margin-right: 4px; border-radius: 4px;'>en</span><span style='background-color: rgba(0, 120, 255, 0.00); color: white; padding: 3px 5px; margin-right: 4px; border-radius: 4px;'>el</span><span style='background-color: rgba(0, 120, 255, 0.00); color: white; padding: 3px 5px; margin-right: 4px; border-radius: 4px;'>de</span><span style='background-color: rgba(0, 120, 255, 0.11); color: white; padding: 3px 5px; margin-right: 4px; border-radius: 4px;'>barones</span><span style='background-color: rgba(0, 120, 255, 0.00); color: white; padding: 3px 5px; margin-right: 4px; border-radius: 4px;'>y</span><span style='background-color: rgba(0, 120, 255, 1.00); color: white; padding: 3px 5px; margin-right: 4px; border-radius: 4px;'>sultana</span><span style='background-color: rgba(0, 120, 255, 0.00); color: white; padding: 3px 5px; margin-right: 4px; border-radius: 4px;'>y</span><span style='background-color: rgba(0, 120, 255, 0.02); color: white; padding: 3px 5px; margin-right: 4px; border-radius: 4px;'>cargarse</span><span style='background-color: rgba(0, 120, 255, 0.00); color: white; padding: 3px 5px; margin-right: 4px; border-radius: 4px;'>..</span></div><br><div style='background-color: rgba(255, 255, 150, 0.01); padding: 5px; margin-bottom: 4px; border-radius: 5px;'><span style='background-color: rgba(0, 120, 255, 0.90); color: white; padding: 3px 5px; margin-right: 4px; border-radius: 4px;'>va</span><span style='background-color: rgba(0, 120, 255, 0.07); color: white; padding: 3px 5px; margin-right: 4px; border-radius: 4px;'>camino</span><span style='background-color: rgba(0, 120, 255, 0.00); color: white; padding: 3px 5px; margin-right: 4px; border-radius: 4px;'>de</span><span style='background-color: rgba(0, 120, 255, 0.02); color: white; padding: 3px 5px; margin-right: 4px; border-radius: 4px;'>ello!</span></div><br><div style='background-color: rgba(255, 255, 150, 0.01); padding: 5px; margin-bottom: 4px; border-radius: 5px;'><span style='background-color: rgba(0, 120, 255, 0.00); color: white; padding: 3px 5px; margin-right: 4px; border-radius: 4px;'>y</span><span style='background-color: rgba(0, 120, 255, 0.00); color: white; padding: 3px 5px; margin-right: 4px; border-radius: 4px;'>los</span><span style='background-color: rgba(0, 120, 255, 0.00); color: white; padding: 3px 5px; margin-right: 4px; border-radius: 4px;'>de</span><span style='background-color: rgba(0, 120, 255, 0.05); color: white; padding: 3px 5px; margin-right: 4px; border-radius: 4px;'>susana</span><span style='background-color: rgba(0, 120, 255, 0.03); color: white; padding: 3px 5px; margin-right: 4px; border-radius: 4px;'>daz</span><span style='background-color: rgba(0, 120, 255, 0.01); color: white; padding: 3px 5px; margin-right: 4px; border-radius: 4px;'>al</span><span style='background-color: rgba(0, 120, 255, 0.01); color: white; padding: 3px 5px; margin-right: 4px; border-radius: 4px;'>del</span><span style='background-color: rgba(0, 120, 255, 0.03); color: white; padding: 3px 5px; margin-right: 4px; border-radius: 4px;'>populismo</span><span style='background-color: rgba(0, 120, 255, 0.04); color: white; padding: 3px 5px; margin-right: 4px; border-radius: 4px;'>ms</span><span style='background-color: rgba(0, 120, 255, 0.08); color: white; padding: 3px 5px; margin-right: 4px; border-radius: 4px;'>rancio</span><span style='background-color: rgba(0, 120, 255, 0.00); color: white; padding: 3px 5px; margin-right: 4px; border-radius: 4px;'>de</span><span style='background-color: rgba(0, 120, 255, 0.00); color: white; padding: 3px 5px; margin-right: 4px; border-radius: 4px;'>pern,chvez</span><span style='background-color: rgba(0, 120, 255, 0.00); color: white; padding: 3px 5px; margin-right: 4px; border-radius: 4px;'>,maduro..mi</span><span style='background-color: rgba(0, 120, 255, 0.00); color: white; padding: 3px 5px; margin-right: 4px; border-radius: 4px;'>andaluca</span><span style='background-color: rgba(0, 120, 255, 0.00); color: white; padding: 3px 5px; margin-right: 4px; border-radius: 4px;'>por</span><span style='background-color: rgba(0, 120, 255, 0.01); color: white; padding: 3px 5px; margin-right: 4px; border-radius: 4px;'>espaa</span><span style='background-color: rgba(0, 120, 255, 0.00); color: white; padding: 3px 5px; margin-right: 4px; border-radius: 4px;'>..</span><span style='background-color: rgba(0, 120, 255, 0.00); color: white; padding: 3px 5px; margin-right: 4px; border-radius: 4px;'>en</span><span style='background-color: rgba(0, 120, 255, 0.00); color: white; padding: 3px 5px; margin-right: 4px; border-radius: 4px;'>plan</span><span style='background-color: rgba(0, 120, 255, 0.14); color: white; padding: 3px 5px; margin-right: 4px; border-radius: 4px;'>eva</span><span style='background-color: rgba(0, 120, 255, 0.05); color: white; padding: 3px 5px; margin-right: 4px; border-radius: 4px;'>pernno</span><span style='background-color: rgba(0, 120, 255, 0.46); color: white; padding: 3px 5px; margin-right: 4px; border-radius: 4px;'>llores</span><span style='background-color: rgba(0, 120, 255, 0.02); color: white; padding: 3px 5px; margin-right: 4px; border-radius: 4px;'>x</span><span style='background-color: rgba(0, 120, 255, 0.22); color: white; padding: 3px 5px; margin-right: 4px; border-radius: 4px;'>m</span><span style='background-color: rgba(0, 120, 255, 0.01); color: white; padding: 3px 5px; margin-right: 4px; border-radius: 4px;'>..x</span><span style='background-color: rgba(0, 120, 255, 0.00); color: white; padding: 3px 5px; margin-right: 4px; border-radius: 4px;'>el</span><span style='background-color: rgba(0, 120, 255, 0.00); color: white; padding: 3px 5px; margin-right: 4px; border-radius: 4px;'>bien</span><span style='background-color: rgba(0, 120, 255, 0.00); color: white; padding: 3px 5px; margin-right: 4px; border-radius: 4px;'>d</span><span style='background-color: rgba(0, 120, 255, 0.02); color: white; padding: 3px 5px; margin-right: 4px; border-radius: 4px;'>te</span><span style='background-color: rgba(0, 120, 255, 0.01); color: white; padding: 3px 5px; margin-right: 4px; border-radius: 4px;'>dejo</span><span style='background-color: rgba(0, 120, 255, 0.00); color: white; padding: 3px 5px; margin-right: 4px; border-radius: 4px;'>o</span><span style='background-color: rgba(0, 120, 255, 0.01); color: white; padding: 3px 5px; margin-right: 4px; border-radius: 4px;'>bien</span><span style='background-color: rgba(0, 120, 255, 0.00); color: white; padding: 3px 5px; margin-right: 4px; border-radius: 4px;'>porque</span><span style='background-color: rgba(0, 120, 255, 0.00); color: white; padding: 3px 5px; margin-right: 4px; border-radius: 4px;'>el</span><span style='background-color: rgba(0, 120, 255, 0.00); color: white; padding: 3px 5px; margin-right: 4px; border-radius: 4px;'>te</span><span style='background-color: rgba(0, 120, 255, 0.00); color: white; padding: 3px 5px; margin-right: 4px; border-radius: 4px;'>achucha!</span></div><br><div style='background-color: rgba(255, 255, 150, 0.01); padding: 5px; margin-bottom: 4px; border-radius: 5px;'><span style='background-color: rgba(0, 120, 255, 0.01); color: white; padding: 3px 5px; margin-right: 4px; border-radius: 4px;'>ser</span><span style='background-color: rgba(0, 120, 255, 0.00); color: white; padding: 3px 5px; margin-right: 4px; border-radius: 4px;'>un</span><span style='background-color: rgba(0, 120, 255, 0.03); color: white; padding: 3px 5px; margin-right: 4px; border-radius: 4px;'>honor</span><span style='background-color: rgba(0, 120, 255, 0.03); color: white; padding: 3px 5px; margin-right: 4px; border-radius: 4px;'>liderar</span><span style='background-color: rgba(0, 120, 255, 0.75); color: white; padding: 3px 5px; margin-right: 4px; border-radius: 4px;'>vuestro</span><span style='background-color: rgba(0, 120, 255, 0.01); color: white; padding: 3px 5px; margin-right: 4px; border-radius: 4px;'>proyecto</span><span style='background-color: rgba(0, 120, 255, 0.01); color: white; padding: 3px 5px; margin-right: 4px; border-radius: 4px;'>colectivo..ahora</span><span style='background-color: rgba(0, 120, 255, 0.00); color: white; padding: 3px 5px; margin-right: 4px; border-radius: 4px;'>falta</span><span style='background-color: rgba(0, 120, 255, 0.00); color: white; padding: 3px 5px; margin-right: 4px; border-radius: 4px;'>saber</span><span style='background-color: rgba(0, 120, 255, 0.00); color: white; padding: 3px 5px; margin-right: 4px; border-radius: 4px;'>la</span><span style='background-color: rgba(0, 120, 255, 0.00); color: white; padding: 3px 5px; margin-right: 4px; border-radius: 4px;'>candidatura</span><span style='background-color: rgba(0, 120, 255, 0.00); color: white; padding: 3px 5px; margin-right: 4px; border-radius: 4px;'>de</span><span style='background-color: rgba(0, 120, 255, 0.01); color: white; padding: 3px 5px; margin-right: 4px; border-radius: 4px;'>la</span><span style='background-color: rgba(0, 120, 255, 0.03); color: white; padding: 3px 5px; margin-right: 4px; border-radius: 4px;'>gestora</span><span style='background-color: rgba(0, 120, 255, 0.00); color: white; padding: 3px 5px; margin-right: 4px; border-radius: 4px;'>un</span><span style='background-color: rgba(0, 120, 255, 0.00); color: white; padding: 3px 5px; margin-right: 4px; border-radius: 4px;'>4</span><span style='background-color: rgba(0, 120, 255, 0.00); color: white; padding: 3px 5px; margin-right: 4px; border-radius: 4px;'>candidato</span><span style='background-color: rgba(0, 120, 255, 0.00); color: white; padding: 3px 5px; margin-right: 4px; border-radius: 4px;'>de</span><span style='background-color: rgba(0, 120, 255, 0.03); color: white; padding: 3px 5px; margin-right: 4px; border-radius: 4px;'>izquierda</span><span style='background-color: rgba(0, 120, 255, 0.27); color: white; padding: 3px 5px; margin-right: 4px; border-radius: 4px;'>socialista</span><span style='background-color: rgba(0, 120, 255, 0.01); color: white; padding: 3px 5px; margin-right: 4px; border-radius: 4px;'>?</span></div><br><div style='background-color: rgba(255, 255, 150, 0.00); padding: 5px; margin-bottom: 4px; border-radius: 5px;'><span style='background-color: rgba(0, 120, 255, 0.76); color: white; padding: 3px 5px; margin-right: 4px; border-radius: 4px;'>va</span><span style='background-color: rgba(0, 120, 255, 0.03); color: white; padding: 3px 5px; margin-right: 4px; border-radius: 4px;'>a</span><span style='background-color: rgba(0, 120, 255, 0.03); color: white; padding: 3px 5px; margin-right: 4px; border-radius: 4px;'>ser</span><span style='background-color: rgba(0, 120, 255, 0.01); color: white; padding: 3px 5px; margin-right: 4px; border-radius: 4px;'>que</span><span style='background-color: rgba(0, 120, 255, 0.01); color: white; padding: 3px 5px; margin-right: 4px; border-radius: 4px;'>no..</span></div><br><div style='background-color: rgba(255, 255, 150, 0.00); padding: 5px; margin-bottom: 4px; border-radius: 5px;'><span style='background-color: rgba(0, 120, 255, 0.33); color: white; padding: 3px 5px; margin-right: 4px; border-radius: 4px;'>est</span><span style='background-color: rgba(0, 120, 255, 0.02); color: white; padding: 3px 5px; margin-right: 4px; border-radius: 4px;'>con</span><span style='background-color: rgba(0, 120, 255, 0.05); color: white; padding: 3px 5px; margin-right: 4px; border-radius: 4px;'>!</span></div><br><div style='background-color: rgba(255, 255, 150, 0.00); padding: 5px; margin-bottom: 4px; border-radius: 5px;'><span style='background-color: rgba(0, 120, 255, 0.02); color: white; padding: 3px 5px; margin-right: 4px; border-radius: 4px;'>y</span><span style='background-color: rgba(0, 120, 255, 0.06); color: white; padding: 3px 5px; margin-right: 4px; border-radius: 4px;'>x</span><span style='background-color: rgba(0, 120, 255, 0.07); color: white; padding: 3px 5px; margin-right: 4px; border-radius: 4px;'>un</span><span style='background-color: rgba(0, 120, 255, 0.07); color: white; padding: 3px 5px; margin-right: 4px; border-radius: 4px;'>nuevo</span><span style='background-color: rgba(0, 120, 255, 0.07); color: white; padding: 3px 5px; margin-right: 4px; border-radius: 4px;'>!</span></div><br><div style='background-color: rgba(255, 255, 150, 0.00); padding: 5px; margin-bottom: 4px; border-radius: 5px;'><span style='background-color: rgba(0, 120, 255, 0.75); color: white; padding: 3px 5px; margin-right: 4px; border-radius: 4px;'>gracias</span><span style='background-color: rgba(0, 120, 255, 0.02); color: white; padding: 3px 5px; margin-right: 4px; border-radius: 4px;'>x</span><span style='background-color: rgba(0, 120, 255, 0.19); color: white; padding: 3px 5px; margin-right: 4px; border-radius: 4px;'>representar</span><span style='background-color: rgba(0, 120, 255, 0.04); color: white; padding: 3px 5px; margin-right: 4px; border-radius: 4px;'>la</span><span style='background-color: rgba(0, 120, 255, 0.04); color: white; padding: 3px 5px; margin-right: 4px; border-radius: 4px;'>del</span><span style='background-color: rgba(0, 120, 255, 0.00); color: white; padding: 3px 5px; margin-right: 4px; border-radius: 4px;'>y</span><span style='background-color: rgba(0, 120, 255, 0.01); color: white; padding: 3px 5px; margin-right: 4px; border-radius: 4px;'>..</span><span style='background-color: rgba(0, 120, 255, 0.01); color: white; padding: 3px 5px; margin-right: 4px; border-radius: 4px;'>compaero!</span></div><br><div style='background-color: rgba(255, 255, 150, 0.00); padding: 5px; margin-bottom: 4px; border-radius: 5px;'><span style='background-color: rgba(0, 120, 255, 0.03); color: white; padding: 3px 5px; margin-right: 4px; border-radius: 4px;'>quien</span><span style='background-color: rgba(0, 120, 255, 0.00); color: white; padding: 3px 5px; margin-right: 4px; border-radius: 4px;'>no</span><span style='background-color: rgba(0, 120, 255, 0.01); color: white; padding: 3px 5px; margin-right: 4px; border-radius: 4px;'>quiera</span><span style='background-color: rgba(0, 120, 255, 0.01); color: white; padding: 3px 5px; margin-right: 4px; border-radius: 4px;'>ver</span><span style='background-color: rgba(0, 120, 255, 0.00); color: white; padding: 3px 5px; margin-right: 4px; border-radius: 4px;'>el</span><span style='background-color: rgba(0, 120, 255, 0.03); color: white; padding: 3px 5px; margin-right: 4px; border-radius: 4px;'>compadreo</span><span style='background-color: rgba(0, 120, 255, 0.00); color: white; padding: 3px 5px; margin-right: 4px; border-radius: 4px;'>entre</span><span style='background-color: rgba(0, 120, 255, 0.01); color: white; padding: 3px 5px; margin-right: 4px; border-radius: 4px;'>,el</span><span style='background-color: rgba(0, 120, 255, 0.01); color: white; padding: 3px 5px; margin-right: 4px; border-radius: 4px;'>,la</span><span style='background-color: rgba(0, 120, 255, 0.00); color: white; padding: 3px 5px; margin-right: 4px; border-radius: 4px;'>y</span><span style='background-color: rgba(0, 120, 255, 0.00); color: white; padding: 3px 5px; margin-right: 4px; border-radius: 4px;'>los</span><span style='background-color: rgba(0, 120, 255, 0.42); color: white; padding: 3px 5px; margin-right: 4px; border-radius: 4px;'>recortes</span><span style='background-color: rgba(0, 120, 255, 0.03); color: white; padding: 3px 5px; margin-right: 4px; border-radius: 4px;'>es</span><span style='background-color: rgba(0, 120, 255, 0.00); color: white; padding: 3px 5px; margin-right: 4px; border-radius: 4px;'>porque</span><span style='background-color: rgba(0, 120, 255, 0.02); color: white; padding: 3px 5px; margin-right: 4px; border-radius: 4px;'>busca</span><span style='background-color: rgba(0, 120, 255, 0.17); color: white; padding: 3px 5px; margin-right: 4px; border-radius: 4px;'>paga</span><span style='background-color: rgba(0, 120, 255, 0.04); color: white; padding: 3px 5px; margin-right: 4px; border-radius: 4px;'>bien</span><span style='background-color: rgba(0, 120, 255, 0.02); color: white; padding: 3px 5px; margin-right: 4px; border-radius: 4px;'>la</span><span style='background-color: rgba(0, 120, 255, 0.01); color: white; padding: 3px 5px; margin-right: 4px; border-radius: 4px;'>dl</span><span style='background-color: rgba(0, 120, 255, 0.00); color: white; padding: 3px 5px; margin-right: 4px; border-radius: 4px;'>a</span><span style='background-color: rgba(0, 120, 255, 0.00); color: white; padding: 3px 5px; margin-right: 4px; border-radius: 4px;'>retransmisin</span><span style='background-color: rgba(0, 120, 255, 0.00); color: white; padding: 3px 5px; margin-right: 4px; border-radius: 4px;'>en</span><span style='background-color: rgba(0, 120, 255, 0.15); color: white; padding: 3px 5px; margin-right: 4px; border-radius: 4px;'>directo</span><span style='background-color: rgba(0, 120, 255, 0.00); color: white; padding: 3px 5px; margin-right: 4px; border-radius: 4px;'>en</span><span style='background-color: rgba(0, 120, 255, 0.00); color: white; padding: 3px 5px; margin-right: 4px; border-radius: 4px;'>y</span><span style='background-color: rgba(0, 120, 255, 0.13); color: white; padding: 3px 5px; margin-right: 4px; border-radius: 4px;'>ninguneo</span><span style='background-color: rgba(0, 120, 255, 0.00); color: white; padding: 3px 5px; margin-right: 4px; border-radius: 4px;'>a</span><span style='background-color: rgba(0, 120, 255, 0.01); color: white; padding: 3px 5px; margin-right: 4px; border-radius: 4px;'>exigir</span><span style='background-color: rgba(0, 120, 255, 0.03); color: white; padding: 3px 5px; margin-right: 4px; border-radius: 4px;'>respeto</span><span style='background-color: rgba(0, 120, 255, 0.00); color: white; padding: 3px 5px; margin-right: 4px; border-radius: 4px;'>mientras</span><span style='background-color: rgba(0, 120, 255, 0.00); color: white; padding: 3px 5px; margin-right: 4px; border-radius: 4px;'>se</span><span style='background-color: rgba(0, 120, 255, 0.00); color: white; padding: 3px 5px; margin-right: 4px; border-radius: 4px;'>insulta..y</span><span style='background-color: rgba(0, 120, 255, 0.00); color: white; padding: 3px 5px; margin-right: 4px; border-radius: 4px;'>todo</span><span style='background-color: rgba(0, 120, 255, 0.00); color: white; padding: 3px 5px; margin-right: 4px; border-radius: 4px;'>en</span><span style='background-color: rgba(0, 120, 255, 0.00); color: white; padding: 3px 5px; margin-right: 4px; border-radius: 4px;'>un</span><span style='background-color: rgba(0, 120, 255, 0.00); color: white; padding: 3px 5px; margin-right: 4px; border-radius: 4px;'>mismo</span><span style='background-color: rgba(0, 120, 255, 0.00); color: white; padding: 3px 5px; margin-right: 4px; border-radius: 4px;'>twit!</span></div><br><div style='background-color: rgba(255, 255, 150, 0.00); padding: 5px; margin-bottom: 4px; border-radius: 5px;'><span style='background-color: rgba(0, 120, 255, 0.20); color: white; padding: 3px 5px; margin-right: 4px; border-radius: 4px;'>?</span></div><br><div style='background-color: rgba(255, 255, 150, 0.00); padding: 5px; margin-bottom: 4px; border-radius: 5px;'><span style='background-color: rgba(0, 120, 255, 0.02); color: white; padding: 3px 5px; margin-right: 4px; border-radius: 4px;'>y</span><span style='background-color: rgba(0, 120, 255, 0.10); color: white; padding: 3px 5px; margin-right: 4px; border-radius: 4px;'>lo</span><span style='background-color: rgba(0, 120, 255, 0.08); color: white; padding: 3px 5px; margin-right: 4px; border-radius: 4px;'>saben!</span></div><br><div style='background-color: rgba(255, 255, 150, 0.00); padding: 5px; margin-bottom: 4px; border-radius: 5px;'><span style='background-color: rgba(0, 120, 255, 0.08); color: white; padding: 3px 5px; margin-right: 4px; border-radius: 4px;'>hace</span><span style='background-color: rgba(0, 120, 255, 0.02); color: white; padding: 3px 5px; margin-right: 4px; border-radius: 4px;'>2</span><span style='background-color: rgba(0, 120, 255, 0.05); color: white; padding: 3px 5px; margin-right: 4px; border-radius: 4px;'>aos</span><span style='background-color: rgba(0, 120, 255, 0.08); color: white; padding: 3px 5px; margin-right: 4px; border-radius: 4px;'>exiga</span><span style='background-color: rgba(0, 120, 255, 0.00); color: white; padding: 3px 5px; margin-right: 4px; border-radius: 4px;'>en</span><span style='background-color: rgba(0, 120, 255, 0.01); color: white; padding: 3px 5px; margin-right: 4px; border-radius: 4px;'>primarias</span><span style='background-color: rgba(0, 120, 255, 0.11); color: white; padding: 3px 5px; margin-right: 4px; border-radius: 4px;'>sg</span><span style='background-color: rgba(0, 120, 255, 0.00); color: white; padding: 3px 5px; margin-right: 4px; border-radius: 4px;'>y</span><span style='background-color: rgba(0, 120, 255, 0.01); color: white; padding: 3px 5px; margin-right: 4px; border-radius: 4px;'>perdi.hoy</span><span style='background-color: rgba(0, 120, 255, 0.00); color: white; padding: 3px 5px; margin-right: 4px; border-radius: 4px;'>ya</span><span style='background-color: rgba(0, 120, 255, 0.01); color: white; padding: 3px 5px; margin-right: 4px; border-radius: 4px;'>es</span><span style='background-color: rgba(0, 120, 255, 0.01); color: white; padding: 3px 5px; margin-right: 4px; border-radius: 4px;'>parte</span><span style='background-color: rgba(0, 120, 255, 0.00); color: white; padding: 3px 5px; margin-right: 4px; border-radius: 4px;'>de</span><span style='background-color: rgba(0, 120, 255, 0.18); color: white; padding: 3px 5px; margin-right: 4px; border-radius: 4px;'>esos</span><span style='background-color: rgba(0, 120, 255, 0.02); color: white; padding: 3px 5px; margin-right: 4px; border-radius: 4px;'>8</span><span style='background-color: rgba(0, 120, 255, 0.12); color: white; padding: 3px 5px; margin-right: 4px; border-radius: 4px;'>dirig</span><span style='background-color: rgba(0, 120, 255, 0.06); color: white; padding: 3px 5px; margin-right: 4px; border-radius: 4px;'>rivales</span><span style='background-color: rgba(0, 120, 255, 0.00); color: white; padding: 3px 5px; margin-right: 4px; border-radius: 4px;'>en</span><span style='background-color: rgba(0, 120, 255, 0.01); color: white; padding: 3px 5px; margin-right: 4px; border-radius: 4px;'>2014</span><span style='background-color: rgba(0, 120, 255, 0.01); color: white; padding: 3px 5px; margin-right: 4px; border-radius: 4px;'>,</span><span style='background-color: rgba(0, 120, 255, 0.01); color: white; padding: 3px 5px; margin-right: 4px; border-radius: 4px;'>hoy</span><span style='background-color: rgba(0, 120, 255, 0.12); color: white; padding: 3px 5px; margin-right: 4px; border-radius: 4px;'>demuestra</span><span style='background-color: rgba(0, 120, 255, 0.01); color: white; padding: 3px 5px; margin-right: 4px; border-radius: 4px;'>q</span><span style='background-color: rgba(0, 120, 255, 0.10); color: white; padding: 3px 5px; margin-right: 4px; border-radius: 4px;'>su</span><span style='background-color: rgba(0, 120, 255, 0.02); color: white; padding: 3px 5px; margin-right: 4px; border-radius: 4px;'>es</span><span style='background-color: rgba(0, 120, 255, 0.01); color: white; padding: 3px 5px; margin-right: 4px; border-radius: 4px;'>un</span><span style='background-color: rgba(0, 120, 255, 0.04); color: white; padding: 3px 5px; margin-right: 4px; border-radius: 4px;'>bien</span><span style='background-color: rgba(0, 120, 255, 0.04); color: white; padding: 3px 5px; margin-right: 4px; border-radius: 4px;'>escaso</span><span style='background-color: rgba(0, 120, 255, 0.00); color: white; padding: 3px 5px; margin-right: 4px; border-radius: 4px;'>en</span><span style='background-color: rgba(0, 120, 255, 0.01); color: white; padding: 3px 5px; margin-right: 4px; border-radius: 4px;'>el</span><span style='background-color: rgba(0, 120, 255, 0.01); color: white; padding: 3px 5px; margin-right: 4px; border-radius: 4px;'>!</span></div><br><div style='background-color: rgba(255, 255, 150, 0.00); padding: 5px; margin-bottom: 4px; border-radius: 5px;'><span style='background-color: rgba(0, 120, 255, 0.07); color: white; padding: 3px 5px; margin-right: 4px; border-radius: 4px;'>mientras</span><span style='background-color: rgba(0, 120, 255, 0.06); color: white; padding: 3px 5px; margin-right: 4px; border-radius: 4px;'>otros</span><span style='background-color: rgba(0, 120, 255, 0.08); color: white; padding: 3px 5px; margin-right: 4px; border-radius: 4px;'>pretenden</span><span style='background-color: rgba(0, 120, 255, 0.07); color: white; padding: 3px 5px; margin-right: 4px; border-radius: 4px;'>crujir,sacar</span><span style='background-color: rgba(0, 120, 255, 0.11); color: white; padding: 3px 5px; margin-right: 4px; border-radius: 4px;'>muelasy</span><span style='background-color: rgba(0, 120, 255, 0.26); color: white; padding: 3px 5px; margin-right: 4px; border-radius: 4px;'>poner</span><span style='background-color: rgba(0, 120, 255, 0.06); color: white; padding: 3px 5px; margin-right: 4px; border-radius: 4px;'>francotiradores,</span><span style='background-color: rgba(0, 120, 255, 0.01); color: white; padding: 3px 5px; margin-right: 4px; border-radius: 4px;'>con</span><span style='background-color: rgba(0, 120, 255, 0.02); color: white; padding: 3px 5px; margin-right: 4px; border-radius: 4px;'>!</span></div><br><div style='background-color: rgba(255, 255, 150, 0.01); padding: 5px; margin-bottom: 4px; border-radius: 5px;'><span style='background-color: rgba(0, 120, 255, 0.53); color: white; padding: 3px 5px; margin-right: 4px; border-radius: 4px;'>orgulloso</span><span style='background-color: rgba(0, 120, 255, 0.00); color: white; padding: 3px 5px; margin-right: 4px; border-radius: 4px;'>de</span><span style='background-color: rgba(0, 120, 255, 0.01); color: white; padding: 3px 5px; margin-right: 4px; border-radius: 4px;'>haber</span><span style='background-color: rgba(0, 120, 255, 0.10); color: white; padding: 3px 5px; margin-right: 4px; border-radius: 4px;'>apoyado</span><span style='background-color: rgba(0, 120, 255, 0.00); color: white; padding: 3px 5px; margin-right: 4px; border-radius: 4px;'>al</span><span style='background-color: rgba(0, 120, 255, 0.00); color: white; padding: 3px 5px; margin-right: 4px; border-radius: 4px;'>compaero</span><span style='background-color: rgba(0, 120, 255, 0.00); color: white; padding: 3px 5px; margin-right: 4px; border-radius: 4px;'>en</span><span style='background-color: rgba(0, 120, 255, 0.00); color: white; padding: 3px 5px; margin-right: 4px; border-radius: 4px;'>primarias</span><span style='background-color: rgba(0, 120, 255, 0.01); color: white; padding: 3px 5px; margin-right: 4px; border-radius: 4px;'>2014</span><span style='background-color: rgba(0, 120, 255, 0.00); color: white; padding: 3px 5px; margin-right: 4px; border-radius: 4px;'>y</span><span style='background-color: rgba(0, 120, 255, 0.52); color: white; padding: 3px 5px; margin-right: 4px; border-radius: 4px;'>orgulloso</span><span style='background-color: rgba(0, 120, 255, 0.00); color: white; padding: 3px 5px; margin-right: 4px; border-radius: 4px;'>que</span><span style='background-color: rgba(0, 120, 255, 0.00); color: white; padding: 3px 5px; margin-right: 4px; border-radius: 4px;'>hoy</span><span style='background-color: rgba(0, 120, 255, 0.00); color: white; padding: 3px 5px; margin-right: 4px; border-radius: 4px;'>est</span><span style='background-color: rgba(0, 120, 255, 0.00); color: white; padding: 3px 5px; margin-right: 4px; border-radius: 4px;'>junto</span><span style='background-color: rgba(0, 120, 255, 0.00); color: white; padding: 3px 5px; margin-right: 4px; border-radius: 4px;'>a</span><span style='background-color: rgba(0, 120, 255, 0.00); color: white; padding: 3px 5px; margin-right: 4px; border-radius: 4px;'>!</span></div><br><div style='background-color: rgba(255, 255, 150, 0.00); padding: 5px; margin-bottom: 4px; border-radius: 5px;'><span style='background-color: rgba(0, 120, 255, 0.05); color: white; padding: 3px 5px; margin-right: 4px; border-radius: 4px;'>yo</span><span style='background-color: rgba(0, 120, 255, 0.07); color: white; padding: 3px 5px; margin-right: 4px; border-radius: 4px;'>le</span><span style='background-color: rgba(0, 120, 255, 0.02); color: white; padding: 3px 5px; margin-right: 4px; border-radius: 4px;'>dira</span><span style='background-color: rgba(0, 120, 255, 0.00); color: white; padding: 3px 5px; margin-right: 4px; border-radius: 4px;'>a</span><span style='background-color: rgba(0, 120, 255, 0.00); color: white; padding: 3px 5px; margin-right: 4px; border-radius: 4px;'>q</span><span style='background-color: rgba(0, 120, 255, 0.01); color: white; padding: 3px 5px; margin-right: 4px; border-radius: 4px;'>su</span><span style='background-color: rgba(0, 120, 255, 0.01); color: white; padding: 3px 5px; margin-right: 4px; border-radius: 4px;'>candidatura</span><span style='background-color: rgba(0, 120, 255, 0.01); color: white; padding: 3px 5px; margin-right: 4px; border-radius: 4px;'>contribuye</span><span style='background-color: rgba(0, 120, 255, 0.00); color: white; padding: 3px 5px; margin-right: 4px; border-radius: 4px;'>a</span><span style='background-color: rgba(0, 120, 255, 0.00); color: white; padding: 3px 5px; margin-right: 4px; border-radius: 4px;'>que</span><span style='background-color: rgba(0, 120, 255, 0.03); color: white; padding: 3px 5px; margin-right: 4px; border-radius: 4px;'>la</span><span style='background-color: rgba(0, 120, 255, 0.02); color: white; padding: 3px 5px; margin-right: 4px; border-radius: 4px;'>golppista</span><span style='background-color: rgba(0, 120, 255, 0.24); color: white; padding: 3px 5px; margin-right: 4px; border-radius: 4px;'>susana</span><span style='background-color: rgba(0, 120, 255, 0.19); color: white; padding: 3px 5px; margin-right: 4px; border-radius: 4px;'>daz</span><span style='background-color: rgba(0, 120, 255, 0.15); color: white; padding: 3px 5px; margin-right: 4px; border-radius: 4px;'>llegue</span><span style='background-color: rgba(0, 120, 255, 0.01); color: white; padding: 3px 5px; margin-right: 4px; border-radius: 4px;'>a</span><span style='background-color: rgba(0, 120, 255, 0.19); color: white; padding: 3px 5px; margin-right: 4px; border-radius: 4px;'>sg</span><span style='background-color: rgba(0, 120, 255, 0.11); color: white; padding: 3px 5px; margin-right: 4px; border-radius: 4px;'>dividiendo</span><span style='background-color: rgba(0, 120, 255, 0.02); color: white; padding: 3px 5px; margin-right: 4px; border-radius: 4px;'>voto!</span><span style='background-color: rgba(0, 120, 255, 0.00); color: white; padding: 3px 5px; margin-right: 4px; border-radius: 4px;'>ni</span><span style='background-color: rgba(0, 120, 255, 0.00); color: white; padding: 3px 5px; margin-right: 4px; border-radius: 4px;'>ni</span><span style='background-color: rgba(0, 120, 255, 0.01); color: white; padding: 3px 5px; margin-right: 4px; border-radius: 4px;'>muelas</span><span style='background-color: rgba(0, 120, 255, 0.00); color: white; padding: 3px 5px; margin-right: 4px; border-radius: 4px;'>sin</span><span style='background-color: rgba(0, 120, 255, 0.00); color: white; padding: 3px 5px; margin-right: 4px; border-radius: 4px;'>anestesia</span><span style='background-color: rgba(0, 120, 255, 0.00); color: white; padding: 3px 5px; margin-right: 4px; border-radius: 4px;'>ni</span><span style='background-color: rgba(0, 120, 255, 0.00); color: white; padding: 3px 5px; margin-right: 4px; border-radius: 4px;'>francotiradores..</span><span style='background-color: rgba(0, 120, 255, 0.00); color: white; padding: 3px 5px; margin-right: 4px; border-radius: 4px;'>!</span></div><br><div style='background-color: rgba(255, 255, 150, 0.04); padding: 5px; margin-bottom: 4px; border-radius: 5px;'><span style='background-color: rgba(0, 120, 255, 0.00); color: white; padding: 3px 5px; margin-right: 4px; border-radius: 4px;'>no</span><span style='background-color: rgba(0, 120, 255, 0.00); color: white; padding: 3px 5px; margin-right: 4px; border-radius: 4px;'>somos</span><span style='background-color: rgba(0, 120, 255, 0.00); color: white; padding: 3px 5px; margin-right: 4px; border-radius: 4px;'>pagacuotas,</span><span style='background-color: rgba(0, 120, 255, 0.00); color: white; padding: 3px 5px; margin-right: 4px; border-radius: 4px;'>contra</span><span style='background-color: rgba(0, 120, 255, 0.00); color: white; padding: 3px 5px; margin-right: 4px; border-radius: 4px;'>ls</span><span style='background-color: rgba(0, 120, 255, 0.01); color: white; padding: 3px 5px; margin-right: 4px; border-radius: 4px;'>medios</span><span style='background-color: rgba(0, 120, 255, 0.00); color: white; padding: 3px 5px; margin-right: 4px; border-radius: 4px;'>d</span><span style='background-color: rgba(0, 120, 255, 0.00); color: white; padding: 3px 5px; margin-right: 4px; border-radius: 4px;'>la</span><span style='background-color: rgba(0, 120, 255, 0.00); color: white; padding: 3px 5px; margin-right: 4px; border-radius: 4px;'>dcha,la</span><span style='background-color: rgba(0, 120, 255, 0.00); color: white; padding: 3px 5px; margin-right: 4px; border-radius: 4px;'>sultana,caciques,hipoteca</span><span style='background-color: rgba(0, 120, 255, 0.00); color: white; padding: 3px 5px; margin-right: 4px; border-radius: 4px;'>d</span><span style='background-color: rgba(0, 120, 255, 0.01); color: white; padding: 3px 5px; margin-right: 4px; border-radius: 4px;'>hernando</span><span style='background-color: rgba(0, 120, 255, 0.00); color: white; padding: 3px 5px; margin-right: 4px; border-radius: 4px;'>y</span><span style='background-color: rgba(0, 120, 255, 0.00); color: white; padding: 3px 5px; margin-right: 4px; border-radius: 4px;'>d</span><span style='background-color: rgba(0, 120, 255, 0.00); color: white; padding: 3px 5px; margin-right: 4px; border-radius: 4px;'>la</span><span style='background-color: rgba(0, 120, 255, 0.00); color: white; padding: 3px 5px; margin-right: 4px; border-radius: 4px;'>cu</span><span style='background-color: rgba(0, 120, 255, 0.00); color: white; padding: 3px 5px; margin-right: 4px; border-radius: 4px;'>y</span><span style='background-color: rgba(0, 120, 255, 0.00); color: white; padding: 3px 5px; margin-right: 4px; border-radius: 4px;'>me</span><span style='background-color: rgba(0, 120, 255, 0.00); color: white; padding: 3px 5px; margin-right: 4px; border-radius: 4px;'>avergenzo</span><span style='background-color: rgba(0, 120, 255, 0.00); color: white; padding: 3px 5px; margin-right: 4px; border-radius: 4px;'>de</span><span style='background-color: rgba(0, 120, 255, 0.00); color: white; padding: 3px 5px; margin-right: 4px; border-radius: 4px;'>los</span><span style='background-color: rgba(0, 120, 255, 0.00); color: white; padding: 3px 5px; margin-right: 4px; border-radius: 4px;'>golppistas</span><span style='background-color: rgba(0, 120, 255, 0.00); color: white; padding: 3px 5px; margin-right: 4px; border-radius: 4px;'>q</span><span style='background-color: rgba(0, 120, 255, 0.09); color: white; padding: 3px 5px; margin-right: 4px; border-radius: 4px;'>han</span><span style='background-color: rgba(0, 120, 255, 0.00); color: white; padding: 3px 5px; margin-right: 4px; border-radius: 4px;'>secuestrado</span><span style='background-color: rgba(0, 120, 255, 0.00); color: white; padding: 3px 5px; margin-right: 4px; border-radius: 4px;'>137</span><span style='background-color: rgba(0, 120, 255, 0.00); color: white; padding: 3px 5px; margin-right: 4px; border-radius: 4px;'>aos</span><span style='background-color: rgba(0, 120, 255, 0.00); color: white; padding: 3px 5px; margin-right: 4px; border-radius: 4px;'>d</span><span style='background-color: rgba(0, 120, 255, 0.00); color: white; padding: 3px 5px; margin-right: 4px; border-radius: 4px;'>lucha</span><span style='background-color: rgba(0, 120, 255, 0.00); color: white; padding: 3px 5px; margin-right: 4px; border-radius: 4px;'>y</span><span style='background-color: rgba(0, 120, 255, 0.00); color: white; padding: 3px 5px; margin-right: 4px; border-radius: 4px;'>de</span><span style='background-color: rgba(0, 120, 255, 0.00); color: white; padding: 3px 5px; margin-right: 4px; border-radius: 4px;'>portadas</span><span style='background-color: rgba(0, 120, 255, 0.00); color: white; padding: 3px 5px; margin-right: 4px; border-radius: 4px;'>cmo</span><span style='background-color: rgba(0, 120, 255, 0.00); color: white; padding: 3px 5px; margin-right: 4px; border-radius: 4px;'>estas</span><span style='background-color: rgba(0, 120, 255, 0.00); color: white; padding: 3px 5px; margin-right: 4px; border-radius: 4px;'>..</span><span style='background-color: rgba(0, 120, 255, 0.00); color: white; padding: 3px 5px; margin-right: 4px; border-radius: 4px;'>y</span><span style='background-color: rgba(0, 120, 255, 0.01); color: white; padding: 3px 5px; margin-right: 4px; border-radius: 4px;'>qu</span><span style='background-color: rgba(0, 120, 255, 1.00); color: white; padding: 3px 5px; margin-right: 4px; border-radius: 4px;'>has</span><span style='background-color: rgba(0, 120, 255, 0.01); color: white; padding: 3px 5px; margin-right: 4px; border-radius: 4px;'>hecho</span><span style='background-color: rgba(0, 120, 255, 0.00); color: white; padding: 3px 5px; margin-right: 4px; border-radius: 4px;'>t</span><span style='background-color: rgba(0, 120, 255, 0.00); color: white; padding: 3px 5px; margin-right: 4px; border-radius: 4px;'>x</span><span style='background-color: rgba(0, 120, 255, 0.00); color: white; padding: 3px 5px; margin-right: 4px; border-radius: 4px;'>q</span><span style='background-color: rgba(0, 120, 255, 0.00); color: white; padding: 3px 5px; margin-right: 4px; border-radius: 4px;'>decas</span><span style='background-color: rgba(0, 120, 255, 0.00); color: white; padding: 3px 5px; margin-right: 4px; border-radius: 4px;'>defender</span><span style='background-color: rgba(0, 120, 255, 0.00); color: white; padding: 3px 5px; margin-right: 4px; border-radius: 4px;'>hasta</span><span style='background-color: rgba(0, 120, 255, 0.00); color: white; padding: 3px 5px; margin-right: 4px; border-radius: 4px;'>que</span><span style='background-color: rgba(0, 120, 255, 0.00); color: white; padding: 3px 5px; margin-right: 4px; border-radius: 4px;'>perdiste</span><span style='background-color: rgba(0, 120, 255, 0.00); color: white; padding: 3px 5px; margin-right: 4px; border-radius: 4px;'>la</span><span style='background-color: rgba(0, 120, 255, 0.00); color: white; padding: 3px 5px; margin-right: 4px; border-radius: 4px;'>sg??apoyar</span><span style='background-color: rgba(0, 120, 255, 0.00); color: white; padding: 3px 5px; margin-right: 4px; border-radius: 4px;'>un</span><span style='background-color: rgba(0, 120, 255, 0.00); color: white; padding: 3px 5px; margin-right: 4px; border-radius: 4px;'>golppe</span><span style='background-color: rgba(0, 120, 255, 0.00); color: white; padding: 3px 5px; margin-right: 4px; border-radius: 4px;'>x</span><span style='background-color: rgba(0, 120, 255, 0.00); color: white; padding: 3px 5px; margin-right: 4px; border-radius: 4px;'>tu</span><span style='background-color: rgba(0, 120, 255, 0.00); color: white; padding: 3px 5px; margin-right: 4px; border-radius: 4px;'>si</span><span style='background-color: rgba(0, 120, 255, 0.00); color: white; padding: 3px 5px; margin-right: 4px; border-radius: 4px;'>solo</span><span style='background-color: rgba(0, 120, 255, 0.01); color: white; padding: 3px 5px; margin-right: 4px; border-radius: 4px;'>susana</span><span style='background-color: rgba(0, 120, 255, 0.00); color: white; padding: 3px 5px; margin-right: 4px; border-radius: 4px;'>daz</span><span style='background-color: rgba(0, 120, 255, 0.00); color: white; padding: 3px 5px; margin-right: 4px; border-radius: 4px;'>garantizaria</span><span style='background-color: rgba(0, 120, 255, 0.00); color: white; padding: 3px 5px; margin-right: 4px; border-radius: 4px;'>que</span><span style='background-color: rgba(0, 120, 255, 0.00); color: white; padding: 3px 5px; margin-right: 4px; border-radius: 4px;'>el</span><span style='background-color: rgba(0, 120, 255, 0.00); color: white; padding: 3px 5px; margin-right: 4px; border-radius: 4px;'>presidente</span><span style='background-color: rgba(0, 120, 255, 0.00); color: white; padding: 3px 5px; margin-right: 4px; border-radius: 4px;'>agotase</span><span style='background-color: rgba(0, 120, 255, 0.00); color: white; padding: 3px 5px; margin-right: 4px; border-radius: 4px;'>su</span><span style='background-color: rgba(0, 120, 255, 0.00); color: white; padding: 3px 5px; margin-right: 4px; border-radius: 4px;'>mandato..alguna</span><span style='background-color: rgba(0, 120, 255, 0.00); color: white; padding: 3px 5px; margin-right: 4px; border-radius: 4px;'>duda</span><span style='background-color: rgba(0, 120, 255, 0.00); color: white; padding: 3px 5px; margin-right: 4px; border-radius: 4px;'>?</span></div><br><div style='background-color: rgba(255, 255, 150, 0.00); padding: 5px; margin-bottom: 4px; border-radius: 5px;'><span style='background-color: rgba(0, 120, 255, 0.01); color: white; padding: 3px 5px; margin-right: 4px; border-radius: 4px;'>el</span><span style='background-color: rgba(0, 120, 255, 0.00); color: white; padding: 3px 5px; margin-right: 4px; border-radius: 4px;'>final</span><span style='background-color: rgba(0, 120, 255, 0.01); color: white; padding: 3px 5px; margin-right: 4px; border-radius: 4px;'>del</span><span style='background-color: rgba(0, 120, 255, 0.01); color: white; padding: 3px 5px; margin-right: 4px; border-radius: 4px;'>artculo</span><span style='background-color: rgba(0, 120, 255, 0.00); color: white; padding: 3px 5px; margin-right: 4px; border-radius: 4px;'>de</span><span style='background-color: rgba(0, 120, 255, 0.00); color: white; padding: 3px 5px; margin-right: 4px; border-radius: 4px;'>de</span><span style='background-color: rgba(0, 120, 255, 0.00); color: white; padding: 3px 5px; margin-right: 4px; border-radius: 4px;'>hoy</span><span style='background-color: rgba(0, 120, 255, 0.01); color: white; padding: 3px 5px; margin-right: 4px; border-radius: 4px;'>confirma</span><span style='background-color: rgba(0, 120, 255, 0.00); color: white; padding: 3px 5px; margin-right: 4px; border-radius: 4px;'>un</span><span style='background-color: rgba(0, 120, 255, 0.01); color: white; padding: 3px 5px; margin-right: 4px; border-radius: 4px;'>secreto</span><span style='background-color: rgba(0, 120, 255, 0.00); color: white; padding: 3px 5px; margin-right: 4px; border-radius: 4px;'>a</span><span style='background-color: rgba(0, 120, 255, 0.01); color: white; padding: 3px 5px; margin-right: 4px; border-radius: 4px;'>voces..</span><span style='background-color: rgba(0, 120, 255, 0.01); color: white; padding: 3px 5px; margin-right: 4px; border-radius: 4px;'>prefiere</span><span style='background-color: rgba(0, 120, 255, 0.00); color: white; padding: 3px 5px; margin-right: 4px; border-radius: 4px;'>a</span><span style='background-color: rgba(0, 120, 255, 0.16); color: white; padding: 3px 5px; margin-right: 4px; border-radius: 4px;'>susana</span><span style='background-color: rgba(0, 120, 255, 0.13); color: white; padding: 3px 5px; margin-right: 4px; border-radius: 4px;'>daz</span><span style='background-color: rgba(0, 120, 255, 0.04); color: white; padding: 3px 5px; margin-right: 4px; border-radius: 4px;'>!</span><span style='background-color: rgba(0, 120, 255, 0.08); color: white; padding: 3px 5px; margin-right: 4px; border-radius: 4px;'>muchas</span><span style='background-color: rgba(0, 120, 255, 0.18); color: white; padding: 3px 5px; margin-right: 4px; border-radius: 4px;'>gracias</span><span style='background-color: rgba(0, 120, 255, 0.01); color: white; padding: 3px 5px; margin-right: 4px; border-radius: 4px;'>x</span><span style='background-color: rgba(0, 120, 255, 0.06); color: white; padding: 3px 5px; margin-right: 4px; border-radius: 4px;'>representar</span><span style='background-color: rgba(0, 120, 255, 0.00); color: white; padding: 3px 5px; margin-right: 4px; border-radius: 4px;'>y</span><span style='background-color: rgba(0, 120, 255, 0.01); color: white; padding: 3px 5px; margin-right: 4px; border-radius: 4px;'>el</span><span style='background-color: rgba(0, 120, 255, 0.02); color: white; padding: 3px 5px; margin-right: 4px; border-radius: 4px;'>sentir</span><span style='background-color: rgba(0, 120, 255, 0.02); color: white; padding: 3px 5px; margin-right: 4px; border-radius: 4px;'>del</span><span style='background-color: rgba(0, 120, 255, 0.18); color: white; padding: 3px 5px; margin-right: 4px; border-radius: 4px;'>socialismo</span><span style='background-color: rgba(0, 120, 255, 0.00); color: white; padding: 3px 5px; margin-right: 4px; border-radius: 4px;'>d</span><span style='background-color: rgba(0, 120, 255, 0.21); color: white; padding: 3px 5px; margin-right: 4px; border-radius: 4px;'>calle</span><span style='background-color: rgba(0, 120, 255, 0.00); color: white; padding: 3px 5px; margin-right: 4px; border-radius: 4px;'>y</span><span style='background-color: rgba(0, 120, 255, 0.00); color: white; padding: 3px 5px; margin-right: 4px; border-radius: 4px;'>no</span><span style='background-color: rgba(0, 120, 255, 0.00); color: white; padding: 3px 5px; margin-right: 4px; border-radius: 4px;'>d</span><span style='background-color: rgba(0, 120, 255, 0.00); color: white; padding: 3px 5px; margin-right: 4px; border-radius: 4px;'>poltrona!</span></div><br><div style='background-color: rgba(255, 255, 150, 0.00); padding: 5px; margin-bottom: 4px; border-radius: 5px;'><span style='background-color: rgba(0, 120, 255, 0.01); color: white; padding: 3px 5px; margin-right: 4px; border-radius: 4px;'>de</span><span style='background-color: rgba(0, 120, 255, 0.08); color: white; padding: 3px 5px; margin-right: 4px; border-radius: 4px;'>ti!</span></div><br><div style='background-color: rgba(255, 255, 150, 0.00); padding: 5px; margin-bottom: 4px; border-radius: 5px;'><span style='background-color: rgba(0, 120, 255, 0.15); color: white; padding: 3px 5px; margin-right: 4px; border-radius: 4px;'>desde</span><span style='background-color: rgba(0, 120, 255, 0.04); color: white; padding: 3px 5px; margin-right: 4px; border-radius: 4px;'>con</span><span style='background-color: rgba(0, 120, 255, 0.34); color: white; padding: 3px 5px; margin-right: 4px; border-radius: 4px;'>mucha</span><span style='background-color: rgba(0, 120, 255, 0.04); color: white; padding: 3px 5px; margin-right: 4px; border-radius: 4px;'>ilusin</span><span style='background-color: rgba(0, 120, 255, 0.41); color: white; padding: 3px 5px; margin-right: 4px; border-radius: 4px;'>rumbo</span><span style='background-color: rgba(0, 120, 255, 0.01); color: white; padding: 3px 5px; margin-right: 4px; border-radius: 4px;'>a</span><span style='background-color: rgba(0, 120, 255, 0.02); color: white; padding: 3px 5px; margin-right: 4px; border-radius: 4px;'>!</span></div><br><div style='background-color: rgba(255, 255, 150, 0.00); padding: 5px; margin-bottom: 4px; border-radius: 5px;'><span style='background-color: rgba(0, 120, 255, 0.13); color: white; padding: 3px 5px; margin-right: 4px; border-radius: 4px;'>representacin</span><span style='background-color: rgba(0, 120, 255, 0.01); color: white; padding: 3px 5px; margin-right: 4px; border-radius: 4px;'>de</span><span style='background-color: rgba(0, 120, 255, 0.01); color: white; padding: 3px 5px; margin-right: 4px; border-radius: 4px;'>por</span><span style='background-color: rgba(0, 120, 255, 0.16); color: white; padding: 3px 5px; margin-right: 4px; border-radius: 4px;'>qu</span><span style='background-color: rgba(0, 120, 255, 0.02); color: white; padding: 3px 5px; margin-right: 4px; border-radius: 4px;'>quieren</span><span style='background-color: rgba(0, 120, 255, 0.27); color: white; padding: 3px 5px; margin-right: 4px; border-radius: 4px;'>acallar</span><span style='background-color: rgba(0, 120, 255, 0.07); color: white; padding: 3px 5px; margin-right: 4px; border-radius: 4px;'>..porque</span><span style='background-color: rgba(0, 120, 255, 0.05); color: white; padding: 3px 5px; margin-right: 4px; border-radius: 4px;'>!!</span></div><br><div style='background-color: rgba(255, 255, 150, 0.00); padding: 5px; margin-bottom: 4px; border-radius: 5px;'><span style='background-color: rgba(0, 120, 255, 0.01); color: white; padding: 3px 5px; margin-right: 4px; border-radius: 4px;'>y</span><span style='background-color: rgba(0, 120, 255, 0.42); color: white; padding: 3px 5px; margin-right: 4px; border-radius: 4px;'>quizs</span><span style='background-color: rgba(0, 120, 255, 0.10); color: white; padding: 3px 5px; margin-right: 4px; border-radius: 4px;'>tambin</span><span style='background-color: rgba(0, 120, 255, 0.09); color: white; padding: 3px 5px; margin-right: 4px; border-radius: 4px;'>la</span><span style='background-color: rgba(0, 120, 255, 0.02); color: white; padding: 3px 5px; margin-right: 4px; border-radius: 4px;'>cuadisima</span><span style='background-color: rgba(0, 120, 255, 0.00); color: white; padding: 3px 5px; margin-right: 4px; border-radius: 4px;'>de</span><span style='background-color: rgba(0, 120, 255, 0.04); color: white; padding: 3px 5px; margin-right: 4px; border-radius: 4px;'>tiene</span><span style='background-color: rgba(0, 120, 255, 0.01); color: white; padding: 3px 5px; margin-right: 4px; border-radius: 4px;'>que</span><span style='background-color: rgba(0, 120, 255, 0.05); color: white; padding: 3px 5px; margin-right: 4px; border-radius: 4px;'>pagar</span><span style='background-color: rgba(0, 120, 255, 0.03); color: white; padding: 3px 5px; margin-right: 4px; border-radius: 4px;'>la</span><span style='background-color: rgba(0, 120, 255, 0.02); color: white; padding: 3px 5px; margin-right: 4px; border-radius: 4px;'>hipoteca</span><span style='background-color: rgba(0, 120, 255, 0.13); color: white; padding: 3px 5px; margin-right: 4px; border-radius: 4px;'>bailars</span><span style='background-color: rgba(0, 120, 255, 0.00); color: white; padding: 3px 5px; margin-right: 4px; border-radius: 4px;'>en</span><span style='background-color: rgba(0, 120, 255, 0.01); color: white; padding: 3px 5px; margin-right: 4px; border-radius: 4px;'>un</span><span style='background-color: rgba(0, 120, 255, 0.10); color: white; padding: 3px 5px; margin-right: 4px; border-radius: 4px;'>vdeo</span><span style='background-color: rgba(0, 120, 255, 0.00); color: white; padding: 3px 5px; margin-right: 4px; border-radius: 4px;'>de</span><span style='background-color: rgba(0, 120, 255, 0.01); color: white; padding: 3px 5px; margin-right: 4px; border-radius: 4px;'>??</span></div><br><div style='background-color: rgba(255, 255, 150, 0.00); padding: 5px; margin-bottom: 4px; border-radius: 5px;'><span style='background-color: rgba(0, 120, 255, 0.56); color: white; padding: 3px 5px; margin-right: 4px; border-radius: 4px;'>qu</span><span style='background-color: rgba(0, 120, 255, 0.16); color: white; padding: 3px 5px; margin-right: 4px; border-radius: 4px;'>ganas</span><span style='background-color: rgba(0, 120, 255, 0.01); color: white; padding: 3px 5px; margin-right: 4px; border-radius: 4px;'>de</span><span style='background-color: rgba(0, 120, 255, 0.12); color: white; padding: 3px 5px; margin-right: 4px; border-radius: 4px;'>verlo</span><span style='background-color: rgba(0, 120, 255, 0.02); color: white; padding: 3px 5px; margin-right: 4px; border-radius: 4px;'>yaa!!</span></div><br><div style='background-color: rgba(255, 255, 150, 0.01); padding: 5px; margin-bottom: 4px; border-radius: 5px;'><span style='background-color: rgba(0, 120, 255, 0.01); color: white; padding: 3px 5px; margin-right: 4px; border-radius: 4px;'>cmo</span><span style='background-color: rgba(0, 120, 255, 1.00); color: white; padding: 3px 5px; margin-right: 4px; border-radius: 4px;'>hemos</span><span style='background-color: rgba(0, 120, 255, 0.00); color: white; padding: 3px 5px; margin-right: 4px; border-radius: 4px;'>cambiado</span><span style='background-color: rgba(0, 120, 255, 0.00); color: white; padding: 3px 5px; margin-right: 4px; border-radius: 4px;'>en</span><span style='background-color: rgba(0, 120, 255, 0.00); color: white; padding: 3px 5px; margin-right: 4px; border-radius: 4px;'>2</span><span style='background-color: rgba(0, 120, 255, 0.00); color: white; padding: 3px 5px; margin-right: 4px; border-radius: 4px;'>aos</span><span style='background-color: rgba(0, 120, 255, 0.00); color: white; padding: 3px 5px; margin-right: 4px; border-radius: 4px;'>!ya</span><span style='background-color: rgba(0, 120, 255, 0.00); color: white; padding: 3px 5px; margin-right: 4px; border-radius: 4px;'>formas</span><span style='background-color: rgba(0, 120, 255, 0.00); color: white; padding: 3px 5px; margin-right: 4px; border-radius: 4px;'>parte</span><span style='background-color: rgba(0, 120, 255, 0.00); color: white; padding: 3px 5px; margin-right: 4px; border-radius: 4px;'>de</span><span style='background-color: rgba(0, 120, 255, 0.01); color: white; padding: 3px 5px; margin-right: 4px; border-radius: 4px;'>esos</span><span style='background-color: rgba(0, 120, 255, 0.00); color: white; padding: 3px 5px; margin-right: 4px; border-radius: 4px;'>8</span><span style='background-color: rgba(0, 120, 255, 0.00); color: white; padding: 3px 5px; margin-right: 4px; border-radius: 4px;'>dirigentes!</span></div><br><div style='background-color: rgba(255, 255, 150, 0.02); padding: 5px; margin-bottom: 4px; border-radius: 5px;'><span style='background-color: rgba(0, 120, 255, 0.00); color: white; padding: 3px 5px; margin-right: 4px; border-radius: 4px;'>lo</span><span style='background-color: rgba(0, 120, 255, 0.00); color: white; padding: 3px 5px; margin-right: 4px; border-radius: 4px;'>de</span><span style='background-color: rgba(0, 120, 255, 0.04); color: white; padding: 3px 5px; margin-right: 4px; border-radius: 4px;'>dnde</span><span style='background-color: rgba(0, 120, 255, 0.01); color: white; padding: 3px 5px; margin-right: 4px; border-radius: 4px;'>qued?</span><span style='background-color: rgba(0, 120, 255, 0.01); color: white; padding: 3px 5px; margin-right: 4px; border-radius: 4px;'>ex</span><span style='background-color: rgba(0, 120, 255, 0.02); color: white; padding: 3px 5px; margin-right: 4px; border-radius: 4px;'>defensor</span><span style='background-color: rgba(0, 120, 255, 0.00); color: white; padding: 3px 5px; margin-right: 4px; border-radius: 4px;'>d</span><span style='background-color: rgba(0, 120, 255, 0.00); color: white; padding: 3px 5px; margin-right: 4px; border-radius: 4px;'>y</span><span style='background-color: rgba(0, 120, 255, 0.01); color: white; padding: 3px 5px; margin-right: 4px; border-radius: 4px;'>junto</span><span style='background-color: rgba(0, 120, 255, 0.00); color: white; padding: 3px 5px; margin-right: 4px; border-radius: 4px;'>a</span><span style='background-color: rgba(0, 120, 255, 0.37); color: white; padding: 3px 5px; margin-right: 4px; border-radius: 4px;'>uno</span><span style='background-color: rgba(0, 120, 255, 0.00); color: white; padding: 3px 5px; margin-right: 4px; border-radius: 4px;'>q</span><span style='background-color: rgba(0, 120, 255, 0.01); color: white; padding: 3px 5px; margin-right: 4px; border-radius: 4px;'>quiere</span><span style='background-color: rgba(0, 120, 255, 0.01); color: white; padding: 3px 5px; margin-right: 4px; border-radius: 4px;'>poner</span><span style='background-color: rgba(0, 120, 255, 0.02); color: white; padding: 3px 5px; margin-right: 4px; border-radius: 4px;'>francotiradores</span><span style='background-color: rgba(0, 120, 255, 0.00); color: white; padding: 3px 5px; margin-right: 4px; border-radius: 4px;'>en</span><span style='background-color: rgba(0, 120, 255, 0.01); color: white; padding: 3px 5px; margin-right: 4px; border-radius: 4px;'>fronteras</span><span style='background-color: rgba(0, 120, 255, 0.01); color: white; padding: 3px 5px; margin-right: 4px; border-radius: 4px;'>la</span><span style='background-color: rgba(0, 120, 255, 0.00); color: white; padding: 3px 5px; margin-right: 4px; border-radius: 4px;'>tienda</span><span style='background-color: rgba(0, 120, 255, 0.01); color: white; padding: 3px 5px; margin-right: 4px; border-radius: 4px;'>est</span><span style='background-color: rgba(0, 120, 255, 0.32); color: white; padding: 3px 5px; margin-right: 4px; border-radius: 4px;'>cerrada</span><span style='background-color: rgba(0, 120, 255, 0.00); color: white; padding: 3px 5px; margin-right: 4px; border-radius: 4px;'>de</span><span style='background-color: rgba(0, 120, 255, 0.00); color: white; padding: 3px 5px; margin-right: 4px; border-radius: 4px;'>todas</span><span style='background-color: rgba(0, 120, 255, 0.01); color: white; padding: 3px 5px; margin-right: 4px; border-radius: 4px;'>formas,como</span><span style='background-color: rgba(0, 120, 255, 0.01); color: white; padding: 3px 5px; margin-right: 4px; border-radius: 4px;'>sugerencia</span><span style='background-color: rgba(0, 120, 255, 0.00); color: white; padding: 3px 5px; margin-right: 4px; border-radius: 4px;'>es</span><span style='background-color: rgba(0, 120, 255, 0.00); color: white; padding: 3px 5px; margin-right: 4px; border-radius: 4px;'>que</span><span style='background-color: rgba(0, 120, 255, 0.01); color: white; padding: 3px 5px; margin-right: 4px; border-radius: 4px;'>desde</span><span style='background-color: rgba(0, 120, 255, 0.25); color: white; padding: 3px 5px; margin-right: 4px; border-radius: 4px;'>aqu</span><span style='background-color: rgba(0, 120, 255, 0.01); color: white; padding: 3px 5px; margin-right: 4px; border-radius: 4px;'>redirijais</span><span style='background-color: rgba(0, 120, 255, 0.00); color: white; padding: 3px 5px; margin-right: 4px; border-radius: 4px;'>a</span><span style='background-color: rgba(0, 120, 255, 0.01); color: white; padding: 3px 5px; margin-right: 4px; border-radius: 4px;'>la</span><span style='background-color: rgba(0, 120, 255, 0.01); color: white; padding: 3px 5px; margin-right: 4px; border-radius: 4px;'>web</span><span style='background-color: rgba(0, 120, 255, 0.00); color: white; padding: 3px 5px; margin-right: 4px; border-radius: 4px;'>y</span><span style='background-color: rgba(0, 120, 255, 0.00); color: white; padding: 3px 5px; margin-right: 4px; border-radius: 4px;'>no</span><span style='background-color: rgba(0, 120, 255, 0.01); color: white; padding: 3px 5px; margin-right: 4px; border-radius: 4px;'>deis</span><span style='background-color: rgba(0, 120, 255, 0.00); color: white; padding: 3px 5px; margin-right: 4px; border-radius: 4px;'>la</span><span style='background-color: rgba(0, 120, 255, 0.00); color: white; padding: 3px 5px; margin-right: 4px; border-radius: 4px;'>info!</span></div><br><div style='background-color: rgba(255, 255, 150, 0.02); padding: 5px; margin-bottom: 4px; border-radius: 5px;'><span style='background-color: rgba(0, 120, 255, 0.68); color: white; padding: 3px 5px; margin-right: 4px; border-radius: 4px;'>habis</span><span style='background-color: rgba(0, 120, 255, 0.26); color: white; padding: 3px 5px; margin-right: 4px; border-radius: 4px;'>cerrado</span><span style='background-color: rgba(0, 120, 255, 0.01); color: white; padding: 3px 5px; margin-right: 4px; border-radius: 4px;'>la</span><span style='background-color: rgba(0, 120, 255, 0.00); color: white; padding: 3px 5px; margin-right: 4px; border-radius: 4px;'>tienda</span><span style='background-color: rgba(0, 120, 255, 0.00); color: white; padding: 3px 5px; margin-right: 4px; border-radius: 4px;'>de</span><span style='background-color: rgba(0, 120, 255, 0.09); color: white; padding: 3px 5px; margin-right: 4px; border-radius: 4px;'>snchez</span><span style='background-color: rgba(0, 120, 255, 0.06); color: white; padding: 3px 5px; margin-right: 4px; border-radius: 4px;'>pacheco</span><span style='background-color: rgba(0, 120, 255, 0.00); color: white; padding: 3px 5px; margin-right: 4px; border-radius: 4px;'>en</span><span style='background-color: rgba(0, 120, 255, 0.01); color: white; padding: 3px 5px; margin-right: 4px; border-radius: 4px;'>madrid?o</span><span style='background-color: rgba(0, 120, 255, 0.02); color: white; padding: 3px 5px; margin-right: 4px; border-radius: 4px;'>la</span><span style='background-color: rgba(0, 120, 255, 0.05); color: white; padding: 3px 5px; margin-right: 4px; border-radius: 4px;'>habis</span><span style='background-color: rgba(0, 120, 255, 0.00); color: white; padding: 3px 5px; margin-right: 4px; border-radius: 4px;'>cambiado</span><span style='background-color: rgba(0, 120, 255, 0.00); color: white; padding: 3px 5px; margin-right: 4px; border-radius: 4px;'>de</span><span style='background-color: rgba(0, 120, 255, 0.00); color: white; padding: 3px 5px; margin-right: 4px; border-radius: 4px;'>local?</span></div><br><div style='background-color: rgba(255, 255, 150, 0.00); padding: 5px; margin-bottom: 4px; border-radius: 5px;'><span style='background-color: rgba(0, 120, 255, 0.34); color: white; padding: 3px 5px; margin-right: 4px; border-radius: 4px;'>muchas</span><span style='background-color: rgba(0, 120, 255, 0.66); color: white; padding: 3px 5px; margin-right: 4px; border-radius: 4px;'>gracias</span><span style='background-color: rgba(0, 120, 255, 0.02); color: white; padding: 3px 5px; margin-right: 4px; border-radius: 4px;'>!</span></div><br><div style='background-color: rgba(255, 255, 150, 0.03); padding: 5px; margin-bottom: 4px; border-radius: 5px;'><span style='background-color: rgba(0, 120, 255, 0.00); color: white; padding: 3px 5px; margin-right: 4px; border-radius: 4px;'>si</span><span style='background-color: rgba(0, 120, 255, 0.00); color: white; padding: 3px 5px; margin-right: 4px; border-radius: 4px;'>los</span><span style='background-color: rgba(0, 120, 255, 0.00); color: white; padding: 3px 5px; margin-right: 4px; border-radius: 4px;'>que</span><span style='background-color: rgba(0, 120, 255, 0.02); color: white; padding: 3px 5px; margin-right: 4px; border-radius: 4px;'>ms</span><span style='background-color: rgba(0, 120, 255, 0.03); color: white; padding: 3px 5px; margin-right: 4px; border-radius: 4px;'>hablan</span><span style='background-color: rgba(0, 120, 255, 0.00); color: white; padding: 3px 5px; margin-right: 4px; border-radius: 4px;'>son</span><span style='background-color: rgba(0, 120, 255, 0.00); color: white; padding: 3px 5px; margin-right: 4px; border-radius: 4px;'>los</span><span style='background-color: rgba(0, 120, 255, 0.00); color: white; padding: 3px 5px; margin-right: 4px; border-radius: 4px;'>que</span><span style='background-color: rgba(0, 120, 255, 0.03); color: white; padding: 3px 5px; margin-right: 4px; border-radius: 4px;'>ms</span><span style='background-color: rgba(0, 120, 255, 0.05); color: white; padding: 3px 5px; margin-right: 4px; border-radius: 4px;'>deberan</span><span style='background-color: rgba(0, 120, 255, 0.07); color: white; padding: 3px 5px; margin-right: 4px; border-radius: 4px;'>callar..madina</span><span style='background-color: rgba(0, 120, 255, 0.91); color: white; padding: 3px 5px; margin-right: 4px; border-radius: 4px;'>vende</span><span style='background-color: rgba(0, 120, 255, 0.04); color: white; padding: 3px 5px; margin-right: 4px; border-radius: 4px;'>consejos</span><span style='background-color: rgba(0, 120, 255, 0.00); color: white; padding: 3px 5px; margin-right: 4px; border-radius: 4px;'>que</span><span style='background-color: rgba(0, 120, 255, 0.00); color: white; padding: 3px 5px; margin-right: 4px; border-radius: 4px;'>para</span><span style='background-color: rgba(0, 120, 255, 0.02); color: white; padding: 3px 5px; margin-right: 4px; border-radius: 4px;'>l</span><span style='background-color: rgba(0, 120, 255, 0.00); color: white; padding: 3px 5px; margin-right: 4px; border-radius: 4px;'>no</span><span style='background-color: rgba(0, 120, 255, 0.00); color: white; padding: 3px 5px; margin-right: 4px; border-radius: 4px;'>tiene!</span></div><br><div style='background-color: rgba(255, 255, 150, 0.00); padding: 5px; margin-bottom: 4px; border-radius: 5px;'><span style='background-color: rgba(0, 120, 255, 0.04); color: white; padding: 3px 5px; margin-right: 4px; border-radius: 4px;'>que</span><span style='background-color: rgba(0, 120, 255, 0.07); color: white; padding: 3px 5px; margin-right: 4px; border-radius: 4px;'>pretendes?</span></div><br><div style='background-color: rgba(255, 255, 150, 0.00); padding: 5px; margin-bottom: 4px; border-radius: 5px;'><span style='background-color: rgba(0, 120, 255, 0.01); color: white; padding: 3px 5px; margin-right: 4px; border-radius: 4px;'>si</span><span style='background-color: rgba(0, 120, 255, 0.10); color: white; padding: 3px 5px; margin-right: 4px; border-radius: 4px;'>la</span><span style='background-color: rgba(0, 120, 255, 0.02); color: white; padding: 3px 5px; margin-right: 4px; border-radius: 4px;'>cuadisima</span><span style='background-color: rgba(0, 120, 255, 0.00); color: white; padding: 3px 5px; margin-right: 4px; border-radius: 4px;'>de</span><span style='background-color: rgba(0, 120, 255, 0.03); color: white; padding: 3px 5px; margin-right: 4px; border-radius: 4px;'>ferreras,hermana</span><span style='background-color: rgba(0, 120, 255, 0.00); color: white; padding: 3px 5px; margin-right: 4px; border-radius: 4px;'>de</span><span style='background-color: rgba(0, 120, 255, 0.25); color: white; padding: 3px 5px; margin-right: 4px; border-radius: 4px;'>trabaja</span><span style='background-color: rgba(0, 120, 255, 0.01); color: white; padding: 3px 5px; margin-right: 4px; border-radius: 4px;'>para</span><span style='background-color: rgba(0, 120, 255, 0.56); color: white; padding: 3px 5px; margin-right: 4px; border-radius: 4px;'>susana</span><span style='background-color: rgba(0, 120, 255, 0.05); color: white; padding: 3px 5px; margin-right: 4px; border-radius: 4px;'>daz!!</span></div><br><div style='background-color: rgba(255, 255, 150, 0.00); padding: 5px; margin-bottom: 4px; border-radius: 5px;'><span style='background-color: rgba(0, 120, 255, 0.03); color: white; padding: 3px 5px; margin-right: 4px; border-radius: 4px;'>o</span><span style='background-color: rgba(0, 120, 255, 0.07); color: white; padding: 3px 5px; margin-right: 4px; border-radius: 4px;'>compadreo?</span></div><br><div style='background-color: rgba(255, 255, 150, 0.01); padding: 5px; margin-bottom: 4px; border-radius: 5px;'><span style='background-color: rgba(0, 120, 255, 0.00); color: white; padding: 3px 5px; margin-right: 4px; border-radius: 4px;'>si</span><span style='background-color: rgba(0, 120, 255, 0.11); color: white; padding: 3px 5px; margin-right: 4px; border-radius: 4px;'>medios</span><span style='background-color: rgba(0, 120, 255, 0.00); color: white; padding: 3px 5px; margin-right: 4px; border-radius: 4px;'>y</span><span style='background-color: rgba(0, 120, 255, 0.99); color: white; padding: 3px 5px; margin-right: 4px; border-radius: 4px;'>han</span><span style='background-color: rgba(0, 120, 255, 0.01); color: white; padding: 3px 5px; margin-right: 4px; border-radius: 4px;'>puesto</span><span style='background-color: rgba(0, 120, 255, 0.00); color: white; padding: 3px 5px; margin-right: 4px; border-radius: 4px;'>en</span><span style='background-color: rgba(0, 120, 255, 0.01); color: white; padding: 3px 5px; margin-right: 4px; border-radius: 4px;'>marcha</span><span style='background-color: rgba(0, 120, 255, 0.00); color: white; padding: 3px 5px; margin-right: 4px; border-radius: 4px;'>la</span><span style='background-color: rgba(0, 120, 255, 0.03); color: white; padding: 3px 5px; margin-right: 4px; border-radius: 4px;'>maquinaria</span><span style='background-color: rgba(0, 120, 255, 0.01); color: white; padding: 3px 5px; margin-right: 4px; border-radius: 4px;'>del</span><span style='background-color: rgba(0, 120, 255, 0.03); color: white; padding: 3px 5px; margin-right: 4px; border-radius: 4px;'>fango</span><span style='background-color: rgba(0, 120, 255, 0.00); color: white; padding: 3px 5px; margin-right: 4px; border-radius: 4px;'>vs</span><span style='background-color: rgba(0, 120, 255, 0.00); color: white; padding: 3px 5px; margin-right: 4px; border-radius: 4px;'>sin</span><span style='background-color: rgba(0, 120, 255, 0.00); color: white; padding: 3px 5px; margin-right: 4px; border-radius: 4px;'>ser</span><span style='background-color: rgba(0, 120, 255, 0.00); color: white; padding: 3px 5px; margin-right: 4px; border-radius: 4px;'>candidato,va</span><span style='background-color: rgba(0, 120, 255, 0.00); color: white; padding: 3px 5px; margin-right: 4px; border-radius: 4px;'>bien!</span></div><br><div style='background-color: rgba(255, 255, 150, 0.00); padding: 5px; margin-bottom: 4px; border-radius: 5px;'><span style='background-color: rgba(0, 120, 255, 0.07); color: white; padding: 3px 5px; margin-right: 4px; border-radius: 4px;'>lder</span><span style='background-color: rgba(0, 120, 255, 0.23); color: white; padding: 3px 5px; margin-right: 4px; border-radius: 4px;'>lideresa</span><span style='background-color: rgba(0, 120, 255, 0.03); color: white; padding: 3px 5px; margin-right: 4px; border-radius: 4px;'>carismtic</span><span style='background-color: rgba(0, 120, 255, 0.00); color: white; padding: 3px 5px; margin-right: 4px; border-radius: 4px;'>q</span><span style='background-color: rgba(0, 120, 255, 0.03); color: white; padding: 3px 5px; margin-right: 4px; border-radius: 4px;'>pretende</span><span style='background-color: rgba(0, 120, 255, 0.02); color: white; padding: 3px 5px; margin-right: 4px; border-radius: 4px;'>la</span><span style='background-color: rgba(0, 120, 255, 0.00); color: white; padding: 3px 5px; margin-right: 4px; border-radius: 4px;'>aclamacin</span><span style='background-color: rgba(0, 120, 255, 0.00); color: white; padding: 3px 5px; margin-right: 4px; border-radius: 4px;'>de</span><span style='background-color: rgba(0, 120, 255, 0.04); color: white; padding: 3px 5px; margin-right: 4px; border-radius: 4px;'>su</span><span style='background-color: rgba(0, 120, 255, 0.02); color: white; padding: 3px 5px; margin-right: 4px; border-radius: 4px;'>pueblo,con</span><span style='background-color: rgba(0, 120, 255, 0.01); color: white; padding: 3px 5px; margin-right: 4px; border-radius: 4px;'>corte</span><span style='background-color: rgba(0, 120, 255, 0.00); color: white; padding: 3px 5px; margin-right: 4px; border-radius: 4px;'>de</span><span style='background-color: rgba(0, 120, 255, 0.15); color: white; padding: 3px 5px; margin-right: 4px; border-radius: 4px;'>palmer</span><span style='background-color: rgba(0, 120, 255, 0.27); color: white; padding: 3px 5px; margin-right: 4px; border-radius: 4px;'>aduladores</span><span style='background-color: rgba(0, 120, 255, 0.01); color: white; padding: 3px 5px; margin-right: 4px; border-radius: 4px;'>q</span><span style='background-color: rgba(0, 120, 255, 0.02); color: white; padding: 3px 5px; margin-right: 4px; border-radius: 4px;'>slo</span><span style='background-color: rgba(0, 120, 255, 0.00); color: white; padding: 3px 5px; margin-right: 4px; border-radius: 4px;'>buscan</span><span style='background-color: rgba(0, 120, 255, 0.04); color: white; padding: 3px 5px; margin-right: 4px; border-radius: 4px;'>su</span><span style='background-color: rgba(0, 120, 255, 0.15); color: white; padding: 3px 5px; margin-right: 4px; border-radius: 4px;'>inters</span><span style='background-color: rgba(0, 120, 255, 0.02); color: white; padding: 3px 5px; margin-right: 4px; border-radius: 4px;'>personal..</span></div><br><div style='background-color: rgba(255, 255, 150, 0.00); padding: 5px; margin-bottom: 4px; border-radius: 5px;'><span style='background-color: rgba(0, 120, 255, 0.21); color: white; padding: 3px 5px; margin-right: 4px; border-radius: 4px;'>redes</span><span style='background-color: rgba(0, 120, 255, 0.28); color: white; padding: 3px 5px; margin-right: 4px; border-radius: 4px;'>clientelares</span><span style='background-color: rgba(0, 120, 255, 0.03); color: white; padding: 3px 5px; margin-right: 4px; border-radius: 4px;'>compra</span><span style='background-color: rgba(0, 120, 255, 0.08); color: white; padding: 3px 5px; margin-right: 4px; border-radius: 4px;'>votos</span><span style='background-color: rgba(0, 120, 255, 0.41); color: white; padding: 3px 5px; margin-right: 4px; border-radius: 4px;'>hooligans</span><span style='background-color: rgba(0, 120, 255, 0.05); color: white; padding: 3px 5px; margin-right: 4px; border-radius: 4px;'>cualquier</span><span style='background-color: rgba(0, 120, 255, 0.07); color: white; padding: 3px 5px; margin-right: 4px; border-radius: 4px;'>semejanza</span><span style='background-color: rgba(0, 120, 255, 0.00); color: white; padding: 3px 5px; margin-right: 4px; border-radius: 4px;'>con</span><span style='background-color: rgba(0, 120, 255, 0.00); color: white; padding: 3px 5px; margin-right: 4px; border-radius: 4px;'>el</span><span style='background-color: rgba(0, 120, 255, 0.00); color: white; padding: 3px 5px; margin-right: 4px; border-radius: 4px;'>..?</span></div><br><div style='background-color: rgba(255, 255, 150, 0.00); padding: 5px; margin-bottom: 4px; border-radius: 5px;'><span style='background-color: rgba(0, 120, 255, 0.42); color: white; padding: 3px 5px; margin-right: 4px; border-radius: 4px;'>relanzan</span><span style='background-color: rgba(0, 120, 255, 0.01); color: white; padding: 3px 5px; margin-right: 4px; border-radius: 4px;'>en</span><span style='background-color: rgba(0, 120, 255, 0.02); color: white; padding: 3px 5px; margin-right: 4px; border-radius: 4px;'>un</span><span style='background-color: rgba(0, 120, 255, 0.03); color: white; padding: 3px 5px; margin-right: 4px; border-radius: 4px;'>proceso</span><span style='background-color: rgba(0, 120, 255, 0.04); color: white; padding: 3px 5px; margin-right: 4px; border-radius: 4px;'>precongresual</span><span style='background-color: rgba(0, 120, 255, 0.00); color: white; padding: 3px 5px; margin-right: 4px; border-radius: 4px;'>y</span><span style='background-color: rgba(0, 120, 255, 0.02); color: white; padding: 3px 5px; margin-right: 4px; border-radius: 4px;'>?nuevo</span><span style='background-color: rgba(0, 120, 255, 0.00); color: white; padding: 3px 5px; margin-right: 4px; border-radius: 4px;'>o</span><span style='background-color: rgba(0, 120, 255, 0.31); color: white; padding: 3px 5px; margin-right: 4px; border-radius: 4px;'>telediarios</span><span style='background-color: rgba(0, 120, 255, 0.00); color: white; padding: 3px 5px; margin-right: 4px; border-radius: 4px;'>de</span><span style='background-color: rgba(0, 120, 255, 0.03); color: white; padding: 3px 5px; margin-right: 4px; border-radius: 4px;'>urdaci?</span></div><br><div style='background-color: rgba(255, 255, 150, 0.63); padding: 5px; margin-bottom: 4px; border-radius: 5px;'><span style='background-color: rgba(0, 120, 255, 0.00); color: white; padding: 3px 5px; margin-right: 4px; border-radius: 4px;'>lo</span><span style='background-color: rgba(0, 120, 255, 0.00); color: white; padding: 3px 5px; margin-right: 4px; border-radius: 4px;'>de</span><span style='background-color: rgba(0, 120, 255, 0.00); color: white; padding: 3px 5px; margin-right: 4px; border-radius: 4px;'>susana</span><span style='background-color: rgba(0, 120, 255, 0.00); color: white; padding: 3px 5px; margin-right: 4px; border-radius: 4px;'>daz</span><span style='background-color: rgba(0, 120, 255, 0.00); color: white; padding: 3px 5px; margin-right: 4px; border-radius: 4px;'>con</span><span style='background-color: rgba(0, 120, 255, 0.01); color: white; padding: 3px 5px; margin-right: 4px; border-radius: 4px;'>mi</span><span style='background-color: rgba(0, 120, 255, 0.00); color: white; padding: 3px 5px; margin-right: 4px; border-radius: 4px;'>es</span><span style='background-color: rgba(0, 120, 255, 0.00); color: white; padding: 3px 5px; margin-right: 4px; border-radius: 4px;'>tan</span><span style='background-color: rgba(0, 120, 255, 0.00); color: white; padding: 3px 5px; margin-right: 4px; border-radius: 4px;'>rancio</span><span style='background-color: rgba(0, 120, 255, 0.00); color: white; padding: 3px 5px; margin-right: 4px; border-radius: 4px;'>y</span><span style='background-color: rgba(0, 120, 255, 0.00); color: white; padding: 3px 5px; margin-right: 4px; border-radius: 4px;'>populista</span><span style='background-color: rgba(0, 120, 255, 0.00); color: white; padding: 3px 5px; margin-right: 4px; border-radius: 4px;'>como</span><span style='background-color: rgba(0, 120, 255, 0.00); color: white; padding: 3px 5px; margin-right: 4px; border-radius: 4px;'>cuando</span><span style='background-color: rgba(0, 120, 255, 0.00); color: white; padding: 3px 5px; margin-right: 4px; border-radius: 4px;'>eva</span><span style='background-color: rgba(0, 120, 255, 0.00); color: white; padding: 3px 5px; margin-right: 4px; border-radius: 4px;'>pern</span><span style='background-color: rgba(0, 120, 255, 0.00); color: white; padding: 3px 5px; margin-right: 4px; border-radius: 4px;'>hablaba</span><span style='background-color: rgba(0, 120, 255, 0.00); color: white; padding: 3px 5px; margin-right: 4px; border-radius: 4px;'>de</span><span style='background-color: rgba(0, 120, 255, 0.05); color: white; padding: 3px 5px; margin-right: 4px; border-radius: 4px;'>mi</span><span style='background-color: rgba(0, 120, 255, 1.00); color: white; padding: 3px 5px; margin-right: 4px; border-radius: 4px;'>argentina</span><span style='background-color: rgba(0, 120, 255, 0.00); color: white; padding: 3px 5px; margin-right: 4px; border-radius: 4px;'>o</span><span style='background-color: rgba(0, 120, 255, 0.00); color: white; padding: 3px 5px; margin-right: 4px; border-radius: 4px;'>chvez</span><span style='background-color: rgba(0, 120, 255, 0.00); color: white; padding: 3px 5px; margin-right: 4px; border-radius: 4px;'>de</span><span style='background-color: rgba(0, 120, 255, 0.00); color: white; padding: 3px 5px; margin-right: 4px; border-radius: 4px;'>!</span></div><br><div style='background-color: rgba(255, 255, 150, 0.02); padding: 5px; margin-bottom: 4px; border-radius: 5px;'><span style='background-color: rgba(0, 120, 255, 0.00); color: white; padding: 3px 5px; margin-right: 4px; border-radius: 4px;'>cuando</span><span style='background-color: rgba(0, 120, 255, 0.00); color: white; padding: 3px 5px; margin-right: 4px; border-radius: 4px;'>el</span><span style='background-color: rgba(0, 120, 255, 0.00); color: white; padding: 3px 5px; margin-right: 4px; border-radius: 4px;'>de</span><span style='background-color: rgba(0, 120, 255, 0.15); color: white; padding: 3px 5px; margin-right: 4px; border-radius: 4px;'>moreno</span><span style='background-color: rgba(0, 120, 255, 0.26); color: white; padding: 3px 5px; margin-right: 4px; border-radius: 4px;'>bonilla</span><span style='background-color: rgba(0, 120, 255, 0.08); color: white; padding: 3px 5px; margin-right: 4px; border-radius: 4px;'>le</span><span style='background-color: rgba(0, 120, 255, 0.04); color: white; padding: 3px 5px; margin-right: 4px; border-radius: 4px;'>pisa</span><span style='background-color: rgba(0, 120, 255, 0.00); color: white; padding: 3px 5px; margin-right: 4px; border-radius: 4px;'>los</span><span style='background-color: rgba(0, 120, 255, 0.24); color: white; padding: 3px 5px; margin-right: 4px; border-radius: 4px;'>talones</span><span style='background-color: rgba(0, 120, 255, 0.00); color: white; padding: 3px 5px; margin-right: 4px; border-radius: 4px;'>en</span><span style='background-color: rgba(0, 120, 255, 0.13); color: white; padding: 3px 5px; margin-right: 4px; border-radius: 4px;'>susana</span><span style='background-color: rgba(0, 120, 255, 0.08); color: white; padding: 3px 5px; margin-right: 4px; border-radius: 4px;'>daz</span><span style='background-color: rgba(0, 120, 255, 0.01); color: white; padding: 3px 5px; margin-right: 4px; border-radius: 4px;'>se</span><span style='background-color: rgba(0, 120, 255, 0.00); color: white; padding: 3px 5px; margin-right: 4px; border-radius: 4px;'>tiene</span><span style='background-color: rgba(0, 120, 255, 0.00); color: white; padding: 3px 5px; margin-right: 4px; border-radius: 4px;'>que</span><span style='background-color: rgba(0, 120, 255, 0.00); color: white; padding: 3px 5px; margin-right: 4px; border-radius: 4px;'>ir</span><span style='background-color: rgba(0, 120, 255, 0.00); color: white; padding: 3px 5px; margin-right: 4px; border-radius: 4px;'>a</span><span style='background-color: rgba(0, 120, 255, 0.01); color: white; padding: 3px 5px; margin-right: 4px; border-radius: 4px;'>su</span><span style='background-color: rgba(0, 120, 255, 0.00); color: white; padding: 3px 5px; margin-right: 4px; border-radius: 4px;'>casa..</span><span style='background-color: rgba(0, 120, 255, 0.00); color: white; padding: 3px 5px; margin-right: 4px; border-radius: 4px;'>y</span><span style='background-color: rgba(0, 120, 255, 0.00); color: white; padding: 3px 5px; margin-right: 4px; border-radius: 4px;'>pongo</span><span style='background-color: rgba(0, 120, 255, 0.00); color: white; padding: 3px 5px; margin-right: 4px; border-radius: 4px;'>dinero</span><span style='background-color: rgba(0, 120, 255, 0.00); color: white; padding: 3px 5px; margin-right: 4px; border-radius: 4px;'>de</span><span style='background-color: rgba(0, 120, 255, 0.08); color: white; padding: 3px 5px; margin-right: 4px; border-radius: 4px;'>mi</span><span style='background-color: rgba(0, 120, 255, 0.01); color: white; padding: 3px 5px; margin-right: 4px; border-radius: 4px;'>bolsillo</span><span style='background-color: rgba(0, 120, 255, 0.00); color: white; padding: 3px 5px; margin-right: 4px; border-radius: 4px;'>con</span><span style='background-color: rgba(0, 120, 255, 0.05); color: white; padding: 3px 5px; margin-right: 4px; border-radius: 4px;'>mi</span><span style='background-color: rgba(0, 120, 255, 0.01); color: white; padding: 3px 5px; margin-right: 4px; border-radius: 4px;'>cuota</span><span style='background-color: rgba(0, 120, 255, 0.00); color: white; padding: 3px 5px; margin-right: 4px; border-radius: 4px;'>mientras</span><span style='background-color: rgba(0, 120, 255, 0.02); color: white; padding: 3px 5px; margin-right: 4px; border-radius: 4px;'>otr</span><span style='background-color: rgba(0, 120, 255, 0.00); color: white; padding: 3px 5px; margin-right: 4px; border-radius: 4px;'>slo</span><span style='background-color: rgba(0, 120, 255, 0.00); color: white; padding: 3px 5px; margin-right: 4px; border-radius: 4px;'>se</span><span style='background-color: rgba(0, 120, 255, 0.00); color: white; padding: 3px 5px; margin-right: 4px; border-radius: 4px;'>alistan</span><span style='background-color: rgba(0, 120, 255, 0.00); color: white; padding: 3px 5px; margin-right: 4px; border-radius: 4px;'>para</span><span style='background-color: rgba(0, 120, 255, 0.00); color: white; padding: 3px 5px; margin-right: 4px; border-radius: 4px;'>sacar</span><span style='background-color: rgba(0, 120, 255, 0.00); color: white; padding: 3px 5px; margin-right: 4px; border-radius: 4px;'>beneficios..</span></div><br><div style='background-color: rgba(255, 255, 150, 0.00); padding: 5px; margin-bottom: 4px; border-radius: 5px;'><span style='background-color: rgba(0, 120, 255, 0.02); color: white; padding: 3px 5px; margin-right: 4px; border-radius: 4px;'>y</span><span style='background-color: rgba(0, 120, 255, 0.54); color: white; padding: 3px 5px; margin-right: 4px; border-radius: 4px;'>tu</span><span style='background-color: rgba(0, 120, 255, 0.20); color: white; padding: 3px 5px; margin-right: 4px; border-radius: 4px;'>referente</span><span style='background-color: rgba(0, 120, 255, 0.06); color: white; padding: 3px 5px; margin-right: 4px; border-radius: 4px;'>es</span><span style='background-color: rgba(0, 120, 255, 0.04); color: white; padding: 3px 5px; margin-right: 4px; border-radius: 4px;'>,</span><span style='background-color: rgba(0, 120, 255, 0.00); color: white; padding: 3px 5px; margin-right: 4px; border-radius: 4px;'>y</span><span style='background-color: rgba(0, 120, 255, 0.02); color: white; padding: 3px 5px; margin-right: 4px; border-radius: 4px;'>recortes..</span></div><br><div style='background-color: rgba(255, 255, 150, 0.00); padding: 5px; margin-bottom: 4px; border-radius: 5px;'><span style='background-color: rgba(0, 120, 255, 0.02); color: white; padding: 3px 5px; margin-right: 4px; border-radius: 4px;'>y</span><span style='background-color: rgba(0, 120, 255, 0.04); color: white; padding: 3px 5px; margin-right: 4px; border-radius: 4px;'>los</span><span style='background-color: rgba(0, 120, 255, 0.01); color: white; padding: 3px 5px; margin-right: 4px; border-radius: 4px;'>de</span><span style='background-color: rgba(0, 120, 255, 0.06); color: white; padding: 3px 5px; margin-right: 4px; border-radius: 4px;'>andaluca!</span></div><br><div style='background-color: rgba(255, 255, 150, 0.00); padding: 5px; margin-bottom: 4px; border-radius: 5px;'><span style='background-color: rgba(0, 120, 255, 0.03); color: white; padding: 3px 5px; margin-right: 4px; border-radius: 4px;'>peridico</span><span style='background-color: rgba(0, 120, 255, 0.00); color: white; padding: 3px 5px; margin-right: 4px; border-radius: 4px;'>de</span><span style='background-color: rgba(0, 120, 255, 0.00); color: white; padding: 3px 5px; margin-right: 4px; border-radius: 4px;'>referencia</span><span style='background-color: rgba(0, 120, 255, 0.00); color: white; padding: 3px 5px; margin-right: 4px; border-radius: 4px;'>de</span><span style='background-color: rgba(0, 120, 255, 0.00); color: white; padding: 3px 5px; margin-right: 4px; border-radius: 4px;'>los</span><span style='background-color: rgba(0, 120, 255, 0.02); color: white; padding: 3px 5px; margin-right: 4px; border-radius: 4px;'>bots</span><span style='background-color: rgba(0, 120, 255, 0.00); color: white; padding: 3px 5px; margin-right: 4px; border-radius: 4px;'>y</span><span style='background-color: rgba(0, 120, 255, 0.00); color: white; padding: 3px 5px; margin-right: 4px; border-radius: 4px;'>golppistas..</span><span style='background-color: rgba(0, 120, 255, 0.00); color: white; padding: 3px 5px; margin-right: 4px; border-radius: 4px;'>para</span><span style='background-color: rgba(0, 120, 255, 0.00); color: white; padding: 3px 5px; margin-right: 4px; border-radius: 4px;'>hacerpedagogia</span><span style='background-color: rgba(0, 120, 255, 0.00); color: white; padding: 3px 5px; margin-right: 4px; border-radius: 4px;'>yreconectarcn</span><span style='background-color: rgba(0, 120, 255, 0.01); color: white; padding: 3px 5px; margin-right: 4px; border-radius: 4px;'>ls</span><span style='background-color: rgba(0, 120, 255, 0.01); color: white; padding: 3px 5px; margin-right: 4px; border-radius: 4px;'>bases?o</span><span style='background-color: rgba(0, 120, 255, 0.03); color: white; padding: 3px 5px; margin-right: 4px; border-radius: 4px;'>adoctrinar</span><span style='background-color: rgba(0, 120, 255, 0.00); color: white; padding: 3px 5px; margin-right: 4px; border-radius: 4px;'>en</span><span style='background-color: rgba(0, 120, 255, 0.01); color: white; padding: 3px 5px; margin-right: 4px; border-radius: 4px;'>golppe,traicin</span><span style='background-color: rgba(0, 120, 255, 0.00); color: white; padding: 3px 5px; margin-right: 4px; border-radius: 4px;'>y</span><span style='background-color: rgba(0, 120, 255, 0.01); color: white; padding: 3px 5px; margin-right: 4px; border-radius: 4px;'>abstencin</span><span style='background-color: rgba(0, 120, 255, 0.04); color: white; padding: 3px 5px; margin-right: 4px; border-radius: 4px;'>frente</span><span style='background-color: rgba(0, 120, 255, 0.00); color: white; padding: 3px 5px; margin-right: 4px; border-radius: 4px;'>a</span><span style='background-color: rgba(0, 120, 255, 0.00); color: white; padding: 3px 5px; margin-right: 4px; border-radius: 4px;'>y</span><span style='background-color: rgba(0, 120, 255, 0.06); color: white; padding: 3px 5px; margin-right: 4px; border-radius: 4px;'>apoyo</span><span style='background-color: rgba(0, 120, 255, 0.09); color: white; padding: 3px 5px; margin-right: 4px; border-radius: 4px;'>manifiesto</span><span style='background-color: rgba(0, 120, 255, 0.00); color: white; padding: 3px 5px; margin-right: 4px; border-radius: 4px;'>y</span><span style='background-color: rgba(0, 120, 255, 0.02); color: white; padding: 3px 5px; margin-right: 4px; border-radius: 4px;'>pido</span><span style='background-color: rgba(0, 120, 255, 0.00); color: white; padding: 3px 5px; margin-right: 4px; border-radius: 4px;'>a</span><span style='background-color: rgba(0, 120, 255, 0.00); color: white; padding: 3px 5px; margin-right: 4px; border-radius: 4px;'>q</span><span style='background-color: rgba(0, 120, 255, 0.02); color: white; padding: 3px 5px; margin-right: 4px; border-radius: 4px;'>sea</span><span style='background-color: rgba(0, 120, 255, 0.02); color: white; padding: 3px 5px; margin-right: 4px; border-radius: 4px;'>candidato</span><span style='background-color: rgba(0, 120, 255, 0.00); color: white; padding: 3px 5px; margin-right: 4px; border-radius: 4px;'>a</span><span style='background-color: rgba(0, 120, 255, 0.05); color: white; padding: 3px 5px; margin-right: 4px; border-radius: 4px;'>sg</span><span style='background-color: rgba(0, 120, 255, 0.03); color: white; padding: 3px 5px; margin-right: 4px; border-radius: 4px;'>e</span><span style='background-color: rgba(0, 120, 255, 0.00); color: white; padding: 3px 5px; margin-right: 4px; border-radius: 4px;'>igualdad</span><span style='background-color: rgba(0, 120, 255, 0.00); color: white; padding: 3px 5px; margin-right: 4px; border-radius: 4px;'>d</span><span style='background-color: rgba(0, 120, 255, 0.00); color: white; padding: 3px 5px; margin-right: 4px; border-radius: 4px;'>condiciones</span><span style='background-color: rgba(0, 120, 255, 0.00); color: white; padding: 3px 5px; margin-right: 4px; border-radius: 4px;'>para</span><span style='background-color: rgba(0, 120, 255, 0.38); color: white; padding: 3px 5px; margin-right: 4px; border-radius: 4px;'>mi</span><span style='background-color: rgba(0, 120, 255, 0.29); color: white; padding: 3px 5px; margin-right: 4px; border-radius: 4px;'>militantes</span><span style='background-color: rgba(0, 120, 255, 0.01); color: white; padding: 3px 5px; margin-right: 4px; border-radius: 4px;'>van</span><span style='background-color: rgba(0, 120, 255, 0.00); color: white; padding: 3px 5px; margin-right: 4px; border-radius: 4px;'>a</span><span style='background-color: rgba(0, 120, 255, 0.00); color: white; padding: 3px 5px; margin-right: 4px; border-radius: 4px;'>tener</span><span style='background-color: rgba(0, 120, 255, 0.00); color: white; padding: 3px 5px; margin-right: 4px; border-radius: 4px;'>que</span><span style='background-color: rgba(0, 120, 255, 0.00); color: white; padding: 3px 5px; margin-right: 4px; border-radius: 4px;'>rogar</span><span style='background-color: rgba(0, 120, 255, 0.00); color: white; padding: 3px 5px; margin-right: 4px; border-radius: 4px;'>el</span><span style='background-color: rgba(0, 120, 255, 0.01); color: white; padding: 3px 5px; margin-right: 4px; border-radius: 4px;'>voto</span><span style='background-color: rgba(0, 120, 255, 0.00); color: white; padding: 3px 5px; margin-right: 4px; border-radius: 4px;'>para</span><span style='background-color: rgba(0, 120, 255, 0.00); color: white; padding: 3px 5px; margin-right: 4px; border-radius: 4px;'>??</span></div><br><div style='background-color: rgba(255, 255, 150, 0.00); padding: 5px; margin-bottom: 4px; border-radius: 5px;'><span style='background-color: rgba(0, 120, 255, 0.34); color: white; padding: 3px 5px; margin-right: 4px; border-radius: 4px;'>muchas</span><span style='background-color: rgba(0, 120, 255, 0.66); color: white; padding: 3px 5px; margin-right: 4px; border-radius: 4px;'>gracias</span><span style='background-color: rgba(0, 120, 255, 0.02); color: white; padding: 3px 5px; margin-right: 4px; border-radius: 4px;'>!!</span></div><br><div style='background-color: rgba(255, 255, 150, 0.01); padding: 5px; margin-bottom: 4px; border-radius: 5px;'><span style='background-color: rgba(0, 120, 255, 0.00); color: white; padding: 3px 5px; margin-right: 4px; border-radius: 4px;'>el</span><span style='background-color: rgba(0, 120, 255, 0.01); color: white; padding: 3px 5px; margin-right: 4px; border-radius: 4px;'>sbado</span><span style='background-color: rgba(0, 120, 255, 0.00); color: white; padding: 3px 5px; margin-right: 4px; border-radius: 4px;'>ir</span><span style='background-color: rgba(0, 120, 255, 0.00); color: white; padding: 3px 5px; margin-right: 4px; border-radius: 4px;'>al</span><span style='background-color: rgba(0, 120, 255, 0.00); color: white; padding: 3px 5px; margin-right: 4px; border-radius: 4px;'>a</span><span style='background-color: rgba(0, 120, 255, 0.00); color: white; padding: 3px 5px; margin-right: 4px; border-radius: 4px;'>ver</span><span style='background-color: rgba(0, 120, 255, 0.01); color: white; padding: 3px 5px; margin-right: 4px; border-radius: 4px;'>gracias</span><span style='background-color: rgba(0, 120, 255, 0.00); color: white; padding: 3px 5px; margin-right: 4px; border-radius: 4px;'>a</span><span style='background-color: rgba(0, 120, 255, 0.00); color: white; padding: 3px 5px; margin-right: 4px; border-radius: 4px;'>vosotros!!</span><span style='background-color: rgba(0, 120, 255, 0.00); color: white; padding: 3px 5px; margin-right: 4px; border-radius: 4px;'>los</span><span style='background-color: rgba(0, 120, 255, 0.00); color: white; padding: 3px 5px; margin-right: 4px; border-radius: 4px;'>tertulian</span><span style='background-color: rgba(0, 120, 255, 0.00); color: white; padding: 3px 5px; margin-right: 4px; border-radius: 4px;'>de</span><span style='background-color: rgba(0, 120, 255, 0.00); color: white; padding: 3px 5px; margin-right: 4px; border-radius: 4px;'>promoviendo</span><span style='background-color: rgba(0, 120, 255, 0.00); color: white; padding: 3px 5px; margin-right: 4px; border-radius: 4px;'>un</span><span style='background-color: rgba(0, 120, 255, 0.00); color: white; padding: 3px 5px; margin-right: 4px; border-radius: 4px;'>susanazo</span><span style='background-color: rgba(0, 120, 255, 0.00); color: white; padding: 3px 5px; margin-right: 4px; border-radius: 4px;'>del</span><span style='background-color: rgba(0, 120, 255, 0.00); color: white; padding: 3px 5px; margin-right: 4px; border-radius: 4px;'>partido</span><span style='background-color: rgba(0, 120, 255, 0.05); color: white; padding: 3px 5px; margin-right: 4px; border-radius: 4px;'>republicano</span><span style='background-color: rgba(0, 120, 255, 0.00); color: white; padding: 3px 5px; margin-right: 4px; border-radius: 4px;'>a</span><span style='background-color: rgba(0, 120, 255, 0.00); color: white; padding: 3px 5px; margin-right: 4px; border-radius: 4px;'>muy</span><span style='background-color: rgba(0, 120, 255, 0.00); color: white; padding: 3px 5px; margin-right: 4px; border-radius: 4px;'>demcratas!polticos</span><span style='background-color: rgba(0, 120, 255, 0.00); color: white; padding: 3px 5px; margin-right: 4px; border-radius: 4px;'>de</span><span style='background-color: rgba(0, 120, 255, 0.00); color: white; padding: 3px 5px; margin-right: 4px; border-radius: 4px;'>271</span><span style='background-color: rgba(0, 120, 255, 0.00); color: white; padding: 3px 5px; margin-right: 4px; border-radius: 4px;'>19</span><span style='background-color: rgba(0, 120, 255, 0.00); color: white; padding: 3px 5px; margin-right: 4px; border-radius: 4px;'>hs</span><span style='background-color: rgba(0, 120, 255, 0.00); color: white; padding: 3px 5px; margin-right: 4px; border-radius: 4px;'>charla</span><span style='background-color: rgba(0, 120, 255, 0.00); color: white; padding: 3px 5px; margin-right: 4px; border-radius: 4px;'>informativa</span><span style='background-color: rgba(0, 120, 255, 0.00); color: white; padding: 3px 5px; margin-right: 4px; border-radius: 4px;'>sobredelito</span><span style='background-color: rgba(0, 120, 255, 0.00); color: white; padding: 3px 5px; margin-right: 4px; border-radius: 4px;'>de</span><span style='background-color: rgba(0, 120, 255, 0.00); color: white; padding: 3px 5px; margin-right: 4px; border-radius: 4px;'>odiocon</span><span style='background-color: rgba(0, 120, 255, 0.00); color: white; padding: 3px 5px; margin-right: 4px; border-radius: 4px;'>y</span><span style='background-color: rgba(0, 120, 255, 0.02); color: white; padding: 3px 5px; margin-right: 4px; border-radius: 4px;'>esteban</span><span style='background-color: rgba(0, 120, 255, 0.00); color: white; padding: 3px 5px; margin-right: 4px; border-radius: 4px;'>ibarra</span><span style='background-color: rgba(0, 120, 255, 0.00); color: white; padding: 3px 5px; margin-right: 4px; border-radius: 4px;'>de</span><span style='background-color: rgba(0, 120, 255, 0.01); color: white; padding: 3px 5px; margin-right: 4px; border-radius: 4px;'>l</span><span style='background-color: rgba(0, 120, 255, 0.01); color: white; padding: 3px 5px; margin-right: 4px; border-radius: 4px;'>mism</span><span style='background-color: rgba(0, 120, 255, 0.00); color: white; padding: 3px 5px; margin-right: 4px; border-radius: 4px;'>tertulian</span><span style='background-color: rgba(0, 120, 255, 0.00); color: white; padding: 3px 5px; margin-right: 4px; border-radius: 4px;'>q</span><span style='background-color: rgba(0, 120, 255, 0.00); color: white; padding: 3px 5px; margin-right: 4px; border-radius: 4px;'>s</span><span style='background-color: rgba(0, 120, 255, 0.02); color: white; padding: 3px 5px; margin-right: 4px; border-radius: 4px;'>horrorizan</span><span style='background-color: rgba(0, 120, 255, 0.01); color: white; padding: 3px 5px; margin-right: 4px; border-radius: 4px;'>frente</span><span style='background-color: rgba(0, 120, 255, 0.00); color: white; padding: 3px 5px; margin-right: 4px; border-radius: 4px;'>a</span><span style='background-color: rgba(0, 120, 255, 0.00); color: white; padding: 3px 5px; margin-right: 4px; border-radius: 4px;'>el</span><span style='background-color: rgba(0, 120, 255, 0.00); color: white; padding: 3px 5px; margin-right: 4px; border-radius: 4px;'>esperpento</span><span style='background-color: rgba(0, 120, 255, 0.00); color: white; padding: 3px 5px; margin-right: 4px; border-radius: 4px;'>d</span><span style='background-color: rgba(0, 120, 255, 0.12); color: white; padding: 3px 5px; margin-right: 4px; border-radius: 4px;'>trump</span><span style='background-color: rgba(0, 120, 255, 0.25); color: white; padding: 3px 5px; margin-right: 4px; border-radius: 4px;'>callaron</span><span style='background-color: rgba(0, 120, 255, 0.01); color: white; padding: 3px 5px; margin-right: 4px; border-radius: 4px;'>frente</span><span style='background-color: rgba(0, 120, 255, 0.00); color: white; padding: 3px 5px; margin-right: 4px; border-radius: 4px;'>a</span><span style='background-color: rgba(0, 120, 255, 0.00); color: white; padding: 3px 5px; margin-right: 4px; border-radius: 4px;'>la</span><span style='background-color: rgba(0, 120, 255, 0.00); color: white; padding: 3px 5px; margin-right: 4px; border-radius: 4px;'>y</span><span style='background-color: rgba(0, 120, 255, 0.01); color: white; padding: 3px 5px; margin-right: 4px; border-radius: 4px;'>propiciaron</span><span style='background-color: rgba(0, 120, 255, 0.00); color: white; padding: 3px 5px; margin-right: 4px; border-radius: 4px;'>a</span><span style='background-color: rgba(0, 120, 255, 0.20); color: white; padding: 3px 5px; margin-right: 4px; border-radius: 4px;'>pedro</span><span style='background-color: rgba(0, 120, 255, 0.04); color: white; padding: 3px 5px; margin-right: 4px; border-radius: 4px;'>snchez</span><span style='background-color: rgba(0, 120, 255, 0.00); color: white; padding: 3px 5px; margin-right: 4px; border-radius: 4px;'>no</span><span style='background-color: rgba(0, 120, 255, 0.00); color: white; padding: 3px 5px; margin-right: 4px; border-radius: 4px;'>lo</span><span style='background-color: rgba(0, 120, 255, 0.03); color: white; padding: 3px 5px; margin-right: 4px; border-radius: 4px;'>diga</span><span style='background-color: rgba(0, 120, 255, 0.02); color: white; padding: 3px 5px; margin-right: 4px; border-radius: 4px;'>muy</span><span style='background-color: rgba(0, 120, 255, 0.17); color: white; padding: 3px 5px; margin-right: 4px; border-radius: 4px;'>alto</span><span style='background-color: rgba(0, 120, 255, 0.00); color: white; padding: 3px 5px; margin-right: 4px; border-radius: 4px;'>que</span><span style='background-color: rgba(0, 120, 255, 0.00); color: white; padding: 3px 5px; margin-right: 4px; border-radius: 4px;'>desde</span><span style='background-color: rgba(0, 120, 255, 0.00); color: white; padding: 3px 5px; margin-right: 4px; border-radius: 4px;'>el</span><span style='background-color: rgba(0, 120, 255, 0.07); color: white; padding: 3px 5px; margin-right: 4px; border-radius: 4px;'>sur</span><span style='background-color: rgba(0, 120, 255, 0.01); color: white; padding: 3px 5px; margin-right: 4px; border-radius: 4px;'>le</span><span style='background-color: rgba(0, 120, 255, 0.04); color: white; padding: 3px 5px; margin-right: 4px; border-radius: 4px;'>montan</span><span style='background-color: rgba(0, 120, 255, 0.00); color: white; padding: 3px 5px; margin-right: 4px; border-radius: 4px;'>una</span><span style='background-color: rgba(0, 120, 255, 0.03); color: white; padding: 3px 5px; margin-right: 4px; border-radius: 4px;'>gestora</span><span style='background-color: rgba(0, 120, 255, 0.00); color: white; padding: 3px 5px; margin-right: 4px; border-radius: 4px;'>y</span><span style='background-color: rgba(0, 120, 255, 0.00); color: white; padding: 3px 5px; margin-right: 4px; border-radius: 4px;'>se</span><span style='background-color: rgba(0, 120, 255, 0.00); color: white; padding: 3px 5px; margin-right: 4px; border-radius: 4px;'>cargan</span><span style='background-color: rgba(0, 120, 255, 0.00); color: white; padding: 3px 5px; margin-right: 4px; border-radius: 4px;'>a</span><span style='background-color: rgba(0, 120, 255, 0.00); color: white; padding: 3px 5px; margin-right: 4px; border-radius: 4px;'>schultz</span><span style='background-color: rgba(0, 120, 255, 0.00); color: white; padding: 3px 5px; margin-right: 4px; border-radius: 4px;'>de</span><span style='background-color: rgba(0, 120, 255, 0.00); color: white; padding: 3px 5px; margin-right: 4px; border-radius: 4px;'>madrugada..y</span><span style='background-color: rgba(0, 120, 255, 0.00); color: white; padding: 3px 5px; margin-right: 4px; border-radius: 4px;'>se</span><span style='background-color: rgba(0, 120, 255, 0.00); color: white; padding: 3px 5px; margin-right: 4px; border-radius: 4px;'>quedan</span><span style='background-color: rgba(0, 120, 255, 0.00); color: white; padding: 3px 5px; margin-right: 4px; border-radius: 4px;'>todsvi</span><span style='background-color: rgba(0, 120, 255, 0.00); color: white; padding: 3px 5px; margin-right: 4px; border-radius: 4px;'>adaptar</span><span style='background-color: rgba(0, 120, 255, 0.00); color: white; padding: 3px 5px; margin-right: 4px; border-radius: 4px;'>el</span><span style='background-color: rgba(0, 120, 255, 0.00); color: white; padding: 3px 5px; margin-right: 4px; border-radius: 4px;'>proyecto</span><span style='background-color: rgba(0, 120, 255, 0.00); color: white; padding: 3px 5px; margin-right: 4px; border-radius: 4px;'>d</span><span style='background-color: rgba(0, 120, 255, 0.00); color: white; padding: 3px 5px; margin-right: 4px; border-radius: 4px;'>partido</span><span style='background-color: rgba(0, 120, 255, 0.00); color: white; padding: 3px 5px; margin-right: 4px; border-radius: 4px;'>es</span><span style='background-color: rgba(0, 120, 255, 0.00); color: white; padding: 3px 5px; margin-right: 4px; border-radius: 4px;'>ser</span><span style='background-color: rgba(0, 120, 255, 0.00); color: white; padding: 3px 5px; margin-right: 4px; border-radius: 4px;'>el</span><span style='background-color: rgba(0, 120, 255, 0.00); color: white; padding: 3px 5px; margin-right: 4px; border-radius: 4px;'>felpudo</span><span style='background-color: rgba(0, 120, 255, 0.00); color: white; padding: 3px 5px; margin-right: 4px; border-radius: 4px;'>dl</span><span style='background-color: rgba(0, 120, 255, 0.00); color: white; padding: 3px 5px; margin-right: 4px; border-radius: 4px;'>y</span><span style='background-color: rgba(0, 120, 255, 0.00); color: white; padding: 3px 5px; margin-right: 4px; border-radius: 4px;'>del</span><span style='background-color: rgba(0, 120, 255, 0.00); color: white; padding: 3px 5px; margin-right: 4px; border-radius: 4px;'>ibex?y</span><span style='background-color: rgba(0, 120, 255, 0.00); color: white; padding: 3px 5px; margin-right: 4px; border-radius: 4px;'>con</span><span style='background-color: rgba(0, 120, 255, 0.03); color: white; padding: 3px 5px; margin-right: 4px; border-radius: 4px;'>mi</span><span style='background-color: rgba(0, 120, 255, 0.01); color: white; padding: 3px 5px; margin-right: 4px; border-radius: 4px;'>cuota?</span></div><br><div style='background-color: rgba(255, 255, 150, 0.00); padding: 5px; margin-bottom: 4px; border-radius: 5px;'><span style='background-color: rgba(0, 120, 255, 0.02); color: white; padding: 3px 5px; margin-right: 4px; border-radius: 4px;'>el</span><span style='background-color: rgba(0, 120, 255, 0.74); color: white; padding: 3px 5px; margin-right: 4px; border-radius: 4px;'>socialista</span><span style='background-color: rgba(0, 120, 255, 0.14); color: white; padding: 3px 5px; margin-right: 4px; border-radius: 4px;'>renace</span><span style='background-color: rgba(0, 120, 255, 0.00); color: white; padding: 3px 5px; margin-right: 4px; border-radius: 4px;'>como</span><span style='background-color: rgba(0, 120, 255, 0.00); color: white; padding: 3px 5px; margin-right: 4px; border-radius: 4px;'>el</span><span style='background-color: rgba(0, 120, 255, 0.00); color: white; padding: 3px 5px; margin-right: 4px; border-radius: 4px;'>nuevo</span><span style='background-color: rgba(0, 120, 255, 0.00); color: white; padding: 3px 5px; margin-right: 4px; border-radius: 4px;'>de</span><span style='background-color: rgba(0, 120, 255, 0.00); color: white; padding: 3px 5px; margin-right: 4px; border-radius: 4px;'>o</span><span style='background-color: rgba(0, 120, 255, 0.12); color: white; padding: 3px 5px; margin-right: 4px; border-radius: 4px;'>telediarios</span><span style='background-color: rgba(0, 120, 255, 0.00); color: white; padding: 3px 5px; margin-right: 4px; border-radius: 4px;'>de</span><span style='background-color: rgba(0, 120, 255, 0.10); color: white; padding: 3px 5px; margin-right: 4px; border-radius: 4px;'>urdaci</span><span style='background-color: rgba(0, 120, 255, 0.01); color: white; padding: 3px 5px; margin-right: 4px; border-radius: 4px;'>??</span></div><br><div style='background-color: rgba(255, 255, 150, 0.00); padding: 5px; margin-bottom: 4px; border-radius: 5px;'><span style='background-color: rgba(0, 120, 255, 0.01); color: white; padding: 3px 5px; margin-right: 4px; border-radius: 4px;'>100</span><span style='background-color: rgba(0, 120, 255, 0.00); color: white; padding: 3px 5px; margin-right: 4px; border-radius: 4px;'>de</span><span style='background-color: rgba(0, 120, 255, 0.01); color: white; padding: 3px 5px; margin-right: 4px; border-radius: 4px;'>acuerdo</span><span style='background-color: rgba(0, 120, 255, 0.00); color: white; padding: 3px 5px; margin-right: 4px; border-radius: 4px;'>con</span><span style='background-color: rgba(0, 120, 255, 0.00); color: white; padding: 3px 5px; margin-right: 4px; border-radius: 4px;'>el</span><span style='background-color: rgba(0, 120, 255, 0.03); color: white; padding: 3px 5px; margin-right: 4px; border-radius: 4px;'>gran</span><span style='background-color: rgba(0, 120, 255, 0.01); color: white; padding: 3px 5px; margin-right: 4px; border-radius: 4px;'>..si</span><span style='background-color: rgba(0, 120, 255, 0.00); color: white; padding: 3px 5px; margin-right: 4px; border-radius: 4px;'>hasta</span><span style='background-color: rgba(0, 120, 255, 0.00); color: white; padding: 3px 5px; margin-right: 4px; border-radius: 4px;'>los</span><span style='background-color: rgba(0, 120, 255, 0.00); color: white; padding: 3px 5px; margin-right: 4px; border-radius: 4px;'>q</span><span style='background-color: rgba(0, 120, 255, 0.00); color: white; padding: 3px 5px; margin-right: 4px; border-radius: 4px;'>no</span><span style='background-color: rgba(0, 120, 255, 0.04); color: white; padding: 3px 5px; margin-right: 4px; border-radius: 4px;'>le</span><span style='background-color: rgba(0, 120, 255, 0.73); color: white; padding: 3px 5px; margin-right: 4px; border-radius: 4px;'>apoyamos</span><span style='background-color: rgba(0, 120, 255, 0.00); color: white; padding: 3px 5px; margin-right: 4px; border-radius: 4px;'>en</span><span style='background-color: rgba(0, 120, 255, 0.01); color: white; padding: 3px 5px; margin-right: 4px; border-radius: 4px;'>2014</span><span style='background-color: rgba(0, 120, 255, 0.00); color: white; padding: 3px 5px; margin-right: 4px; border-radius: 4px;'>hoy</span><span style='background-color: rgba(0, 120, 255, 0.10); color: white; padding: 3px 5px; margin-right: 4px; border-radius: 4px;'>le</span><span style='background-color: rgba(0, 120, 255, 0.14); color: white; padding: 3px 5px; margin-right: 4px; border-radius: 4px;'>vemos</span><span style='background-color: rgba(0, 120, 255, 0.01); color: white; padding: 3px 5px; margin-right: 4px; border-radius: 4px;'>cmo</span><span style='background-color: rgba(0, 120, 255, 0.05); color: white; padding: 3px 5px; margin-right: 4px; border-radius: 4px;'>nica</span><span style='background-color: rgba(0, 120, 255, 0.01); color: white; padding: 3px 5px; margin-right: 4px; border-radius: 4px;'>opcin!</span></div><br><div style='background-color: rgba(255, 255, 150, 0.00); padding: 5px; margin-bottom: 4px; border-radius: 5px;'><span style='background-color: rgba(0, 120, 255, 0.60); color: white; padding: 3px 5px; margin-right: 4px; border-radius: 4px;'>quin</span><span style='background-color: rgba(0, 120, 255, 0.20); color: white; padding: 3px 5px; margin-right: 4px; border-radius: 4px;'>te</span><span style='background-color: rgba(0, 120, 255, 0.27); color: white; padding: 3px 5px; margin-right: 4px; border-radius: 4px;'>gustara</span><span style='background-color: rgba(0, 120, 255, 0.01); color: white; padding: 3px 5px; margin-right: 4px; border-radius: 4px;'>que</span><span style='background-color: rgba(0, 120, 255, 0.01); color: white; padding: 3px 5px; margin-right: 4px; border-radius: 4px;'>fuera</span><span style='background-color: rgba(0, 120, 255, 0.00); color: white; padding: 3px 5px; margin-right: 4px; border-radius: 4px;'>el</span><span style='background-color: rgba(0, 120, 255, 0.01); color: white; padding: 3px 5px; margin-right: 4px; border-radius: 4px;'>lder</span><span style='background-color: rgba(0, 120, 255, 0.02); color: white; padding: 3px 5px; margin-right: 4px; border-radius: 4px;'>del</span><span style='background-color: rgba(0, 120, 255, 0.01); color: white; padding: 3px 5px; margin-right: 4px; border-radius: 4px;'>?</span></div><br><div style='background-color: rgba(255, 255, 150, 0.00); padding: 5px; margin-bottom: 4px; border-radius: 5px;'><span style='background-color: rgba(0, 120, 255, 0.80); color: white; padding: 3px 5px; margin-right: 4px; border-radius: 4px;'>va</span><span style='background-color: rgba(0, 120, 255, 0.04); color: white; padding: 3px 5px; margin-right: 4px; border-radius: 4px;'>espero</span><span style='background-color: rgba(0, 120, 255, 0.00); color: white; padding: 3px 5px; margin-right: 4px; border-radius: 4px;'>no</span><span style='background-color: rgba(0, 120, 255, 0.01); color: white; padding: 3px 5px; margin-right: 4px; border-radius: 4px;'>tener</span><span style='background-color: rgba(0, 120, 255, 0.00); color: white; padding: 3px 5px; margin-right: 4px; border-radius: 4px;'>que</span><span style='background-color: rgba(0, 120, 255, 0.00); color: white; padding: 3px 5px; margin-right: 4px; border-radius: 4px;'>borrar</span><span style='background-color: rgba(0, 120, 255, 0.01); color: white; padding: 3px 5px; margin-right: 4px; border-radius: 4px;'>nunca</span><span style='background-color: rgba(0, 120, 255, 0.02); color: white; padding: 3px 5px; margin-right: 4px; border-radius: 4px;'>este</span><span style='background-color: rgba(0, 120, 255, 0.01); color: white; padding: 3px 5px; margin-right: 4px; border-radius: 4px;'>twit..</span></div><br><div style='background-color: rgba(255, 255, 150, 0.00); padding: 5px; margin-bottom: 4px; border-radius: 5px;'><span style='background-color: rgba(0, 120, 255, 0.20); color: white; padding: 3px 5px; margin-right: 4px; border-radius: 4px;'>compaera!</span></div><br></div>"
      ],
      "text/plain": [
       "<IPython.core.display.HTML object>"
      ]
     },
     "metadata": {},
     "output_type": "display_data"
    }
   ],
   "source": [
    "visualize_attention(user_id, val_texts, true_label, pred_label, word_att, sent_att)"
   ]
  },
  {
   "cell_type": "markdown",
   "metadata": {},
   "source": [
    "# 5\n",
    "para esta tarea: haga una comparación que muestre si la atención en jerarquía es util vs no tenerla (e.g., sin atención o tener un solo nivel de atención)"
   ]
  },
  {
   "cell_type": "code",
   "execution_count": null,
   "metadata": {},
   "outputs": [],
   "source": [
    "class HAN_NoA(nn.Module):\n",
    "    def __init__(self, embedding_matrix, word_hidden=50, sent_hidden=50, num_classes=4):\n",
    "        super().__init__()\n",
    "        vocab_size, emb_dim = embedding_matrix.shape\n",
    "        self.embedding = nn.Embedding.from_pretrained(torch.tensor(embedding_matrix), freeze=False)\n",
    "\n",
    "        self.word_gru = nn.GRU(emb_dim, word_hidden, batch_first=True, bidirectional=True)\n",
    "        self.sent_gru = nn.GRU(word_hidden * 2, sent_hidden, batch_first=True, bidirectional=True)\n",
    "        self.classifier = nn.Linear(sent_hidden * 2, num_classes)\n",
    "\n",
    "    def forward(self, docs, sent_lens=None):\n",
    "        batch_size, num_sents, num_words = docs.size()\n",
    "        docs = docs.view(-1, num_words)\n",
    "        x = self.embedding(docs)\n",
    "        word_output, _ = self.word_gru(x)\n",
    "        sent_vecs = torch.mean(word_output, dim=1)  \n",
    "\n",
    "        sent_vecs = sent_vecs.view(batch_size, num_sents, -1)\n",
    "        sent_output, _ = self.sent_gru(sent_vecs)\n",
    "        doc_vecs = torch.mean(sent_output, dim=1)  \n",
    "\n",
    "        return self.classifier(doc_vecs), None\n"
   ]
  },
  {
   "cell_type": "code",
   "execution_count": null,
   "metadata": {},
   "outputs": [],
   "source": [
    "device = torch.device(\"cpu\") \n",
    "model2 = HAN_NoA(embedding_matrix, num_classes=len(label_encoder.classes_))\n",
    "optimizer = torch.optim.Adam(model2.parameters(), lr=1e-3)\n",
    "criterion = torch.nn.NLLLoss()"
   ]
  },
  {
   "cell_type": "code",
   "execution_count": null,
   "metadata": {},
   "outputs": [],
   "source": [
    "epochs = 5\n",
    "best_val_f1 = 0\n",
    "patience = 5           \n",
    "epochs_without_improve = 0"
   ]
  },
  {
   "cell_type": "code",
   "execution_count": 45,
   "metadata": {},
   "outputs": [
    {
     "data": {
      "application/vnd.jupyter.widget-view+json": {
       "model_id": "9a4e3c6faf4e4ab8b3fbfe152095aebb",
       "version_major": 2,
       "version_minor": 0
      },
      "text/plain": [
       "  0%|          | 0/420 [00:00<?, ?it/s]"
      ]
     },
     "metadata": {},
     "output_type": "display_data"
    },
    {
     "data": {
      "application/vnd.jupyter.widget-view+json": {
       "model_id": "f9253e6f4a16464fa950b27e422dcdcc",
       "version_major": 2,
       "version_minor": 0
      },
      "text/plain": [
       "  0%|          | 0/420 [00:00<?, ?it/s]"
      ]
     },
     "metadata": {},
     "output_type": "display_data"
    },
    {
     "data": {
      "application/vnd.jupyter.widget-view+json": {
       "model_id": "f6bff91b44f34952bba55e1f24711a68",
       "version_major": 2,
       "version_minor": 0
      },
      "text/plain": [
       "  0%|          | 0/105 [00:00<?, ?it/s]"
      ]
     },
     "metadata": {},
     "output_type": "display_data"
    },
    {
     "name": "stdout",
     "output_type": "stream",
     "text": [
      "epoch: 0\n",
      "train_loss: 1.749504 | val_loss: 1.776935 | train_f1: 0.267728 | val_f1: 0.257590\n",
      "Modelo mejorado guardado.\n"
     ]
    },
    {
     "data": {
      "application/vnd.jupyter.widget-view+json": {
       "model_id": "272cf698b312411680b14441d717c6f4",
       "version_major": 2,
       "version_minor": 0
      },
      "text/plain": [
       "  0%|          | 0/420 [00:00<?, ?it/s]"
      ]
     },
     "metadata": {},
     "output_type": "display_data"
    },
    {
     "data": {
      "application/vnd.jupyter.widget-view+json": {
       "model_id": "c0502ffaa8134a2698fd48f2f5bc4016",
       "version_major": 2,
       "version_minor": 0
      },
      "text/plain": [
       "  0%|          | 0/420 [00:00<?, ?it/s]"
      ]
     },
     "metadata": {},
     "output_type": "display_data"
    },
    {
     "data": {
      "application/vnd.jupyter.widget-view+json": {
       "model_id": "0b3f227d9dbe45cbb17a2f69e3c4a6f3",
       "version_major": 2,
       "version_minor": 0
      },
      "text/plain": [
       "  0%|          | 0/105 [00:00<?, ?it/s]"
      ]
     },
     "metadata": {},
     "output_type": "display_data"
    },
    {
     "name": "stdout",
     "output_type": "stream",
     "text": [
      "epoch: 1\n",
      "train_loss: 1.113058 | val_loss: 1.256349 | train_f1: 0.543683 | val_f1: 0.483015\n",
      "Modelo mejorado guardado.\n"
     ]
    },
    {
     "data": {
      "application/vnd.jupyter.widget-view+json": {
       "model_id": "a627c9595b8b4210b6551c19c8eb7938",
       "version_major": 2,
       "version_minor": 0
      },
      "text/plain": [
       "  0%|          | 0/420 [00:00<?, ?it/s]"
      ]
     },
     "metadata": {},
     "output_type": "display_data"
    },
    {
     "data": {
      "application/vnd.jupyter.widget-view+json": {
       "model_id": "aad658ef0ce24021aca903711e73800c",
       "version_major": 2,
       "version_minor": 0
      },
      "text/plain": [
       "  0%|          | 0/420 [00:00<?, ?it/s]"
      ]
     },
     "metadata": {},
     "output_type": "display_data"
    },
    {
     "data": {
      "application/vnd.jupyter.widget-view+json": {
       "model_id": "326ea507aa5d4d8ca58c44d8ee581126",
       "version_major": 2,
       "version_minor": 0
      },
      "text/plain": [
       "  0%|          | 0/105 [00:00<?, ?it/s]"
      ]
     },
     "metadata": {},
     "output_type": "display_data"
    },
    {
     "name": "stdout",
     "output_type": "stream",
     "text": [
      "epoch: 2\n",
      "train_loss: 0.749720 | val_loss: 1.050016 | train_f1: 0.739991 | val_f1: 0.557959\n",
      "Modelo mejorado guardado.\n"
     ]
    },
    {
     "data": {
      "application/vnd.jupyter.widget-view+json": {
       "model_id": "4c32031b9ec64434a63628586872cc45",
       "version_major": 2,
       "version_minor": 0
      },
      "text/plain": [
       "  0%|          | 0/420 [00:00<?, ?it/s]"
      ]
     },
     "metadata": {},
     "output_type": "display_data"
    },
    {
     "data": {
      "application/vnd.jupyter.widget-view+json": {
       "model_id": "71c524db16b446dfac09f1fa1cc9371b",
       "version_major": 2,
       "version_minor": 0
      },
      "text/plain": [
       "  0%|          | 0/420 [00:00<?, ?it/s]"
      ]
     },
     "metadata": {},
     "output_type": "display_data"
    },
    {
     "data": {
      "application/vnd.jupyter.widget-view+json": {
       "model_id": "8b09748c4c954edb8a9b081c271f4117",
       "version_major": 2,
       "version_minor": 0
      },
      "text/plain": [
       "  0%|          | 0/105 [00:00<?, ?it/s]"
      ]
     },
     "metadata": {},
     "output_type": "display_data"
    },
    {
     "name": "stdout",
     "output_type": "stream",
     "text": [
      "epoch: 3\n",
      "train_loss: 0.522343 | val_loss: 1.025740 | train_f1: 0.859417 | val_f1: 0.614611\n",
      "Modelo mejorado guardado.\n"
     ]
    },
    {
     "data": {
      "application/vnd.jupyter.widget-view+json": {
       "model_id": "efe5d1c230a649eaadc1d6b6b4531b71",
       "version_major": 2,
       "version_minor": 0
      },
      "text/plain": [
       "  0%|          | 0/420 [00:00<?, ?it/s]"
      ]
     },
     "metadata": {},
     "output_type": "display_data"
    },
    {
     "data": {
      "application/vnd.jupyter.widget-view+json": {
       "model_id": "d16f04905f5544d5abe3f8ea3a831391",
       "version_major": 2,
       "version_minor": 0
      },
      "text/plain": [
       "  0%|          | 0/420 [00:00<?, ?it/s]"
      ]
     },
     "metadata": {},
     "output_type": "display_data"
    },
    {
     "data": {
      "application/vnd.jupyter.widget-view+json": {
       "model_id": "572d5b453f53481698bc8b5985589da4",
       "version_major": 2,
       "version_minor": 0
      },
      "text/plain": [
       "  0%|          | 0/105 [00:00<?, ?it/s]"
      ]
     },
     "metadata": {},
     "output_type": "display_data"
    },
    {
     "name": "stdout",
     "output_type": "stream",
     "text": [
      "epoch: 4\n",
      "train_loss: 0.325058 | val_loss: 1.086337 | train_f1: 0.906327 | val_f1: 0.651991\n",
      "Modelo mejorado guardado.\n"
     ]
    }
   ],
   "source": [
    "best_val_f1 = 0\n",
    "best_val_f1 = 0\n",
    "for epoch in range(epochs):\n",
    "    for data in tqdm(train_loader):\n",
    "        torch.cuda.empty_cache()\n",
    "        optimizer.zero_grad()\n",
    "        seq, seq_len, labels, _ = data\n",
    "        seq, labels = seq.to(device), labels.to(device)\n",
    "        output, _ = model2(seq, seq_len)\n",
    "        output = F.log_softmax(output, dim=1)\n",
    "        loss = criterion(output, labels)\n",
    "        loss.backward()\n",
    "        optimizer.step()\n",
    "\n",
    "    train_loss, train_f1= eval_model(model2, train_loader, criterion, device)\n",
    "    val_loss, val_f1 = eval_model(model2, val_loader, criterion, device)\n",
    "    print('epoch: %d'%(epoch))\n",
    "    print('train_loss: %5f | val_loss: %5f | train_f1: %5f | val_f1: %5f'%(train_loss, val_loss, train_f1, val_f1))\n",
    "    if val_f1 > best_val_f1:\n",
    "        best_val_f1 = val_f1\n",
    "        torch.save(model2.state_dict(), \"best_model_han_sin.pth\")\n",
    "        print(\"Modelo mejorado guardado.\")\n",
    "        epochs_without_improve = 0  # Resetea el contador\n",
    "    else:\n",
    "        epochs_without_improve += 1\n",
    "        print(f\"Sin mejora en F1. {epochs_without_improve}/{patience} intentos.\")\n",
    "\n",
    "        if epochs_without_improve >= patience:\n",
    "            print(\"No hubo mejora en las últimas épocas.\")\n",
    "            break"
   ]
  },
  {
   "cell_type": "code",
   "execution_count": 46,
   "metadata": {},
   "outputs": [
    {
     "name": "stderr",
     "output_type": "stream",
     "text": [
      "/var/folders/3r/fzd1rrd908j_nt0tr8b5tkfh0000gn/T/ipykernel_56520/2931031488.py:1: FutureWarning: You are using `torch.load` with `weights_only=False` (the current default value), which uses the default pickle module implicitly. It is possible to construct malicious pickle data which will execute arbitrary code during unpickling (See https://github.com/pytorch/pytorch/blob/main/SECURITY.md#untrusted-models for more details). In a future release, the default value for `weights_only` will be flipped to `True`. This limits the functions that could be executed during unpickling. Arbitrary objects will no longer be allowed to be loaded via this mode unless they are explicitly allowlisted by the user via `torch.serialization.add_safe_globals`. We recommend you start setting `weights_only=True` for any use case where you don't have full control of the loaded file. Please open an issue on GitHub for any issues related to this experimental feature.\n",
      "  model2.load_state_dict(torch.load(\"best_model_han_sin.pth\", map_location=device))\n"
     ]
    },
    {
     "data": {
      "text/plain": [
       "HAN_NoAttention(\n",
       "  (embedding): Embedding(973266, 100)\n",
       "  (word_gru): GRU(100, 50, batch_first=True, bidirectional=True)\n",
       "  (sent_gru): GRU(100, 50, batch_first=True, bidirectional=True)\n",
       "  (classifier): Linear(in_features=100, out_features=7, bias=True)\n",
       ")"
      ]
     },
     "execution_count": 46,
     "metadata": {},
     "output_type": "execute_result"
    }
   ],
   "source": [
    "model2.load_state_dict(torch.load(\"best_model_han_sin.pth\", map_location=device))\n",
    "model2.to(device)\n",
    "model2.eval()"
   ]
  },
  {
   "cell_type": "code",
   "execution_count": 69,
   "metadata": {},
   "outputs": [
    {
     "data": {
      "application/vnd.jupyter.widget-view+json": {
       "model_id": "fe5f4fb29be149b8860d0d2f4e81bb51",
       "version_major": 2,
       "version_minor": 0
      },
      "text/plain": [
       "  0%|          | 0/105 [00:00<?, ?it/s]"
      ]
     },
     "metadata": {},
     "output_type": "display_data"
    },
    {
     "name": "stdout",
     "output_type": "stream",
     "text": [
      "Evaluación final en validación:\n",
      "Loss: 1.0863 | F1 Score: 0.6520\n"
     ]
    }
   ],
   "source": [
    "val_loss2, val_f12 = eval_model(model2, val_loader, criterion, device)\n",
    "print(f\"Evaluación final en validación:\")\n",
    "print(f\"Loss: {val_loss2:.4f} | F1 Score: {val_f12:.4f}\")"
   ]
  },
  {
   "cell_type": "code",
   "execution_count": null,
   "metadata": {},
   "outputs": [],
   "source": []
  },
  {
   "cell_type": "markdown",
   "metadata": {},
   "source": []
  },
  {
   "cell_type": "markdown",
   "metadata": {},
   "source": []
  }
 ],
 "metadata": {
  "kernelspec": {
   "display_name": "Python 3",
   "language": "python",
   "name": "python3"
  },
  "language_info": {
   "codemirror_mode": {
    "name": "ipython",
    "version": 3
   },
   "file_extension": ".py",
   "mimetype": "text/x-python",
   "name": "python",
   "nbconvert_exporter": "python",
   "pygments_lexer": "ipython3",
   "version": "3.9.6"
  }
 },
 "nbformat": 4,
 "nbformat_minor": 2
}
