{
 "cells": [
  {
   "cell_type": "markdown",
   "id": "f1279ae3",
   "metadata": {},
   "source": [
    "# Em and hangman models\n",
    "\n",
    "It uses a language model based on unigrams (word frequencies) and a \"Hangman\"-type feature that allows you to predict words from missing letters."
   ]
  },
  {
   "cell_type": "code",
   "execution_count": 10,
   "id": "b5b8ed39",
   "metadata": {},
   "outputs": [],
   "source": [
    "from collections import Counter\n",
    "import random\n",
    "from itertools import product"
   ]
  },
  {
   "cell_type": "code",
   "execution_count": 11,
   "id": "88ffe0cd",
   "metadata": {},
   "outputs": [],
   "source": [
    "class EMInterpolatedNgramModel:\n",
    "    def __init__(self, lambda1=0.4, lambda2=0.3, lambda3=0.2, lambda4=0.1):\n",
    "        self.lambda1 = lambda1  \n",
    "        self.lambda2 = lambda2 \n",
    "        self.lambda3 = lambda3  \n",
    "        self.lambda4 = lambda4 \n",
    "        \n",
    "        self.unigram_counts = Counter()\n",
    "        self.vocab = set()\n",
    "        self.total_tokens = 0\n",
    "        self.V = 0\n",
    "    \n",
    "    def train(self, corpus):\n",
    "        for tokens in corpus:\n",
    "            self.total_tokens += len(tokens)\n",
    "            for w in tokens:\n",
    "                self.unigram_counts[w] += 1\n",
    "        \n",
    "        self.vocab = set(self.unigram_counts.keys())\n",
    "        self.V = len(self.vocab)\n",
    "    \n",
    "    def unigram_prob(self, w):\n",
    "        return (self.unigram_counts.get(w, 0) + 1) / (self.total_tokens + self.V)\n",
    "    \n",
    "    def hangman(self, incomplete_word, max_suggestions=5):\n",
    "        missing_indices = [i for i, char in enumerate(incomplete_word) if char == \"_\"]\n",
    "        possible_fills = product(\"abcdefghijklmnopqrstuvwxyz\", repeat=len(missing_indices))\n",
    "        candidates = []\n",
    "        for fill in possible_fills:\n",
    "            word_attempt = list(incomplete_word)\n",
    "            for idx, letter in zip(missing_indices, fill):\n",
    "                word_attempt[idx] = letter\n",
    "            candidate_word = \"\".join(word_attempt)\n",
    "            if candidate_word in self.vocab:\n",
    "                candidates.append((candidate_word, self.unigram_prob(candidate_word)))    \n",
    "        candidates.sort(key=lambda x: x[1], reverse=True)\n",
    "        return [word for word, _ in candidates[:max_suggestions]]\n",
    "    "
   ]
  },
  {
   "cell_type": "code",
   "execution_count": 12,
   "id": "c11e6cb1",
   "metadata": {},
   "outputs": [],
   "source": [
    "def split_data(corpus):\n",
    "    random.shuffle(corpus)\n",
    "    train_size = int(0.8 * len(corpus))\n",
    "    val_size = int(0.1 * len(corpus))\n",
    "    train = corpus[:train_size]\n",
    "    val = corpus[train_size:train_size + val_size]\n",
    "    test = corpus[train_size + val_size:]\n",
    "    return train, val, test"
   ]
  },
  {
   "cell_type": "code",
   "execution_count": 28,
   "id": "5b423d6c",
   "metadata": {},
   "outputs": [
    {
     "name": "stdout",
     "output_type": "stream",
     "text": [
      "Posibles palabras para pa_l_: ['paola']\n",
      "Posibles palabras para _dios: ['adios']\n",
      "Posibles palabras para it_li_: ['italia']\n"
     ]
    }
   ],
   "source": [
    "tokenized_corpus = [[\"adios\"],[\"paola\"], [\"italia\"], [\"example\"], [\"language\"], [\"science\"]]\n",
    "train, val, test = split_data(tokenized_corpus)\n",
    "model3 = EMInterpolatedNgramModel()\n",
    "model3.train(train)\n",
    "examples = [\"pa_l_\", \"_dios\", \"it_li_\"]\n",
    "for example in examples:\n",
    "    print(f\"Posibles palabras para {example}: {model3.hangman(example)}\")"
   ]
  },
  {
   "cell_type": "code",
   "execution_count": null,
   "id": "f30755aa",
   "metadata": {},
   "outputs": [],
   "source": []
  }
 ],
 "metadata": {
  "kernelspec": {
   "display_name": "Python 3",
   "language": "python",
   "name": "python3"
  },
  "language_info": {
   "codemirror_mode": {
    "name": "ipython",
    "version": 3
   },
   "file_extension": ".py",
   "mimetype": "text/x-python",
   "name": "python",
   "nbconvert_exporter": "python",
   "pygments_lexer": "ipython3",
   "version": "3.9.6"
  }
 },
 "nbformat": 4,
 "nbformat_minor": 5
}
