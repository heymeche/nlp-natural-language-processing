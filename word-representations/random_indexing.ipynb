{
 "cells": [
  {
   "cell_type": "markdown",
   "id": "adc41198",
   "metadata": {},
   "source": [
    "# Random Indexing"
   ]
  },
  {
   "cell_type": "markdown",
   "id": "24697cdf",
   "metadata": {},
   "source": [
    "**Random Indexing** is a way to represent words in a vector (similar to Word2Vec, but simpler and more efficient). It is based on:\n",
    "\n",
    "Give each word a random \"index\" vector with values of -1, 0, or 1.\n",
    "Putting these vectors together for each word based on its context (in this case, how often it appears together with other words in documents or tweets)."
   ]
  },
  {
   "cell_type": "code",
   "execution_count": 1,
   "id": "efe8f65f",
   "metadata": {},
   "outputs": [],
   "source": [
    "#importar librerias\n",
    "import nltk\n",
    "import numpy as np\n",
    "from nltk.tokenize import TweetTokenizer\n",
    "from sklearn.manifold import TSNE"
   ]
  },
  {
   "cell_type": "code",
   "execution_count": 1,
   "id": "96ce3995",
   "metadata": {},
   "outputs": [],
   "source": [
    "# 📌 This notebook assumes that corpus processing, tokenization and BoW construction was already performed on the notebook:\n",
    "# 👉 'feature-extraction/bag_of_words.ipynb'\n",
    "\n",
    "#The variables used here (such as `BoW_tr`, `tr_txt`, `V1`, `dict_indices1`) were built there.\n",
    "#If you want to re-run the pipeline from scratch, check that file first."
   ]
  },
  {
   "cell_type": "markdown",
   "id": "c0e93d0e",
   "metadata": {},
   "source": [
    "> 🔗 **Note:** The corpus loading, tokenization and construction of the Bag of Words is at\n",
    "> [`bag_of_words.ipynb`](./feature-extraction/bag_of_words.ipynb)"
   ]
  },
  {
   "cell_type": "code",
   "execution_count": 3,
   "id": "3c3c06a0",
   "metadata": {},
   "outputs": [],
   "source": [
    "def random_index(BoW, vocab, dimension=100):\n",
    "    \"\"\"Generates a random index matrix for words based on their co-occurrence in documents.\n",
    "\n",
    "    Args:\n",
    "        BoW (matrix): Bag-of-Words matrix where each row represent a document and each column a term.\n",
    "        vocab (matrix): Vocabulary list containing the terms corresponding to the columns of BoW.\n",
    "        dimension (int, optional): Dimension of the random index vectors. Defaults to 100.\n",
    "\n",
    "    Raises:\n",
    "        ValueError: If the length of the vocabulary does not match the number of terms in BoW.\n",
    "\n",
    "    Returns:\n",
    "        matrix: A matrix where each row represents a word vector in the specified dimension, normalized to unit length.\n",
    "    \"\"\"\n",
    "    docs, terms = BoW.shape\n",
    "    if len(vocab) != terms:\n",
    "        raise ValueError(\"The vocabulary doesn't match in dimension.\")\n",
    "\n",
    "    word_vec = np.zeros((terms, dimension))\n",
    "    index_vec = np.zeros((terms, dimension))\n",
    "\n",
    "    for i in range(terms):\n",
    "        index_vec[i] = np.random.choice([-1, 0, 1], size=dimension)\n",
    "\n",
    "    for doc in BoW:\n",
    "        idx = np.nonzero(doc)[0]  \n",
    "        for i in idx:\n",
    "            for word in idx:\n",
    "                word_vec[i] += index_vec[word]\n",
    "\n",
    "    norms = np.linalg.norm(word_vec, axis=1, keepdims=True)\n",
    "    reduced_matrix = word_vec / (norms + 1e-10)  \n",
    "\n",
    "    return reduced_matrix\n"
   ]
  },
  {
   "cell_type": "code",
   "execution_count": 4,
   "id": "c69658eb",
   "metadata": {},
   "outputs": [],
   "source": [
    "V = list(dict_indices1.keys())                               #length of the vocabulary\n",
    "reduced_matrixRI = random_index(BoW_tr, V, dimension=300)    \n",
    "tsne = TSNE(n_components=2, perplexity=30, random_state=42)  #reduce the dimensionality to a 2D space visualization\n",
    "reduced_matrixRI = tsne.fit_transform(reduced_matrixRI)      "
   ]
  }
 ],
 "metadata": {
  "kernelspec": {
   "display_name": "Python 3",
   "language": "python",
   "name": "python3"
  },
  "language_info": {
   "codemirror_mode": {
    "name": "ipython",
    "version": 3
   },
   "file_extension": ".py",
   "mimetype": "text/x-python",
   "name": "python",
   "nbconvert_exporter": "python",
   "pygments_lexer": "ipython3",
   "version": "3.9.6"
  }
 },
 "nbformat": 4,
 "nbformat_minor": 5
}
